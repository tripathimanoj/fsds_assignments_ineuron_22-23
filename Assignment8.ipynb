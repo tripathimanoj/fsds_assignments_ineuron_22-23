{
  "nbformat": 4,
  "nbformat_minor": 0,
  "metadata": {
    "colab": {
      "provenance": []
    },
    "kernelspec": {
      "name": "python3",
      "display_name": "Python 3"
    },
    "language_info": {
      "name": "python"
    }
  },
  "cells": [
    {
      "cell_type": "markdown",
      "source": [
        "1. Is the Python Standard Library included with PyInputPlus?\n",
        "2. Why is PyInputPlus commonly imported with import pyinputplus as pypi?\n",
        "3. How do you distinguish between inputInt() and inputFloat()?\n",
        "4. Using PyInputPlus, how do you ensure that the user enters a whole number between 0 and 99?\n",
        "5. What is transferred to the keyword arguments allowRegexes and blockRegexes?\n",
        "6. If a blank input is entered three times, what does inputStr(limit=3) do?\n",
        "7. If blank input is entered three times, what does inputStr(limit=3, default=&#39;hello&#39;) do?"
      ],
      "metadata": {
        "id": "XjHnK2LByk_2"
      }
    },
    {
      "cell_type": "markdown",
      "source": [
        "1:\n",
        "No, the Python Standard Library is separate from PyInputPlus."
      ],
      "metadata": {
        "id": "H0kzEQtuypUM"
      }
    },
    {
      "cell_type": "markdown",
      "source": [
        "2: PyInputPlus is commonly imported with `import pyinputplus as pypi` to provide a shorter and easier alias for the module name. It allows developers to use a more concise name when calling PyInputPlus functions, making their code cleaner and more readable."
      ],
      "metadata": {
        "id": "LbVt6r-Xypc0"
      }
    },
    {
      "cell_type": "markdown",
      "source": [
        "3: \n",
        "inputInt(): used to take input value only integer numbers are allowed, otherwise it will raise TypeError.\n",
        "\n",
        "inputFloat(): used to take input values as in float as well as interger form , otherwise it will raise TypeError."
      ],
      "metadata": {
        "id": "GhbUEkTQypkl"
      }
    },
    {
      "cell_type": "code",
      "source": [
        "# sol 4\n",
        "!pip install pyinputplus\n",
        "import pyinputplus as pypi\n",
        "\n",
        "number = pypi.inputInt(prompt=\"Enter a number between 0 and 99: \", min=0, max=99)\n"
      ],
      "metadata": {
        "colab": {
          "base_uri": "https://localhost:8080/"
        },
        "id": "JWGCD6nr0OWk",
        "outputId": "7c817718-b622-41ea-e0c3-e2b9257d7f28"
      },
      "execution_count": 3,
      "outputs": [
        {
          "name": "stdout",
          "output_type": "stream",
          "text": [
            "Looking in indexes: https://pypi.org/simple, https://us-python.pkg.dev/colab-wheels/public/simple/\n",
            "Requirement already satisfied: pyinputplus in /usr/local/lib/python3.10/dist-packages (0.2.12)\n",
            "Requirement already satisfied: pysimplevalidate>=0.2.7 in /usr/local/lib/python3.10/dist-packages (from pyinputplus) (0.2.12)\n",
            "Requirement already satisfied: stdiomask>=0.0.3 in /usr/local/lib/python3.10/dist-packages (from pyinputplus) (0.0.6)\n",
            "Enter a number between 0 and 99: 110\n",
            "Number must be at maximum 99.\n",
            "Enter a number between 0 and 99: 20\n"
          ]
        }
      ]
    },
    {
      "cell_type": "markdown",
      "source": [
        "5:\n",
        "The keyword arguments `allowRegexes` and `blockRegexes` in PyInputPlus are lists of regular expressions that determine which inputs are allowed or blocked. \n",
        "\n",
        "`allowRegexes` specifies a list of regular expressions that a valid input should match. If the input doesn't match any of the regular expressions in the list, it will be rejected.\n",
        "\n",
        "`blockRegexes` specifies a list of regular expressions that a valid input should not match. If the input matches any of the regular expressions in the list, it will be rejected. \n",
        "\n",
        "These arguments allow the developer to have more control over the type of inputs allowed or blocked, beyond just data type or range restrictions."
      ],
      "metadata": {
        "id": "6uPgiLFiyp20"
      }
    },
    {
      "cell_type": "markdown",
      "source": [
        "6:\n",
        "If a blank input is entered three times while using the inputStr(limit=3) function from PyInputPlus, it raises a TimeoutException."
      ],
      "metadata": {
        "id": "fvitAfBqyp9M"
      }
    },
    {
      "cell_type": "markdown",
      "source": [
        "7:\n",
        "\n",
        "If blank input is entered three times and inputStr(limit=3, default='hello') is used, the function will return the default value 'hello'"
      ],
      "metadata": {
        "id": "zTG6VjsVyqBc"
      }
    }
  ]
}