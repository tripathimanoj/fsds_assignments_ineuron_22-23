{
 "cells": [
  {
   "cell_type": "raw",
   "id": "235c6231",
   "metadata": {},
   "source": [
    "1. Write a Python Program to Find the Factorial of a Number?\n",
    "2. Write a Python Program to Display the multiplication Table?\n",
    "3. Write a Python Program to Print the Fibonacci sequence?\n",
    "4. Write a Python Program to Check Armstrong Number?\n",
    "5. Write a Python Program to Find Armstrong Number in an Interval?\n",
    "6. Write a Python Program to Find the Sum of Natural Numbers?"
   ]
  },
  {
   "cell_type": "code",
   "execution_count": 1,
   "id": "2e88f1ef",
   "metadata": {},
   "outputs": [
    {
     "name": "stdout",
     "output_type": "stream",
     "text": [
      "Enter a number: 10\n"
     ]
    },
    {
     "data": {
      "text/plain": [
       "('The factorial of', 10, 'is', 3628800)"
      ]
     },
     "execution_count": 1,
     "metadata": {},
     "output_type": "execute_result"
    }
   ],
   "source": [
    "# 1\n",
    "def fact(num):\n",
    "    \n",
    "    factorial = 1\n",
    "    if num < 0:\n",
    "        return \"Enter Positive numbers\"\n",
    "    elif num == 0:\n",
    "       return \"Factorial of 0 is 1\"\n",
    "    else:\n",
    "       for i in range(1,num + 1):\n",
    "           factorial = factorial*i\n",
    "       return \"The factorial of\",num,\"is\",factorial\n",
    "\n",
    "fact(int(input(\"Enter a number: \")))\n"
   ]
  },
  {
   "cell_type": "code",
   "execution_count": null,
   "id": "fa0de38a",
   "metadata": {},
   "outputs": [],
   "source": []
  },
  {
   "cell_type": "code",
   "execution_count": 2,
   "id": "20e419cc",
   "metadata": {},
   "outputs": [
    {
     "name": "stdout",
     "output_type": "stream",
     "text": [
      "Enter the number: 5\n"
     ]
    },
    {
     "data": {
      "text/plain": [
       "[5, 10, 15, 20, 25, 30, 35, 40, 45, 50]"
      ]
     },
     "execution_count": 2,
     "metadata": {},
     "output_type": "execute_result"
    }
   ],
   "source": [
    "# 2\n",
    "def mul_table(num):\n",
    "    t_array=[]\n",
    "    for i in range(1,11):\n",
    "        t_array.append(num*i)\n",
    "    return t_array\n",
    "mul_table(int(input(\"Enter the number: \")))"
   ]
  },
  {
   "cell_type": "code",
   "execution_count": null,
   "id": "a3c35361",
   "metadata": {},
   "outputs": [],
   "source": []
  },
  {
   "cell_type": "code",
   "execution_count": 3,
   "id": "f6caf51b",
   "metadata": {},
   "outputs": [
    {
     "name": "stdout",
     "output_type": "stream",
     "text": [
      "Enter a upto number: 15\n",
      "Fibonacci sequence:\n",
      "0\n",
      "1\n",
      "1\n",
      "2\n",
      "3\n",
      "5\n",
      "8\n",
      "13\n",
      "21\n",
      "34\n",
      "55\n",
      "89\n",
      "144\n",
      "233\n",
      "377\n"
     ]
    }
   ],
   "source": [
    "# 3\n",
    "def fibonacci(nterms):\n",
    "\n",
    "    n1, n2 = 0, 1\n",
    "    count = 0\n",
    "    if nterms <= 0:\n",
    "       print(\"Please enter a positive integer\")\n",
    "    # if there is only one term, return n1\n",
    "    elif nterms == 1:\n",
    "       print(\"Fibonacci sequence upto\",nterms,\":\")\n",
    "       print(n1)\n",
    "    else:\n",
    "       print(\"Fibonacci sequence:\")\n",
    "       while count < nterms:\n",
    "           print(n1)\n",
    "           nth = n1 + n2\n",
    "           # update values\n",
    "           n1 = n2\n",
    "           n2 = nth\n",
    "           count += 1\n",
    "fibonacci(int(input(\"Enter a upto number: \")))"
   ]
  },
  {
   "cell_type": "code",
   "execution_count": 4,
   "id": "7827900a",
   "metadata": {},
   "outputs": [
    {
     "name": "stdout",
     "output_type": "stream",
     "text": [
      "Enter a number: 2023\n",
      "2023 is not an Armstrong number\n"
     ]
    }
   ],
   "source": [
    "# 4\n",
    "# take input from the user\n",
    "def armstrongnum(num):\n",
    "\n",
    "    # initialize sum\n",
    "    sum = 0\n",
    "\n",
    "    # find the sum of the cube of each digit\n",
    "    temp = num\n",
    "    while temp > 0:\n",
    "       digit = temp % 10\n",
    "       sum += digit ** 3\n",
    "       temp //= 10\n",
    "\n",
    "    # display the result\n",
    "    if num == sum:\n",
    "       print(num,\"is an Armstrong number\")\n",
    "    else:\n",
    "       print(num,\"is not an Armstrong number\")\n",
    "    \n",
    "armstrongnum(int(input(\"Enter a number: \")))\n"
   ]
  },
  {
   "cell_type": "code",
   "execution_count": 5,
   "id": "8bcfe49d",
   "metadata": {},
   "outputs": [
    {
     "name": "stdout",
     "output_type": "stream",
     "text": [
      "Enter lower range: 100\n",
      "Enter upper range: 1000\n",
      "153\n",
      "370\n",
      "371\n",
      "407\n"
     ]
    }
   ],
   "source": [
    "# 5\n",
    "def arms_in_range(lower,upper):\n",
    "    for num in range(lower,upper + 1):\n",
    "       # initialize sum\n",
    "       sum = 0\n",
    "\n",
    "       # find the sum of the cube of each digit\n",
    "       temp = num\n",
    "       while temp > 0:\n",
    "           digit = temp % 10\n",
    "           sum += digit ** 3\n",
    "           temp //= 10\n",
    "\n",
    "       if num == sum:\n",
    "           print(num)\n",
    "lower = int(input(\"Enter lower range: \"))\n",
    "upper = int(input(\"Enter upper range: \"))\n",
    "arms_in_range(lower,upper)"
   ]
  },
  {
   "cell_type": "code",
   "execution_count": 6,
   "id": "b8f4f515",
   "metadata": {},
   "outputs": [
    {
     "name": "stdout",
     "output_type": "stream",
     "text": [
      "Sum of natural numbers up to num: 15\n",
      "The sum is 120\n"
     ]
    }
   ],
   "source": [
    "# 6\n",
    "def nnumber_sum(num):\n",
    "    if num < 0:\n",
    "       print(\"Enter a positive number\")\n",
    "    else:\n",
    "       sum = 0\n",
    "       # use while loop to iterate until zero\n",
    "       while(num > 0):\n",
    "           sum += num\n",
    "           num -= 1\n",
    "       print(\"The sum is\", sum)\n",
    "nnumber_sum(int(input(\"Sum of natural numbers up to num: \")))"
   ]
  },
  {
   "cell_type": "raw",
   "id": "694b4b2e",
   "metadata": {},
   "source": [
    "------- end --------"
   ]
  }
 ],
 "metadata": {
  "kernelspec": {
   "display_name": "Python 3 (ipykernel)",
   "language": "python",
   "name": "python3"
  },
  "language_info": {
   "codemirror_mode": {
    "name": "ipython",
    "version": 3
   },
   "file_extension": ".py",
   "mimetype": "text/x-python",
   "name": "python",
   "nbconvert_exporter": "python",
   "pygments_lexer": "ipython3",
   "version": "3.9.12"
  }
 },
 "nbformat": 4,
 "nbformat_minor": 5
}
