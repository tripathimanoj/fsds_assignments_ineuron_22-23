{
  "nbformat": 4,
  "nbformat_minor": 0,
  "metadata": {
    "colab": {
      "provenance": []
    },
    "kernelspec": {
      "name": "python3",
      "display_name": "Python 3"
    },
    "language_info": {
      "name": "python"
    }
  },
  "cells": [
    {
      "cell_type": "markdown",
      "source": [
        "1. In what modes should the PdfFileReader() and PdfFileWriter() File objects will be opened?\n",
        "2. From a PdfFileReader object, how do you get a Page object for page 5?\n",
        "3. What PdfFileReader variable stores the number of pages in the PDF document?\n",
        "4. If a PdfFileReader object’s PDF is encrypted with the password swordfish, what must you do\n",
        "before you can obtain Page objects from it?\n",
        "5. What methods do you use to rotate a page?\n",
        "6. What is the difference between a Run object and a Paragraph object?\n",
        "7. How do you obtain a list of Paragraph objects for a Document object that’s stored in a variable\n",
        "named doc?\n",
        "8. What type of object has bold, underline, italic, strike, and outline variables?\n",
        "9. What is the difference between False, True, and None for the bold variable?\n",
        "10. How do you create a Document object for a new Word document?\n",
        "11. How do you add a paragraph with the text &#39;Hello, there!&#39; to a Document object stored in a\n",
        "variable named doc?\n",
        "12. What integers represent the levels of headings available in Word documents?"
      ],
      "metadata": {
        "id": "mO1q_z1yQ1GU"
      }
    },
    {
      "cell_type": "markdown",
      "source": [
        "sol 1:\n",
        "Both `PdfFileReader()` and `PdfFileWriter()` File objects should be opened in binary mode, using the `'rb'` and `'wb'` modes respectively."
      ],
      "metadata": {
        "id": "bf_O4BJDRcg2"
      }
    },
    {
      "cell_type": "code",
      "source": [
        "#sol 2:\n",
        "\n",
        "'''!pip install PyPDF2*\n",
        "pdf_reader = PyPDF2.PdfFileReader(open('example.pdf', 'rb'))\n",
        "page = pdf_reader.getPage(4)'''\n"
      ],
      "metadata": {
        "colab": {
          "base_uri": "https://localhost:8080/",
          "height": 35
        },
        "id": "B6mTgYPdQ1_a",
        "outputId": "0be58e16-0cab-4805-b1bf-2fe0b740aafa"
      },
      "execution_count": 6,
      "outputs": [
        {
          "output_type": "execute_result",
          "data": {
            "text/plain": [
              "\"!pip install PyPDF2*\\npdf_reader = PyPDF2.PdfFileReader(open('example.pdf', 'rb'))\\npage = pdf_reader.getPage(4)\""
            ],
            "application/vnd.google.colaboratory.intrinsic+json": {
              "type": "string"
            }
          },
          "metadata": {},
          "execution_count": 6
        }
      ]
    },
    {
      "cell_type": "markdown",
      "source": [
        "sol 3:\n",
        "The `numPages` variable stores the number of pages in the PDF document."
      ],
      "metadata": {
        "id": "KdBMcnyKSrAn"
      }
    },
    {
      "cell_type": "markdown",
      "source": [
        "sol 4:\n",
        "First we can get Page objects from a PdfFileReader object's encrypted PDF that uses the password \"swordfish,\" you must call its decrypt() method and pass the password as a string argument. The decrypt() method returns True if the password was correct and the PDF was decrypted successfully, or False if the password was incorrect."
      ],
      "metadata": {
        "id": "BUyiac9bSz3w"
      }
    },
    {
      "cell_type": "markdown",
      "source": [
        "sol 5:\n",
        "To rotate a page in PyPDF2, you can use the `rotateClockwise()` and `rotateCounterClockwise()` methods of the `PageObject` class. The `rotateClockwise()` method rotates the page 90 degrees clockwise, and the `rotateCounterClockwise()` method rotates the page 90 degrees counterclockwise. Both methods return a new `PageObject` that has been rotated."
      ],
      "metadata": {
        "id": "FpWThRDMTHMS"
      }
    },
    {
      "cell_type": "markdown",
      "source": [
        "sol 6:\n",
        "Using the python-docx library, a Paragraph object represents a single paragraph in the document, while a Run object represents a contiguous run of text within a paragraph that has a common set of character properties. A Paragraph object can contain one or more Run objects."
      ],
      "metadata": {
        "id": "eaBvcy2QTHt6"
      }
    },
    {
      "cell_type": "markdown",
      "source": [
        "We can obtain a list of Paragraph objects for a Document object stored in the variable named `doc` by using the `doc.paragraphs` attribute. For example:\n",
        "\n",
        "```\n",
        "doc = Document('example.docx')\n",
        "paragraphs = doc.paragraphs\n",
        "```\n",
        "\n",
        "This will create a `Document` object from the file `example.docx` and assign a list of `Paragraph` objects to the `paragraphs` variable."
      ],
      "metadata": {
        "id": "Slb4higRTrEm"
      }
    },
    {
      "cell_type": "markdown",
      "source": [
        "sol 7:\n",
        "\n",
        "We can obtain a list of Paragraph objects for a Document object stored in a variable named `doc` by using the `doc.paragraphs` attribute. For example:\n",
        "\n",
        "```\n",
        "paragraphs = doc.paragraphs\n",
        "```\n",
        "\n",
        "This will return a list of all Paragraph objects in the Document object."
      ],
      "metadata": {
        "id": "ua-PiF80TrlG"
      }
    },
    {
      "cell_type": "markdown",
      "source": [
        "sol 8:\n",
        "\n",
        "The `Run` object has bold, underline, italic, strike, and outline variables."
      ],
      "metadata": {
        "id": "JCB98B-7URtx"
      }
    },
    {
      "cell_type": "markdown",
      "source": [
        "sol 9:\n",
        "\n",
        "The `bold` variable is a Boolean attribute of a `Font` object in Python's `docx` module that determines whether the text is displayed in bold or not. \n",
        "\n",
        "- `False`: The text is not bold.\n",
        "- `True`: The text is bold.\n",
        "- `None`: The text will inherit the bold property from the style of the parent object."
      ],
      "metadata": {
        "id": "eQZFi8fcUScJ"
      }
    },
    {
      "cell_type": "markdown",
      "source": [
        "sol 10:\n",
        "\n",
        "To create a `Document` object for a new Word document in Python, you can use the `docx` module's `Document()` constructor without any arguments. Here is an example:\n",
        "\n",
        "```\n",
        "from docx import Document\n",
        "\n",
        "document = Document()\n",
        "```\n",
        "\n",
        "This creates a new Word document with an empty body. You can then add content to the document using various methods provided by the `Document` class."
      ],
      "metadata": {
        "id": "q2mtd8xFWJlG"
      }
    },
    {
      "cell_type": "markdown",
      "source": [
        "sol 11:\n",
        "\n",
        "You can add a paragraph with the text 'Hello, there!' to a Document object stored in a variable named doc using the following code:\n",
        "\n",
        "```\n",
        "from docx import Document\n",
        "\n",
        "doc = Document()\n",
        "doc.add_paragraph('Hello, there!')\n",
        "```\n",
        "\n",
        "This will add a new paragraph with the specified text to the document."
      ],
      "metadata": {
        "id": "zFxc4U3hWUd_"
      }
    },
    {
      "cell_type": "markdown",
      "source": [
        "sol 12:\n",
        "\n",
        "In Word documents, the following integers represent the levels of headings:\n",
        "\n",
        "Heading 1: 0\n",
        "Heading 2: 1\n",
        "Heading 3: 2\n",
        "Heading 4: 3\n",
        "Heading 5: 4\n",
        "Heading 6: 5\n",
        "Heading 7: 6\n",
        "Heading 8: 7\n",
        "Heading 9: 8\n",
        "integer represents the index of the heading style in the list of available styles in a Word document."
      ],
      "metadata": {
        "id": "Jq3jtk53Wvde"
      }
    },
    {
      "cell_type": "code",
      "source": [],
      "metadata": {
        "id": "LMlYzXB4W4Tx"
      },
      "execution_count": null,
      "outputs": []
    }
  ]
}