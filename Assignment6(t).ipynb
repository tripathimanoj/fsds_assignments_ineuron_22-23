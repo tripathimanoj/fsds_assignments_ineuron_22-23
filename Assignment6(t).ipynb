{
  "nbformat": 4,
  "nbformat_minor": 0,
  "metadata": {
    "colab": {
      "provenance": []
    },
    "kernelspec": {
      "name": "python3",
      "display_name": "Python 3"
    },
    "language_info": {
      "name": "python"
    }
  },
  "cells": [
    {
      "cell_type": "code",
      "execution_count": null,
      "metadata": {
        "id": "AHxAoHBET26v"
      },
      "outputs": [],
      "source": []
    },
    {
      "cell_type": "markdown",
      "source": [
        "1. What are escape characters, and how do you use them?\n",
        "2. What do the escape characters n and t stand for?\n",
        "3. What is the way to include backslash characters in a string?\n",
        "4. The string &quot;Howl&#39;s Moving Castle&quot; is a correct value. Why isn&#39;t the single quote character in the\n",
        "word Howl&#39;s not escaped a problem?\n",
        "5. How do you write a string of newlines if you don&#39;t want to use the n character?\n",
        "6. What are the values of the given expressions?\n",
        "&#39;Hello, world!&#39;[1]\n",
        "&#39;Hello, world!&#39;[0:5]\n",
        "&#39;Hello, world!&#39;[:5]\n",
        "&#39;Hello, world!&#39;[3:]\n",
        "\n",
        "7. What are the values of the following expressions?\n",
        "&#39;Hello&#39;.upper()\n",
        "&#39;Hello&#39;.upper().isupper()\n",
        "&#39;Hello&#39;.upper().lower()\n",
        "8. What are the values of the following expressions?\n",
        "&#39;Remember, remember, the fifth of July.&#39;.split()\n",
        "&#39;-&#39;.join(&#39;There can only one.&#39;.split())\n",
        "9. What are the methods for right-justifying, left-justifying, and centering a string?\n",
        "10. What is the best way to remove whitespace characters from the start or end?"
      ],
      "metadata": {
        "id": "3T_n5N3PT8_4"
      }
    },
    {
      "cell_type": "code",
      "source": [
        "'''\n",
        "\n",
        "1\n",
        "Escape characters are characters that are used to represent certain special characters in a string, and they are indicated by a backslash (\\) followed by a character or sequence of characters. \n",
        "'''\n",
        "print(\"She said, \\\"Hello!\\\"\\nI replied, \\\"Hi!\\\"\\tHow are you?\")\n",
        "\n"
      ],
      "metadata": {
        "colab": {
          "base_uri": "https://localhost:8080/"
        },
        "id": "Wk-PolrPT-Pg",
        "outputId": "bf2e3264-1419-4357-ddf7-30c3dd15efee"
      },
      "execution_count": 2,
      "outputs": [
        {
          "output_type": "stream",
          "name": "stdout",
          "text": [
            "She said, \"Hello!\"\n",
            "I replied, \"Hi!\"\tHow are you?\n"
          ]
        }
      ]
    },
    {
      "cell_type": "code",
      "source": [
        "'''\n",
        "\n",
        "2\n",
        "In Python and many other programming languages, the escape character \\n stands for a newline, and \\t stands for a horizontal tab. \n",
        "'''"
      ],
      "metadata": {
        "colab": {
          "base_uri": "https://localhost:8080/",
          "height": 35
        },
        "id": "zBkvvgTXUSEs",
        "outputId": "d87f06af-7552-4f7d-c7c5-67c0c433af9f"
      },
      "execution_count": 3,
      "outputs": [
        {
          "output_type": "execute_result",
          "data": {
            "text/plain": [
              "'\\n2\\nIn Python and many other programming languages, the escape character \\n stands for a newline, and \\t stands for a horizontal tab. \\n'"
            ],
            "application/vnd.google.colaboratory.intrinsic+json": {
              "type": "string"
            }
          },
          "metadata": {},
          "execution_count": 3
        }
      ]
    },
    {
      "cell_type": "markdown",
      "source": [
        "'''\n",
        "3\n",
        "\n",
        "way1:    path = 'C:\\\\Users\\\\Username\\\\Documents'\n",
        "\n",
        "way2:    path = r'C:\\Users\\Username\\Documents'\n",
        "\n",
        "'''"
      ],
      "metadata": {
        "id": "fOIEcWvOVY7_"
      }
    },
    {
      "cell_type": "code",
      "source": [
        "'''\n",
        "4\n",
        "\n",
        "The single quote character in the word Howl's is not a problem because the entire string is enclosed in double quotes. In Python, a string enclosed in double quotes can contain single quote characters \n",
        "without being escaped and vice versa. This is useful because it allows us to easily create strings that contain apostrophes or quotation marks without having to escape them.\n",
        "'''"
      ],
      "metadata": {
        "colab": {
          "base_uri": "https://localhost:8080/",
          "height": 53
        },
        "id": "vNQV79mYVfK2",
        "outputId": "6c5e356d-112d-4338-94e7-82cd2e11e760"
      },
      "execution_count": 7,
      "outputs": [
        {
          "output_type": "execute_result",
          "data": {
            "text/plain": [
              "\"\\n4\\n\\nThe single quote character in the word Howl's is not a problem because the entire string is enclosed in double quotes. In Python, a string enclosed in double quotes can contain single quote characters \\nwithout being escaped and vice versa. This is useful because it allows us to easily create strings that contain apostrophes or quotation marks without having to escape them.\\n\""
            ],
            "application/vnd.google.colaboratory.intrinsic+json": {
              "type": "string"
            }
          },
          "metadata": {},
          "execution_count": 7
        }
      ]
    },
    {
      "cell_type": "code",
      "source": [
        "'''\n",
        "5\n",
        "One way to write a string of newlines without using the '\\n' character is by using triple quotes and pressing the Enter key to start a new line. For example:\n",
        "\n",
        "string_with_newlines = \"\"\"This string\n",
        "has multiple\n",
        "lines.\"\"\"\n",
        "\n",
        "In this example, the string `string_with_newlines` contains three lines of text, with newline characters automatically added at the end of each line.\n",
        "'''"
      ],
      "metadata": {
        "colab": {
          "base_uri": "https://localhost:8080/",
          "height": 53
        },
        "id": "7sv_ks47V4wH",
        "outputId": "125b6292-0ea3-4bdf-fc5c-2592563f85d0"
      },
      "execution_count": 8,
      "outputs": [
        {
          "output_type": "execute_result",
          "data": {
            "text/plain": [
              "'\\n5\\nOne way to write a string of newlines without using the \\'\\n\\' character is by using triple quotes and pressing the Enter key to start a new line. For example:\\n\\nstring_with_newlines = \"\"\"This string\\nhas multiple\\nlines.\"\"\"\\n\\nIn this example, the string `string_with_newlines` contains three lines of text, with newline characters automatically added at the end of each line.\\n'"
            ],
            "application/vnd.google.colaboratory.intrinsic+json": {
              "type": "string"
            }
          },
          "metadata": {},
          "execution_count": 8
        }
      ]
    },
    {
      "cell_type": "code",
      "source": [
        "'''\n",
        "6\n",
        "\n",
        "'Hello, world!'[1]` returns `'e'`\n",
        "'Hello, world!'[0:5]` returns `'Hello'`\n",
        "'Hello, world!'[:5]` also returns `'Hello'`\n",
        "'Hello, world!'[3:]` returns `'lo, world!'`\n",
        "'''"
      ],
      "metadata": {
        "colab": {
          "base_uri": "https://localhost:8080/",
          "height": 35
        },
        "id": "Arq5s_vZWL8H",
        "outputId": "758e3c2c-610b-4dbe-b442-ff7515243782"
      },
      "execution_count": 9,
      "outputs": [
        {
          "output_type": "execute_result",
          "data": {
            "text/plain": [
              "\"\\n6\\n\\n'Hello, world!'[1]` returns `'e'`\\n'Hello, world!'[0:5]` returns `'Hello'`\\n'Hello, world!'[:5]` also returns `'Hello'`\\n'Hello, world!'[3:]` returns `'lo, world!'`\\n\""
            ],
            "application/vnd.google.colaboratory.intrinsic+json": {
              "type": "string"
            }
          },
          "metadata": {},
          "execution_count": 9
        }
      ]
    },
    {
      "cell_type": "code",
      "source": [
        "'''\n",
        "7\n",
        "\n",
        "The values of the following expressions are:\n",
        "\n",
        "'Hello'.upper()`              returns 'HELLO'\n",
        "'Hello'.upper().isupper()`    returns True\n",
        "'Hello'.upper().lower()`      returns 'hello'\n",
        "'''"
      ],
      "metadata": {
        "colab": {
          "base_uri": "https://localhost:8080/",
          "height": 35
        },
        "id": "KmPvPKYPWiH3",
        "outputId": "56264f6a-c3e3-4f88-d188-99268780f1ee"
      },
      "execution_count": 11,
      "outputs": [
        {
          "output_type": "execute_result",
          "data": {
            "text/plain": [
              "\"\\n7\\n\\nThe values of the following expressions are:\\n\\n'Hello'.upper()`              returns 'HELLO'\\n'Hello'.upper().isupper()`    returns True\\n'Hello'.upper().lower()`      returns 'hello'\\n\""
            ],
            "application/vnd.google.colaboratory.intrinsic+json": {
              "type": "string"
            }
          },
          "metadata": {},
          "execution_count": 11
        }
      ]
    },
    {
      "cell_type": "code",
      "source": [
        "'''\n",
        "8\n",
        "\n",
        "'There-can-only-one.'\n",
        "'''"
      ],
      "metadata": {
        "colab": {
          "base_uri": "https://localhost:8080/",
          "height": 35
        },
        "id": "dVhzWri9W5Un",
        "outputId": "b6781b40-14ac-4703-8a5e-8c7865aa9a3c"
      },
      "execution_count": 12,
      "outputs": [
        {
          "output_type": "execute_result",
          "data": {
            "text/plain": [
              "\"\\n8\\n\\n'There-can-only-one.'\\n\""
            ],
            "application/vnd.google.colaboratory.intrinsic+json": {
              "type": "string"
            }
          },
          "metadata": {},
          "execution_count": 12
        }
      ]
    },
    {
      "cell_type": "code",
      "source": [
        "'''\n",
        "9\n",
        "\n",
        "The `rjust()`, `ljust()`, and `center()` methods can be used to right-justify, left-justify, and center a string, respectively.\n",
        "\n",
        "- `rjust(width, fillchar)` returns a right-justified version of the string with a total width of `width`. The padding character used to fill the empty space on the left side of the string is `fillchar`, which defaults to a space character if not specified.\n",
        "\n",
        "- `ljust(width, fillchar)` returns a left-justified version of the string with a total width of `width`. The padding character used to fill the empty space on the right side of the string is `fillchar`, which defaults to a space character if not specified.\n",
        "\n",
        "- `center(width, fillchar)` returns a centered version of the string with a total width of `width`. The padding character used to fill the empty space on the left and right sides of the string is `fillchar`, which defaults to a space character if not specified.\n",
        "\n",
        "'''"
      ],
      "metadata": {
        "colab": {
          "base_uri": "https://localhost:8080/",
          "height": 87
        },
        "id": "2xyxwPHnXPgY",
        "outputId": "ebc0934e-73f3-4510-b510-90bc2e6660fe"
      },
      "execution_count": 13,
      "outputs": [
        {
          "output_type": "execute_result",
          "data": {
            "text/plain": [
              "'\\n9\\n\\nThe `rjust()`, `ljust()`, and `center()` methods can be used to right-justify, left-justify, and center a string, respectively.\\n\\n- `rjust(width, fillchar)` returns a right-justified version of the string with a total width of `width`. The padding character used to fill the empty space on the left side of the string is `fillchar`, which defaults to a space character if not specified.\\n\\n- `ljust(width, fillchar)` returns a left-justified version of the string with a total width of `width`. The padding character used to fill the empty space on the right side of the string is `fillchar`, which defaults to a space character if not specified.\\n\\n- `center(width, fillchar)` returns a centered version of the string with a total width of `width`. The padding character used to fill the empty space on the left and right sides of the string is `fillchar`, which defaults to a space character if not specified.\\n\\n'"
            ],
            "application/vnd.google.colaboratory.intrinsic+json": {
              "type": "string"
            }
          },
          "metadata": {},
          "execution_count": 13
        }
      ]
    },
    {
      "cell_type": "code",
      "source": [
        "'''\n",
        "10\n",
        "\n",
        "The best way to remove whitespace characters from the start or end of a string is by using the `strip()` method. This method returns a new string with all leading and trailing whitespace characters removed. \n",
        "If you only want to remove whitespace characters from the start, you can use the `lstrip()` method. If you only want to remove whitespace characters from the end, you can use the `rstrip()` method.\n",
        "'''"
      ],
      "metadata": {
        "colab": {
          "base_uri": "https://localhost:8080/",
          "height": 53
        },
        "id": "c3brsHiOXsEo",
        "outputId": "ce5d17ea-db9f-4ef0-9a55-747a9b516e21"
      },
      "execution_count": 14,
      "outputs": [
        {
          "output_type": "execute_result",
          "data": {
            "text/plain": [
              "'\\n10\\n\\nThe best way to remove whitespace characters from the start or end of a string is by using the `strip()` method. This method returns a new string with all leading and trailing whitespace characters removed. \\nIf you only want to remove whitespace characters from the start, you can use the `lstrip()` method. If you only want to remove whitespace characters from the end, you can use the `rstrip()` method.\\n'"
            ],
            "application/vnd.google.colaboratory.intrinsic+json": {
              "type": "string"
            }
          },
          "metadata": {},
          "execution_count": 14
        }
      ]
    },
    {
      "cell_type": "code",
      "source": [],
      "metadata": {
        "id": "zWGCwt_vX6mI"
      },
      "execution_count": null,
      "outputs": []
    }
  ]
}