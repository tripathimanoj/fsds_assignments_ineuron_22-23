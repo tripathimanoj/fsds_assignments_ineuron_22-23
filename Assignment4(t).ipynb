{
  "nbformat": 4,
  "nbformat_minor": 0,
  "metadata": {
    "colab": {
      "provenance": []
    },
    "kernelspec": {
      "name": "python3",
      "display_name": "Python 3"
    },
    "language_info": {
      "name": "python"
    }
  },
  "cells": [
    {
      "cell_type": "code",
      "execution_count": 1,
      "metadata": {
        "colab": {
          "base_uri": "https://localhost:8080/",
          "height": 105
        },
        "id": "_gyuZeCHE265",
        "outputId": "879178b5-359c-415f-ba49-4a1f3da42d1f"
      },
      "outputs": [
        {
          "output_type": "execute_result",
          "data": {
            "text/plain": [
              "'\\n1. What exactly is []?\\n2. In a list of values stored in a variable called spam, how would you assign the value &#39;hello&#39; as the\\nthird value? (Assume [2, 4, 6, 8, 10] are in spam.)\\nLet&#39;s pretend the spam includes the list [&#39;a&#39;, &#39;b&#39;, &#39;c&#39;, &#39;d&#39;] for the next three queries.\\n3. What is the value of spam[int(int(&#39;3&#39; * 2) / 11)]?\\n4. What is the value of spam[-1]?\\n5. What is the value of spam[:2]?\\nLet&#39;s pretend bacon has the list [3.14, &#39;cat,&#39; 11, &#39;cat,&#39; True] for the next three questions.\\n6. What is the value of bacon.index(&#39;cat&#39;)?\\n7. How does bacon.append(99) change the look of the list value in bacon?\\n8. How does bacon.remove(&#39;cat&#39;) change the look of the list in bacon?\\n9. What are the list concatenation and list replication operators?\\n10. What is difference between the list methods append() and insert()?\\n11. What are the two methods for removing items from a list?\\n12. Describe how list values and string values are identical.\\n13. What&#39;s the difference between tuples and lists?\\n14. How do you type a tuple value that only contains the integer 42?\\n15. How do you get a list value&#39;s tuple form? How do you get a tuple value&#39;s list form?\\n16. Variables that &quot;contain&quot; list values are not necessarily lists themselves. Instead, what do they\\ncontain?\\n17. How do you distinguish between copy.copy() and copy.deepcopy()?\\n'"
            ],
            "application/vnd.google.colaboratory.intrinsic+json": {
              "type": "string"
            }
          },
          "metadata": {},
          "execution_count": 1
        }
      ],
      "source": [
        "'''\n",
        "1. What exactly is []?\n",
        "2. In a list of values stored in a variable called spam, how would you assign the value &#39;hello&#39; as the\n",
        "third value? (Assume [2, 4, 6, 8, 10] are in spam.)\n",
        "Let&#39;s pretend the spam includes the list [&#39;a&#39;, &#39;b&#39;, &#39;c&#39;, &#39;d&#39;] for the next three queries.\n",
        "3. What is the value of spam[int(int(&#39;3&#39; * 2) / 11)]?\n",
        "4. What is the value of spam[-1]?\n",
        "5. What is the value of spam[:2]?\n",
        "Let&#39;s pretend bacon has the list [3.14, &#39;cat,&#39; 11, &#39;cat,&#39; True] for the next three questions.\n",
        "6. What is the value of bacon.index(&#39;cat&#39;)?\n",
        "7. How does bacon.append(99) change the look of the list value in bacon?\n",
        "8. How does bacon.remove(&#39;cat&#39;) change the look of the list in bacon?\n",
        "9. What are the list concatenation and list replication operators?\n",
        "10. What is difference between the list methods append() and insert()?\n",
        "11. What are the two methods for removing items from a list?\n",
        "12. Describe how list values and string values are identical.\n",
        "13. What&#39;s the difference between tuples and lists?\n",
        "14. How do you type a tuple value that only contains the integer 42?\n",
        "15. How do you get a list value&#39;s tuple form? How do you get a tuple value&#39;s list form?\n",
        "16. Variables that &quot;contain&quot; list values are not necessarily lists themselves. Instead, what do they\n",
        "contain?\n",
        "17. How do you distinguish between copy.copy() and copy.deepcopy()?\n",
        "'''"
      ]
    },
    {
      "cell_type": "code",
      "source": [
        "'''\n",
        "1\n",
        "[] this is a systax of a list. ex: list1=[1,1.02,\"hi\"]\n",
        "'''"
      ],
      "metadata": {
        "colab": {
          "base_uri": "https://localhost:8080/",
          "height": 35
        },
        "id": "UUWEhhl4FBD6",
        "outputId": "26cdf208-154a-4dda-ddac-db42298f8dd0"
      },
      "execution_count": 2,
      "outputs": [
        {
          "output_type": "execute_result",
          "data": {
            "text/plain": [
              "'\\n1\\n[] this is a systax of a list. ex: list1=[1,1.02,\"hi\"]\\n'"
            ],
            "application/vnd.google.colaboratory.intrinsic+json": {
              "type": "string"
            }
          },
          "metadata": {},
          "execution_count": 2
        }
      ]
    },
    {
      "cell_type": "code",
      "source": [
        "'''\n",
        "2\n",
        "spam[2] = 'hello'\n",
        "'''"
      ],
      "metadata": {
        "colab": {
          "base_uri": "https://localhost:8080/",
          "height": 35
        },
        "id": "-hYSN6FcF88C",
        "outputId": "7c8452b9-c329-47b4-c890-c4e174f5fc68"
      },
      "execution_count": 3,
      "outputs": [
        {
          "output_type": "execute_result",
          "data": {
            "text/plain": [
              "\"\\n2\\nspam[2] = 'hello'\\n\""
            ],
            "application/vnd.google.colaboratory.intrinsic+json": {
              "type": "string"
            }
          },
          "metadata": {},
          "execution_count": 3
        }
      ]
    },
    {
      "cell_type": "code",
      "source": [
        "'''\n",
        "3\n",
        "3'''\n"
      ],
      "metadata": {
        "colab": {
          "base_uri": "https://localhost:8080/",
          "height": 35
        },
        "id": "BOnbrGveGMLS",
        "outputId": "f68552f4-ea19-42f0-df4d-b0da575da5e7"
      },
      "execution_count": 4,
      "outputs": [
        {
          "output_type": "execute_result",
          "data": {
            "text/plain": [
              "'\\n3\\n3'"
            ],
            "application/vnd.google.colaboratory.intrinsic+json": {
              "type": "string"
            }
          },
          "metadata": {},
          "execution_count": 4
        }
      ]
    },
    {
      "cell_type": "code",
      "source": [
        "'''\n",
        "4\n",
        "spam=['a','b','c','d']\n",
        "spam[-1] should be d\n",
        "'''"
      ],
      "metadata": {
        "colab": {
          "base_uri": "https://localhost:8080/",
          "height": 35
        },
        "id": "QcPiHlg7Gbez",
        "outputId": "62341af0-e216-4b9e-f649-79a2f681ecb9"
      },
      "execution_count": 5,
      "outputs": [
        {
          "output_type": "execute_result",
          "data": {
            "text/plain": [
              "'\\n4\\nspam=[2, 4, 6, 8, 10]\\nspam[-1] should be 10\\n'"
            ],
            "application/vnd.google.colaboratory.intrinsic+json": {
              "type": "string"
            }
          },
          "metadata": {},
          "execution_count": 5
        }
      ]
    },
    {
      "cell_type": "code",
      "source": [
        "'''\n",
        "5\n",
        "\n",
        "spam[:2]?\n",
        "\n",
        "['b','d']\n",
        "'''"
      ],
      "metadata": {
        "colab": {
          "base_uri": "https://localhost:8080/",
          "height": 35
        },
        "id": "reNethZxGshT",
        "outputId": "f34bffd8-24e0-43b8-82ed-1ac33b641134"
      },
      "execution_count": 6,
      "outputs": [
        {
          "output_type": "execute_result",
          "data": {
            "text/plain": [
              "'\\n5\\n\\nspam[:2]?\\n\\n[2, 4]\\n'"
            ],
            "application/vnd.google.colaboratory.intrinsic+json": {
              "type": "string"
            }
          },
          "metadata": {},
          "execution_count": 6
        }
      ]
    },
    {
      "cell_type": "code",
      "source": [
        "'''\n",
        "6\n",
        "index is 1\n",
        "'''"
      ],
      "metadata": {
        "colab": {
          "base_uri": "https://localhost:8080/",
          "height": 35
        },
        "id": "CU7ssQofG6jT",
        "outputId": "8df9b707-3ad1-485f-8555-511afcc41ce8"
      },
      "execution_count": 7,
      "outputs": [
        {
          "output_type": "execute_result",
          "data": {
            "text/plain": [
              "'\\n6\\nindex is 1\\n'"
            ],
            "application/vnd.google.colaboratory.intrinsic+json": {
              "type": "string"
            }
          },
          "metadata": {},
          "execution_count": 7
        }
      ]
    },
    {
      "cell_type": "code",
      "source": [
        "'''\n",
        "7\n",
        "[3.14, 'cat',11, 'cat'True]\n",
        "append will insert values at last.\n",
        "[3.14, 'cat',11, 'cat'True,99]\n",
        "'''"
      ],
      "metadata": {
        "colab": {
          "base_uri": "https://localhost:8080/",
          "height": 35
        },
        "id": "XqwWor_XHoeR",
        "outputId": "e9b64e31-bdc8-4f25-cafc-3ee7ae476816"
      },
      "execution_count": 8,
      "outputs": [
        {
          "output_type": "execute_result",
          "data": {
            "text/plain": [
              "\"\\n7\\n[3.14, 'cat',11, 'cat'True]\\nappend will insert values at last.\\n[3.14, 'cat',11, 'cat'True,99]\\n\""
            ],
            "application/vnd.google.colaboratory.intrinsic+json": {
              "type": "string"
            }
          },
          "metadata": {},
          "execution_count": 8
        }
      ]
    },
    {
      "cell_type": "code",
      "source": [
        "'''\n",
        "8\n",
        "[3.14,11, 'cat'True]\n",
        "'''"
      ],
      "metadata": {
        "colab": {
          "base_uri": "https://localhost:8080/",
          "height": 35
        },
        "id": "LypcxPyIH_8b",
        "outputId": "4d62aca2-fea6-42ab-e555-338b1e1e6ce6"
      },
      "execution_count": 9,
      "outputs": [
        {
          "output_type": "execute_result",
          "data": {
            "text/plain": [
              "\"\\n8\\n[3.14,11, 'cat'True]\\n\""
            ],
            "application/vnd.google.colaboratory.intrinsic+json": {
              "type": "string"
            }
          },
          "metadata": {},
          "execution_count": 9
        }
      ]
    },
    {
      "cell_type": "code",
      "source": [
        "'''\n",
        "9\n",
        "The list concatenation operator is `+` and is used to combine two or more lists into a single list. \n",
        "\n",
        "The list replication operator is `*` and is used to create a new list by replicating an existing list multiple times.\n",
        "'''"
      ],
      "metadata": {
        "colab": {
          "base_uri": "https://localhost:8080/",
          "height": 35
        },
        "id": "f4Kk1trqIL1t",
        "outputId": "9cee1f65-3e35-45cf-e13d-7610f10d80b8"
      },
      "execution_count": 10,
      "outputs": [
        {
          "output_type": "execute_result",
          "data": {
            "text/plain": [
              "'\\n9\\nThe list concatenation operator is `+` and is used to combine two or more lists into a single list. \\n\\nThe list replication operator is `*` and is used to create a new list by replicating an existing list multiple times.\\n'"
            ],
            "application/vnd.google.colaboratory.intrinsic+json": {
              "type": "string"
            }
          },
          "metadata": {},
          "execution_count": 10
        }
      ]
    },
    {
      "cell_type": "code",
      "source": [
        "'''\n",
        "10\n",
        "The `append()` method is used to add an element at the end of a list, while the `insert()` method is used to insert an element at a specific position in the list. When using `append()`, the new element is added\n",
        " to the end of the list, and the length of the list is increased by 1. When using `insert()`, the new element is inserted at the specified position, and the existing elements are shifted one position to the right.\n",
        "'''"
      ],
      "metadata": {
        "colab": {
          "base_uri": "https://localhost:8080/",
          "height": 53
        },
        "id": "cowZ4WGIIWr9",
        "outputId": "5acb79c4-dccc-4121-dfc3-1f459a885e7d"
      },
      "execution_count": 11,
      "outputs": [
        {
          "output_type": "execute_result",
          "data": {
            "text/plain": [
              "'\\n10\\nThe `append()` method is used to add an element at the end of a list, while the `insert()` method is used to insert an element at a specific position in the list. When using `append()`, the new element is added\\n to the end of the list, and the length of the list is increased by 1. When using `insert()`, the new element is inserted at the specified position, and the existing elements are shifted one position to the right.\\n'"
            ],
            "application/vnd.google.colaboratory.intrinsic+json": {
              "type": "string"
            }
          },
          "metadata": {},
          "execution_count": 11
        }
      ]
    },
    {
      "cell_type": "code",
      "source": [
        "'''\n",
        "11\n",
        "The two methods for removing items from a list are:\n",
        "1. `remove()`: Removes the first occurrence of a given element from the list.\n",
        "2. `pop()`: Removes and returns the element at a given index (or the last element if the index is not specified).\n",
        "'''"
      ],
      "metadata": {
        "colab": {
          "base_uri": "https://localhost:8080/",
          "height": 53
        },
        "id": "AKi-OnsyIlVf",
        "outputId": "a678bae9-3550-4e17-933c-185cd3b5020a"
      },
      "execution_count": 12,
      "outputs": [
        {
          "output_type": "execute_result",
          "data": {
            "text/plain": [
              "'\\n11\\nThe two methods for removing items from a list are:\\n1. `remove()`: Removes the first occurrence of a given element from the list.\\n2. `pop()`: Removes and returns the element at a given index (or the last element if the index is not specified).\\n'"
            ],
            "application/vnd.google.colaboratory.intrinsic+json": {
              "type": "string"
            }
          },
          "metadata": {},
          "execution_count": 12
        }
      ]
    },
    {
      "cell_type": "code",
      "source": [
        "'''\n",
        "12\n",
        "Both list and string values are sequences of elements in Python. They can be indexed, sliced, and iterated over. They also support the use of the len() function to get the length of the sequence.\n",
        "Additionally, both types of values can be concatenated and replicated.\n",
        "'''"
      ],
      "metadata": {
        "colab": {
          "base_uri": "https://localhost:8080/",
          "height": 53
        },
        "id": "I5kTugccIyf-",
        "outputId": "42ef7f18-488d-4bbb-f926-379a3d143680"
      },
      "execution_count": 14,
      "outputs": [
        {
          "output_type": "execute_result",
          "data": {
            "text/plain": [
              "'\\n12\\nBoth list and string values are sequences of elements in Python. They can be indexed, sliced, and iterated over. They also support the use of the len() function to get the length of the sequence.\\nAdditionally, both types of values can be concatenated and replicated.\\n'"
            ],
            "application/vnd.google.colaboratory.intrinsic+json": {
              "type": "string"
            }
          },
          "metadata": {},
          "execution_count": 14
        }
      ]
    },
    {
      "cell_type": "code",
      "source": [
        "'''\n",
        "13\n",
        "lists(mutable) are designed for situations where you need to modify the contents of a sequence, while tuples are used when you need a sequence that cannot be changed(immutable in nature).\n",
        "'''"
      ],
      "metadata": {
        "colab": {
          "base_uri": "https://localhost:8080/",
          "height": 35
        },
        "id": "_MEZ_4BWI9Cw",
        "outputId": "b30defaa-5196-4e25-8725-3f79cd822431"
      },
      "execution_count": 16,
      "outputs": [
        {
          "output_type": "execute_result",
          "data": {
            "text/plain": [
              "'\\n13\\nlists(mutable) are designed for situations where you need to modify the contents of a sequence, while tuples are used when you need a sequence that cannot be changed(immutable in nature).\\n'"
            ],
            "application/vnd.google.colaboratory.intrinsic+json": {
              "type": "string"
            }
          },
          "metadata": {},
          "execution_count": 16
        }
      ]
    },
    {
      "cell_type": "code",
      "source": [
        "'''\n",
        "14\n",
        "a=(42)\n",
        "'''"
      ],
      "metadata": {
        "colab": {
          "base_uri": "https://localhost:8080/",
          "height": 35
        },
        "id": "HNyKumS9Kp3E",
        "outputId": "79617d9b-284a-4da6-9f43-e3600c54f394"
      },
      "execution_count": 17,
      "outputs": [
        {
          "output_type": "execute_result",
          "data": {
            "text/plain": [
              "'\\n14\\na=(42)\\n'"
            ],
            "application/vnd.google.colaboratory.intrinsic+json": {
              "type": "string"
            }
          },
          "metadata": {},
          "execution_count": 17
        }
      ]
    },
    {
      "cell_type": "code",
      "source": [
        "'''\n",
        "15\n",
        "\n",
        "\n",
        "To get a list value's tuple form, you can use the `tuple()` function, passing the list as an argument. For example: \n",
        "\n",
        "my_list = [1, 2, 3]\n",
        "my_tuple = tuple(my_list)\n",
        "\n",
        "To get a tuple value's list form, you can use the `list()` function, passing the tuple as an argument. For example: \n",
        "\n",
        "my_tuple = (1, 2, 3)\n",
        "my_list = list(my_tuple)\n",
        "'''"
      ],
      "metadata": {
        "colab": {
          "base_uri": "https://localhost:8080/",
          "height": 53
        },
        "id": "q0OQRdGPK6p0",
        "outputId": "4ba9e329-1f26-4f1e-d9c7-5eb600bc1686"
      },
      "execution_count": 18,
      "outputs": [
        {
          "output_type": "execute_result",
          "data": {
            "text/plain": [
              "\"\\n15\\n\\n\\nTo get a list value's tuple form, you can use the `tuple()` function, passing the list as an argument. For example: \\n\\nmy_list = [1, 2, 3]\\nmy_tuple = tuple(my_list)\\n\\nTo get a tuple value's list form, you can use the `list()` function, passing the tuple as an argument. For example: \\n\\nmy_tuple = (1, 2, 3)\\nmy_list = list(my_tuple)\\n\""
            ],
            "application/vnd.google.colaboratory.intrinsic+json": {
              "type": "string"
            }
          },
          "metadata": {},
          "execution_count": 18
        }
      ]
    },
    {
      "cell_type": "code",
      "source": [
        "'''\n",
        "16\n",
        "Variables that \"contain\" list values are actually references to the list objects in memory. When a variable is assigned a list, it points to the memory location where the list is stored, \n",
        "rather than actually containing the list values. This means that multiple variables can point to the same list object, and changes made to the list through one variable will be reflected \n",
        "in all other variables that reference the same list object.\n",
        "'''"
      ],
      "metadata": {
        "colab": {
          "base_uri": "https://localhost:8080/",
          "height": 53
        },
        "id": "IDoPZjYjLOgm",
        "outputId": "7789d37e-a462-4de8-9709-601872ea08b7"
      },
      "execution_count": 19,
      "outputs": [
        {
          "output_type": "execute_result",
          "data": {
            "text/plain": [
              "'\\n16\\nVariables that \"contain\" list values are actually references to the list objects in memory. When a variable is assigned a list, it points to the memory location where the list is stored, \\nrather than actually containing the list values. This means that multiple variables can point to the same list object, and changes made to the list through one variable will be reflected \\nin all other variables that reference the same list object.\\n'"
            ],
            "application/vnd.google.colaboratory.intrinsic+json": {
              "type": "string"
            }
          },
          "metadata": {},
          "execution_count": 19
        }
      ]
    },
    {
      "cell_type": "code",
      "source": [
        "'''\n",
        "17\n",
        "\n",
        "In Python's `copy` module, `copy.copy()` and `copy.deepcopy()` are two methods used to create a copy of an object. `copy.copy()` creates a shallow copy of an object, which means it creates a new object with a new memory address,\n",
        "but it still references the same nested objects as the original. On the other hand, `copy.deepcopy()` creates a deep copy of an object, which means it creates a completely new object with a new memory address and creates new\n",
        "copies of all the nested objects as well. So, changes made to the original object will not affect the deep copied object, but it will affect the shallow copied object.\n",
        "'''"
      ],
      "metadata": {
        "colab": {
          "base_uri": "https://localhost:8080/",
          "height": 70
        },
        "id": "ddIR22MwLe0Y",
        "outputId": "86989c2a-c249-46cf-a630-bddf99421c1a"
      },
      "execution_count": 20,
      "outputs": [
        {
          "output_type": "execute_result",
          "data": {
            "text/plain": [
              "\"\\n17\\n\\nIn Python's `copy` module, `copy.copy()` and `copy.deepcopy()` are two methods used to create a copy of an object. `copy.copy()` creates a shallow copy of an object, which means it creates a new object with a new memory address,\\nbut it still references the same nested objects as the original. On the other hand, `copy.deepcopy()` creates a deep copy of an object, which means it creates a completely new object with a new memory address and creates new\\ncopies of all the nested objects as well. So, changes made to the original object will not affect the deep copied object, but it will affect the shallow copied object.\\n\""
            ],
            "application/vnd.google.colaboratory.intrinsic+json": {
              "type": "string"
            }
          },
          "metadata": {},
          "execution_count": 20
        }
      ]
    },
    {
      "cell_type": "code",
      "source": [],
      "metadata": {
        "id": "bDJ_584YLttK"
      },
      "execution_count": null,
      "outputs": []
    }
  ]
}