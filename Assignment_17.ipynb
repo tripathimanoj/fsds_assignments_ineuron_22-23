{
  "nbformat": 4,
  "nbformat_minor": 0,
  "metadata": {
    "colab": {
      "provenance": []
    },
    "kernelspec": {
      "name": "python3",
      "display_name": "Python 3"
    },
    "language_info": {
      "name": "python"
    }
  },
  "cells": [
    {
      "cell_type": "code",
      "execution_count": null,
      "metadata": {
        "id": "1wBnKCpyDbCy"
      },
      "outputs": [],
      "source": []
    },
    {
      "cell_type": "markdown",
      "source": [
        "1. Assign the value 7 to the variable guess_me. Then, write the conditional tests (if, else, and elif) to\n",
        "print the string &#39;too low&#39; if guess_me is less than 7, &#39;too high&#39; if greater than 7, and &#39;just right&#39; if equal\n",
        "to 7.\n",
        "2. Assign the value 7 to the variable guess_me and the value 1 to the variable start. Write a while\n",
        "loop that compares start with guess_me. Print too low if start is less than guess me. If start equals\n",
        "guess_me, print &#39;found it!&#39; and exit the loop. If start is greater than guess_me, print &#39;oops&#39; and exit\n",
        "the loop. Increment start at the end of the loop.\n",
        "3. Print the following values of the list [3, 2, 1, 0] using a for loop.\n",
        "4. Use a list comprehension to make a list of the even numbers in range(10)\n",
        "5. Use a dictionary comprehension to create the dictionary squares. Use range(10) to return the\n",
        "keys, and use the square of each key as its value.\n",
        "6. Construct the set odd from the odd numbers in the range using a set comprehension (10).\n",
        "7. Use a generator comprehension to return the string &#39;Got &#39; and a number for the numbers in\n",
        "range(10). Iterate through this by using a for loop.\n",
        "8. Define a function called good that returns the list [&#39;Harry&#39;, &#39;Ron&#39;, &#39;Hermione&#39;].\n",
        "9. Define a generator function called get_odds that returns the odd numbers from range(10). Use a\n",
        "for loop to find and print the third value returned.\n",
        "10. Define an exception called OopsException. Raise this exception to see what happens. Then write\n",
        "the code to catch this exception and print &#39;Caught an oops&#39;.\n",
        "11. Use zip() to make a dictionary called movies that pairs these lists: titles = [&#39;Creature of Habit&#39;,\n",
        "&#39;Crewel Fate&#39;] and plots = [&#39;A nun turns into a monster&#39;, &#39;A haunted yarn shop&#39;]."
      ],
      "metadata": {
        "id": "uteIC423Djs7"
      }
    },
    {
      "cell_type": "code",
      "source": [
        "# sol 1:\n",
        "\n",
        "guess_me = 7\n",
        "\n",
        "if guess_me < 7:\n",
        "    print('too low')\n",
        "elif guess_me > 7:\n",
        "    print('too high')\n",
        "else:\n",
        "    print('just right')\n"
      ],
      "metadata": {
        "colab": {
          "base_uri": "https://localhost:8080/"
        },
        "id": "qq3IxkV4Dkby",
        "outputId": "5d36177c-2ee5-43ec-9ee1-c7c7eca9aff5"
      },
      "execution_count": 1,
      "outputs": [
        {
          "output_type": "stream",
          "name": "stdout",
          "text": [
            "just right\n"
          ]
        }
      ]
    },
    {
      "cell_type": "code",
      "source": [
        "# sol 2:\n",
        "\n",
        "guess_me = 7\n",
        "start = 1\n",
        "\n",
        "while True:\n",
        "    if start < guess_me:\n",
        "        print(\"too low\")\n",
        "    elif start == guess_me:\n",
        "        print(\"found it!\")\n",
        "        break\n",
        "    else:\n",
        "        print(\"oops\")\n",
        "        break\n",
        "    start += 1\n"
      ],
      "metadata": {
        "colab": {
          "base_uri": "https://localhost:8080/"
        },
        "id": "PfAFcACQE0KG",
        "outputId": "44b70089-346e-4a3b-8535-d659d326cf34"
      },
      "execution_count": 2,
      "outputs": [
        {
          "output_type": "stream",
          "name": "stdout",
          "text": [
            "too low\n",
            "too low\n",
            "too low\n",
            "too low\n",
            "too low\n",
            "too low\n",
            "found it!\n"
          ]
        }
      ]
    },
    {
      "cell_type": "code",
      "source": [
        "# sol 3:\n",
        "\n",
        "list1= [3, 2, 1, 0]\n",
        "for i in list1:\n",
        "  print(i)\n"
      ],
      "metadata": {
        "colab": {
          "base_uri": "https://localhost:8080/"
        },
        "id": "SZtMFlPqFBsp",
        "outputId": "afbd3510-24bc-4e9c-cdca-eeb7edffc207"
      },
      "execution_count": 4,
      "outputs": [
        {
          "output_type": "stream",
          "name": "stdout",
          "text": [
            "3\n",
            "2\n",
            "1\n",
            "0\n"
          ]
        }
      ]
    },
    {
      "cell_type": "code",
      "source": [
        "# sol 4:\n",
        "\n",
        "even_numbers = [num for num in range(10) if num % 2 == 0]\n",
        "print(even_numbers)\n"
      ],
      "metadata": {
        "colab": {
          "base_uri": "https://localhost:8080/"
        },
        "id": "85LYatwuFRdr",
        "outputId": "1eb030de-7523-4199-98f6-d02de113419c"
      },
      "execution_count": 5,
      "outputs": [
        {
          "output_type": "stream",
          "name": "stdout",
          "text": [
            "[0, 2, 4, 6, 8]\n"
          ]
        }
      ]
    },
    {
      "cell_type": "code",
      "source": [
        "# sol 5:\n",
        "\n",
        "squares = {x: x**2 for x in range(10)}\n",
        "print(squares)"
      ],
      "metadata": {
        "colab": {
          "base_uri": "https://localhost:8080/"
        },
        "id": "s439u9B7Fhtd",
        "outputId": "cc258e65-219e-43f5-da84-c0331ad05115"
      },
      "execution_count": 6,
      "outputs": [
        {
          "output_type": "stream",
          "name": "stdout",
          "text": [
            "{0: 0, 1: 1, 2: 4, 3: 9, 4: 16, 5: 25, 6: 36, 7: 49, 8: 64, 9: 81}\n"
          ]
        }
      ]
    },
    {
      "cell_type": "code",
      "source": [
        "# sol 6;\n",
        "\n",
        "odd = {x for x in range(10) if x % 2 == 1}\n",
        "print(odd)"
      ],
      "metadata": {
        "colab": {
          "base_uri": "https://localhost:8080/"
        },
        "id": "NPuQS7OjFxL-",
        "outputId": "580eb0fb-340c-48a5-bc37-89e056786eff"
      },
      "execution_count": 7,
      "outputs": [
        {
          "output_type": "stream",
          "name": "stdout",
          "text": [
            "{1, 3, 5, 7, 9}\n"
          ]
        }
      ]
    },
    {
      "cell_type": "code",
      "source": [
        "# sol 7:\n",
        "\n",
        "# Generator comprehension to generate the strings 'Got 0', 'Got 1', 'Got 2', and so on\n",
        "strings = ('Got ' + str(num) for num in range(10))\n",
        "\n",
        "# Iterate through the strings using a for loop\n",
        "for string in strings:\n",
        "    print(string)\n"
      ],
      "metadata": {
        "colab": {
          "base_uri": "https://localhost:8080/"
        },
        "id": "0p7QPFOxGvTS",
        "outputId": "3d432cb0-9e47-49de-f383-5d7309c581ea"
      },
      "execution_count": 8,
      "outputs": [
        {
          "output_type": "stream",
          "name": "stdout",
          "text": [
            "Got 0\n",
            "Got 1\n",
            "Got 2\n",
            "Got 3\n",
            "Got 4\n",
            "Got 5\n",
            "Got 6\n",
            "Got 7\n",
            "Got 8\n",
            "Got 9\n"
          ]
        }
      ]
    },
    {
      "cell_type": "code",
      "source": [
        "# sol 8:\n",
        "\n",
        "def good():\n",
        "  list=[\"Harry\",\"Ron\",\"Hermione\"]\n",
        "  return list\n",
        "good()"
      ],
      "metadata": {
        "colab": {
          "base_uri": "https://localhost:8080/"
        },
        "id": "LTIY8XxYG5YR",
        "outputId": "b898bb18-c6fb-4ed8-c959-3065a8e9f7e2"
      },
      "execution_count": 9,
      "outputs": [
        {
          "output_type": "execute_result",
          "data": {
            "text/plain": [
              "['Harry', 'Ron', 'Hermione']"
            ]
          },
          "metadata": {},
          "execution_count": 9
        }
      ]
    },
    {
      "cell_type": "code",
      "source": [
        "# sol 9:\n",
        "\n",
        "# define the generator function\n",
        "def get_odds():\n",
        "    for number in range(1, 10, 2):\n",
        "        yield number\n",
        "\n",
        "# use a for loop to find and print the third value returned\n",
        "count = 0\n",
        "for odd in get_odds():\n",
        "    count += 1\n",
        "    if count == 3:\n",
        "        print(odd)\n",
        "        break\n"
      ],
      "metadata": {
        "colab": {
          "base_uri": "https://localhost:8080/"
        },
        "id": "VGo1tlptHVXx",
        "outputId": "af5f77c9-5b63-475e-8f08-9e9771a92058"
      },
      "execution_count": 10,
      "outputs": [
        {
          "output_type": "stream",
          "name": "stdout",
          "text": [
            "5\n"
          ]
        }
      ]
    },
    {
      "cell_type": "code",
      "source": [
        "# sol 10:\n",
        "\n",
        "class OopsException(Exception):\n",
        "    pass\n",
        "\n",
        "try:\n",
        "    raise OopsException()\n",
        "except OopsException:\n",
        "    print('Caught an oops')\n"
      ],
      "metadata": {
        "colab": {
          "base_uri": "https://localhost:8080/"
        },
        "id": "yjUYadL0H9fy",
        "outputId": "8050bea9-e17d-4b79-d993-2aa767ffe044"
      },
      "execution_count": 15,
      "outputs": [
        {
          "output_type": "stream",
          "name": "stdout",
          "text": [
            "Caught an oops\n"
          ]
        }
      ]
    },
    {
      "cell_type": "code",
      "source": [
        "# sol 11:\n",
        "\n",
        "titles = ['Creature of Habit', 'Crewel Fate']\n",
        "plots = ['A nun turns into a monster', 'A haunted yarn shop']\n",
        "\n",
        "movies = dict(zip(titles, plots))\n",
        "print(movies)"
      ],
      "metadata": {
        "colab": {
          "base_uri": "https://localhost:8080/"
        },
        "id": "GQgFsIDJJH17",
        "outputId": "69a2d282-3666-4522-a121-3533ced6d33c"
      },
      "execution_count": 16,
      "outputs": [
        {
          "output_type": "stream",
          "name": "stdout",
          "text": [
            "{'Creature of Habit': 'A nun turns into a monster', 'Crewel Fate': 'A haunted yarn shop'}\n"
          ]
        }
      ]
    },
    {
      "cell_type": "code",
      "source": [],
      "metadata": {
        "id": "LnH-wmi-JU1N"
      },
      "execution_count": null,
      "outputs": []
    }
  ]
}