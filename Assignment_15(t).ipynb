{
  "nbformat": 4,
  "nbformat_minor": 0,
  "metadata": {
    "colab": {
      "provenance": []
    },
    "kernelspec": {
      "name": "python3",
      "display_name": "Python 3"
    },
    "language_info": {
      "name": "python"
    }
  },
  "cells": [
    {
      "cell_type": "markdown",
      "source": [
        "1.How many seconds are in an hour? Use the interactive interpreter as a calculator and multiply the\n",
        "number of seconds in a minute (60) by the number of minutes in an hour (also 60).\n",
        "sol. 60\n",
        "2. Assign the result from the previous task (seconds in an hour) to a variable called\n",
        "seconds_per_hour.\n",
        "3. How many seconds do you think there are in a day? Make use of the variables seconds per hour\n",
        "and minutes per hour.\n",
        "4. Calculate seconds per day again, but this time save the result in a variable called seconds_per_day\n",
        "5. Divide seconds_per_day by seconds_per_hour. Use floating-point (/) division.\n",
        "6. Divide seconds_per_day by seconds_per_hour, using integer (//) division. Did this number agree\n",
        "with the floating-point value from the previous question, aside from the final .0?\n",
        "7. Write a generator, genPrimes, that returns the sequence of prime numbers on successive calls to\n",
        "its next() method: 2, 3, 5, 7, 11, ..."
      ],
      "metadata": {
        "id": "Lt6mydiWhrMl"
      }
    },
    {
      "cell_type": "code",
      "source": [
        "# Sol 1:\n",
        "#There are 3600 seconds in an hour. \n",
        "\n",
        "60 * 60"
      ],
      "metadata": {
        "colab": {
          "base_uri": "https://localhost:8080/"
        },
        "id": "5RZZfZ3Ohr17",
        "outputId": "c63837fb-3eb7-4dd2-95f4-d12679fe939f"
      },
      "execution_count": 1,
      "outputs": [
        {
          "output_type": "execute_result",
          "data": {
            "text/plain": [
              "3600"
            ]
          },
          "metadata": {},
          "execution_count": 1
        }
      ]
    },
    {
      "cell_type": "code",
      "source": [
        "# Sol 2:\n",
        "\n",
        "seconds_per_hour=60 * 60\n",
        "print(seconds_per_hour)"
      ],
      "metadata": {
        "colab": {
          "base_uri": "https://localhost:8080/"
        },
        "id": "IoHORMRRj0lw",
        "outputId": "94853df9-7621-4743-f1fb-28dd765481f2"
      },
      "execution_count": 5,
      "outputs": [
        {
          "output_type": "stream",
          "name": "stdout",
          "text": [
            "3600\n"
          ]
        }
      ]
    },
    {
      "cell_type": "code",
      "source": [
        "# Sol 3:\n",
        "seconds_per_hour = 60 * 60\n",
        "minutes_per_hour = 60\n",
        "seconds_per_day = seconds_per_hour * 24\n",
        "print(seconds_per_day)\n"
      ],
      "metadata": {
        "colab": {
          "base_uri": "https://localhost:8080/"
        },
        "id": "rxn4C0ZGiu7O",
        "outputId": "e28ffbb8-34c3-4b16-fbb9-3bf185d2480e"
      },
      "execution_count": 3,
      "outputs": [
        {
          "output_type": "stream",
          "name": "stdout",
          "text": [
            "86400\n"
          ]
        }
      ]
    },
    {
      "cell_type": "code",
      "source": [
        "#sol 4\n",
        "seconds_per_hour = 60 * 60\n",
        "minutes_per_hour = 60\n",
        "seconds_per_day = seconds_per_hour * 24\n",
        "print(seconds_per_day)"
      ],
      "metadata": {
        "colab": {
          "base_uri": "https://localhost:8080/"
        },
        "id": "WSfjq5BAi6Jd",
        "outputId": "596bfa9e-c848-47dc-f787-9fbc82f06c69"
      },
      "execution_count": 6,
      "outputs": [
        {
          "output_type": "stream",
          "name": "stdout",
          "text": [
            "86400\n"
          ]
        }
      ]
    },
    {
      "cell_type": "code",
      "source": [
        "#sol 5\n",
        "seconds_per_hour = 60 * 60\n",
        "minutes_per_hour = 60\n",
        "seconds_per_day = seconds_per_hour * 24\n",
        "seconds_per_day/seconds_per_hour\n"
      ],
      "metadata": {
        "colab": {
          "base_uri": "https://localhost:8080/"
        },
        "id": "x2LjYulCkS_g",
        "outputId": "deed79d6-6fde-4887-941a-2cfaeb06f5bb"
      },
      "execution_count": 7,
      "outputs": [
        {
          "output_type": "execute_result",
          "data": {
            "text/plain": [
              "24.0"
            ]
          },
          "metadata": {},
          "execution_count": 7
        }
      ]
    },
    {
      "cell_type": "code",
      "source": [
        "#sol 6\n",
        "seconds_per_hour = 60 * 60\n",
        "minutes_per_hour = 60\n",
        "seconds_per_day = seconds_per_hour * 24\n",
        "seconds_per_day//seconds_per_hour\n",
        "\n",
        "# no it dose't aggree, it's a pure integer division and dose not contains any floating point number."
      ],
      "metadata": {
        "colab": {
          "base_uri": "https://localhost:8080/"
        },
        "id": "QJg6ohkVk02_",
        "outputId": "821f8198-349a-4b91-e224-9c74bed51d26"
      },
      "execution_count": 9,
      "outputs": [
        {
          "output_type": "execute_result",
          "data": {
            "text/plain": [
              "24"
            ]
          },
          "metadata": {},
          "execution_count": 9
        }
      ]
    },
    {
      "cell_type": "code",
      "source": [
        "#sol 7\n",
        "\n",
        "def genPrimes():\n",
        "    # First prime number\n",
        "    prime = 2\n",
        "    \n",
        "    # Continue generating prime numbers indefinitely\n",
        "    while True:\n",
        "        # Assume the current number is prime\n",
        "        is_prime = True\n",
        "        \n",
        "        # Check if the number is divisible by any previous prime numbers\n",
        "        for i in range(2, prime):\n",
        "            if prime % i == 0:\n",
        "                is_prime = False\n",
        "                break\n",
        "        \n",
        "        # If the number is prime, yield it\n",
        "        if is_prime:\n",
        "            yield prime\n",
        "        \n",
        "        # Increment to the next number and continue the loop\n",
        "        prime += 1\n",
        "\n",
        "\n",
        "\n",
        "# Create a generator object for prime numbers\n",
        "prime_generator = genPrimes()\n",
        "\n",
        "# Print the first 5 prime numbers\n",
        "for i in range(5):\n",
        "    print(next(prime_generator))\n"
      ],
      "metadata": {
        "colab": {
          "base_uri": "https://localhost:8080/"
        },
        "id": "tMKmd0W0lCCQ",
        "outputId": "6b74ba3c-5994-4f67-f683-84d6c01e65fc"
      },
      "execution_count": 16,
      "outputs": [
        {
          "output_type": "stream",
          "name": "stdout",
          "text": [
            "2\n",
            "3\n",
            "5\n",
            "7\n",
            "11\n"
          ]
        }
      ]
    },
    {
      "cell_type": "code",
      "source": [
        "for i in range(5):     # again calling it with next()\n",
        "    print(next(prime_generator))"
      ],
      "metadata": {
        "colab": {
          "base_uri": "https://localhost:8080/"
        },
        "id": "jyrHybAZlttx",
        "outputId": "351d1f11-925f-421d-c6ed-366c3b63947f"
      },
      "execution_count": 17,
      "outputs": [
        {
          "output_type": "stream",
          "name": "stdout",
          "text": [
            "13\n",
            "17\n",
            "19\n",
            "23\n",
            "29\n"
          ]
        }
      ]
    },
    {
      "cell_type": "code",
      "source": [],
      "metadata": {
        "id": "ERbArE44l-cx"
      },
      "execution_count": null,
      "outputs": []
    }
  ]
}