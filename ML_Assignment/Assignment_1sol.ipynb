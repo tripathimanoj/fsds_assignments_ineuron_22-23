{
 "cells": [
  {
   "attachments": {},
   "cell_type": "markdown",
   "id": "da5162c1",
   "metadata": {},
   "source": [
    "# Assignment 01 Solutions..."
   ]
  },
  {
   "cell_type": "markdown",
   "id": "5542f5dd",
   "metadata": {},
   "source": [
    "##### 1. What does one mean by the term \"machine learning\" ?\n",
    "**Ans:** Machine learning is a type of artificial intelligence that allows computers to learn and improve from experience without being explicitly programmed. In short, it's a process where machines automatically learn and adapt from data to improve their performance on a task. It involves training a machine learning model on a dataset and using the learned patterns to make predictions or decisions on new data. Machine learning is used in a variety of applications, including image and speech recognition, natural language processing, recommendation systems, and fraud detection."
   ]
  },
  {
   "attachments": {},
   "cell_type": "markdown",
   "id": "191d54fe",
   "metadata": {},
   "source": [
    "##### 2.Can you think of 4 distinct types of issues where it shines ?\n",
    "**Ans:** Yes, here are four distinct types of issues where machine learning shines:\n",
    "\n",
    "1. Prediction: Machine learning can be used for predictive modeling, where the goal is to predict a future outcome based on past data. For example, predicting customer churn or forecasting stock prices.\n",
    "\n",
    "2. Classification: Machine learning can be used for classification tasks, where the goal is to categorize data into different classes based on their features. For example, classifying emails as spam or not spam, or classifying images as cats or dogs.\n",
    "\n",
    "3. Clustering: Machine learning can be used for clustering tasks, where the goal is to group similar data points together based on their features. For example, clustering customers based on their purchasing behavior or clustering news articles based on their topics.\n",
    "\n",
    "4. Recommendation: Machine learning can be used for recommendation systems, where the goal is to suggest products, services, or content to users based on their past behavior or preferences. For example, recommending movies on Netflix or products on Amazon."
   ]
  },
  {
   "attachments": {},
   "cell_type": "markdown",
   "id": "2be941b1",
   "metadata": {},
   "source": [
    "##### 3.What is a labeled training set, and how does it work ?\n",
    "**Ans:** A labeled training set is a dataset where each data point is labeled with a corresponding target value or class label. It is used in supervised machine learning to train a model to make predictions on new, unlabeled data based on the patterns learned from the labeled training set. The model is trained on the labeled data by adjusting its internal parameters to minimize the difference between its predictions and the true labels, and can then be used to make predictions on new data."
   ]
  },
  {
   "attachments": {},
   "cell_type": "markdown",
   "id": "af127751",
   "metadata": {},
   "source": [
    "##### 4.What are the two most important tasks that are supervised ?\n",
    "**Ans:** The two most important supervised machine learning tasks are:\n",
    "\n",
    "1. Regression: The goal of regression is to predict a continuous numerical value, such as predicting house prices or stock prices. In regression, the model is trained on a labeled dataset where the target variable is a continuous numerical value.\n",
    "\n",
    "2. Classification: The goal of classification is to predict a discrete class label or category, such as classifying emails as spam or not spam. In classification, the model is trained on a labeled dataset where the target variable is a categorical variable with a limited number of possible values.\n",
    "\n",
    "Both regression and classification are important supervised learning tasks that have many real-world applications in fields such as finance, healthcare, and natural language processing."
   ]
  },
  {
   "attachments": {},
   "cell_type": "markdown",
   "id": "18091371",
   "metadata": {},
   "source": [
    "##### 5.Can you think of four examples of unsupervised tasks ?\n",
    "**Ans:** Yes, here are four examples of unsupervised machine learning tasks:\n",
    "\n",
    "1. Clustering: Clustering is an unsupervised task where the goal is to group similar data points together based on their features. For example, clustering customers based on their purchasing behavior or grouping news articles based on their topics.\n",
    "\n",
    "2. Anomaly detection: Anomaly detection is an unsupervised task where the goal is to identify unusual or rare data points that don't fit the typical patterns in the data. For example, detecting credit card fraud or identifying faulty equipment in a manufacturing process.\n",
    "\n",
    "3. Dimensionality reduction: Dimensionality reduction is an unsupervised task where the goal is to reduce the number of features in a dataset while preserving the most important information. For example, reducing the number of features in an image or text dataset to make it easier to process.\n",
    "\n",
    "4. Association rule mining: Association rule mining is an unsupervised task where the goal is to find interesting relationships or patterns between different variables in a dataset. For example, identifying which products are often bought together in a grocery store or finding frequent sequences of events in a log file."
   ]
  },
  {
   "attachments": {},
   "cell_type": "markdown",
   "id": "4253e5da",
   "metadata": {},
   "source": [
    "##### 6.State the machine learning model that would be best to make a robot walk through various unfamiliar terrains ?\n",
    "**Ans:** The best Machine Learning algorithm is **Reinforced Learning**, "
   ]
  },
  {
   "attachments": {},
   "cell_type": "markdown",
   "id": "ad8c6cd2",
   "metadata": {},
   "source": [
    "##### 7.Which algorithm will you use to divide your customers into different groups ?\n",
    "**Ans:** To divide customers into different groups based on their similarities and differences, I would use a clustering algorithm. \n",
    "\n",
    "Clustering is an unsupervised machine learning technique that groups similar data points together based on their features. In the case of customer segmentation, we would use customer data such as demographics, purchasing behavior, and other relevant variables as features to cluster customers into different groups. \n",
    "\n",
    "There are several clustering algorithms available, including K-Means, hierarchical clustering, and DBSCAN. The choice of algorithm would depend on the size and structure of the customer dataset, as well as the desired number and interpretability of the resulting clusters."
   ]
  },
  {
   "cell_type": "markdown",
   "id": "9105b2d5",
   "metadata": {},
   "source": [
    "##### 8.Will you consider the problem of spam detection to be a supervised or unsupervised learning problem ?\n",
    "**Ans:** Spam detection is a Supervised Machine Learning problem because the labels are known (spam or no spam)."
   ]
  },
  {
   "attachments": {},
   "cell_type": "markdown",
   "id": "0c085053",
   "metadata": {},
   "source": [
    "##### 9.What is the concept of an online learning system ?\n",
    "**Ans:** Online learning system is a learning system in which the machine learns continously, or incoming data is streaming data."
   ]
  },
  {
   "attachments": {},
   "cell_type": "markdown",
   "id": "90fdf632",
   "metadata": {},
   "source": [
    "##### 10.What is out-of-core learning, and how does it differ from core learning ?\n",
    "**Ans:** Out-of-core learning is a technique for training machine learning models on large datasets that don't fit into memory. It differs from in-core learning where the entire dataset is loaded into memory before training begins."
   ]
  },
  {
   "cell_type": "markdown",
   "id": "25b1ebf0",
   "metadata": {},
   "source": [
    "##### 11.What kind of learning algorithm makes predictions using a similarity measure ?\n",
    "**Ans:** Learning algorithm that relies on a similarity measure to make predictions is **Instance Based Algorithm**."
   ]
  },
  {
   "cell_type": "markdown",
   "id": "3311e6c7",
   "metadata": {},
   "source": [
    "##### 12.What's the difference between a model parameter and a hyperparameter in a learning algorithm ?\n",
    "**Ans:** Model parameter determines how a model will predict given a new instance. Model usually has more than one parameter (i.e. slope of a linear model). Hyperparameter is a parameter for the learning algorithm, not of a model."
   ]
  },
  {
   "cell_type": "markdown",
   "id": "1574e21a",
   "metadata": {},
   "source": [
    "##### 13.What are the criteria that model-based learning algorithms look for? What is the most popular method they use to achieve success? What method do they use to make predictions ?\n",
    "**Ans:** Model based learning algorithm search for the optimal value of parameters in a model that will give the best results for the new instances. We often use a cost function or similar to determine what the parameter value has to be in order to minimize the function. The model makes prediction by using the value of the new instance and the parameters in its function."
   ]
  },
  {
   "cell_type": "markdown",
   "id": "42e921cd",
   "metadata": {},
   "source": [
    "##### 14.Can you name four of the most important Machine Learning challenges ?\n",
    "**Ans:** Four main challenges in Machine Learning include the following:\n",
    "1. Overfitting the Data (using a model too complicated)\n",
    "2. Underfitting the data (using a simple model)\n",
    "3. Lacking in Data\n",
    "4. Non Representative Data."
   ]
  },
  {
   "cell_type": "markdown",
   "id": "2e45ca05",
   "metadata": {},
   "source": [
    "##### 15.What happens if the model performs well on the training data but fails to generalize the results to new situations? Can you think of three different options ?\n",
    "**Ans:** If the model performs poorly to new instances, then it has overfitted on the training data. To solve this, we can do any of the following three: \n",
    "- Get more data\n",
    "- Implement a simpler model\n",
    "- Eliminate outliers or noise from the existing data set."
   ]
  },
  {
   "cell_type": "markdown",
   "id": "cb05d8b8",
   "metadata": {},
   "source": [
    "##### 16.What exactly is a test set, and why would you need one ?\n",
    "**Ans:** Test set is a set to test your model (fit using training data) to see how it performs.Test set is necessary to determine how good (or bad) a model performs."
   ]
  },
  {
   "cell_type": "markdown",
   "id": "abf60183",
   "metadata": {},
   "source": [
    "##### 17.What is a validation set's purpose ?\n",
    "**Ans:** Validation set is a set used to compare between different training models."
   ]
  },
  {
   "cell_type": "markdown",
   "id": "31ed593a",
   "metadata": {},
   "source": [
    "##### 18.What precisely is the train-dev kit, when will you need it, how do you put it to use ?\n",
    "**Ans:** Cross-validation is a tool to compare models without needing a separate validation set. It is preferred over validation set because we can save from breaking of part of the training set to create a validation set, as having more data is valuable regardless."
   ]
  },
  {
   "cell_type": "markdown",
   "id": "2148fdcb",
   "metadata": {},
   "source": [
    "##### 19.What could go wrong if you use the test set to tune hyperparameters ?\n",
    "**Ans:** If you tune hyperparameters using the test sets, then it may not perform well on the out-of-sample data because the model is tuned just for that specific set."
   ]
  }
 ],
 "metadata": {
  "kernelspec": {
   "display_name": "Python 3",
   "language": "python",
   "name": "python3"
  },
  "language_info": {
   "codemirror_mode": {
    "name": "ipython",
    "version": 3
   },
   "file_extension": ".py",
   "mimetype": "text/x-python",
   "name": "python",
   "nbconvert_exporter": "python",
   "pygments_lexer": "ipython3",
   "version": "3.8.8"
  }
 },
 "nbformat": 4,
 "nbformat_minor": 5
}
