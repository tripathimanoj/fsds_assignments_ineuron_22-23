{
  "nbformat": 4,
  "nbformat_minor": 0,
  "metadata": {
    "colab": {
      "provenance": []
    },
    "kernelspec": {
      "name": "python3",
      "display_name": "Python 3"
    },
    "language_info": {
      "name": "python"
    }
  },
  "cells": [
    {
      "cell_type": "code",
      "execution_count": 3,
      "metadata": {
        "colab": {
          "base_uri": "https://localhost:8080/",
          "height": 53
        },
        "id": "Fk2IeL3N6Ahs",
        "outputId": "462b37fd-1469-43c0-c01f-92b5c59ea94a"
      },
      "outputs": [
        {
          "output_type": "execute_result",
          "data": {
            "text/plain": [
              "'\\n1.What are the two values of the Boolean data type? How do you write them?\\n\\nThe two values of the Boolean data type are \"true\" and \"false\". These values represent logical truth values, where \"true\" represents a condition that is true or has been met, and \"false\" \\nrepresents a condition that is false or has not been met.\\n'"
            ],
            "application/vnd.google.colaboratory.intrinsic+json": {
              "type": "string"
            }
          },
          "metadata": {},
          "execution_count": 3
        }
      ],
      "source": [
        "'''\n",
        "1.What are the two values of the Boolean data type? How do you write them?\n",
        "\n",
        "The two values of the Boolean data type are \"true\" and \"false\". These values represent logical truth values, where \"true\" represents a condition that is true or has been met, and \"false\" \n",
        "represents a condition that is false or has not been met.\n",
        "'''"
      ]
    },
    {
      "cell_type": "code",
      "source": [
        "'''\n",
        "2 What are the three different types of Boolean operators? \n",
        "AND operator\n",
        "OR operator\n",
        "NOT operaor\n",
        "'''"
      ],
      "metadata": {
        "colab": {
          "base_uri": "https://localhost:8080/",
          "height": 35
        },
        "id": "Y-YYWiWx6FPz",
        "outputId": "0f7f4896-0081-43a2-c040-b09083289c9f"
      },
      "execution_count": 4,
      "outputs": [
        {
          "output_type": "execute_result",
          "data": {
            "text/plain": [
              "'\\n2 What are the three different types of Boolean operators? \\nAND operator\\nOR operator\\nNOT operaor\\n'"
            ],
            "application/vnd.google.colaboratory.intrinsic+json": {
              "type": "string"
            }
          },
          "metadata": {},
          "execution_count": 4
        }
      ]
    },
    {
      "cell_type": "code",
      "source": [
        "'''\n",
        "3. Make a list of each Boolean operator truth tables (i.e. every possible combination of Boolean\n",
        "values for the operator and what it evaluate ). \n",
        "\n",
        "A      B      A && B\n",
        "---------------------\n",
        "true   true   true\n",
        "true   false  false\n",
        "false  true   false\n",
        "false  false  false\n",
        "\n",
        "A      B      A || B\n",
        "---------------------\n",
        "true   true   true\n",
        "true   false  true\n",
        "false  true   true\n",
        "false  false  false\n",
        "\n",
        "A      !A\n",
        "----------\n",
        "true   false\n",
        "false  true\n",
        "'''\n"
      ],
      "metadata": {
        "colab": {
          "base_uri": "https://localhost:8080/",
          "height": 53
        },
        "id": "-jdjdWbp6cfy",
        "outputId": "9396f779-2bb3-4963-eaa7-3eaf37bf3188"
      },
      "execution_count": 5,
      "outputs": [
        {
          "output_type": "execute_result",
          "data": {
            "text/plain": [
              "'\\n3. Make a list of each Boolean operator truth tables (i.e. every possible combination of Boolean\\nvalues for the operator and what it evaluate ). \\n\\nA      B      A && B\\n---------------------\\ntrue   true   true\\ntrue   false  false\\nfalse  true   false\\nfalse  false  false\\n\\nA      B      A || B\\n---------------------\\ntrue   true   true\\ntrue   false  true\\nfalse  true   true\\nfalse  false  false\\n\\nA      !A\\n----------\\ntrue   false\\nfalse  true\\n'"
            ],
            "application/vnd.google.colaboratory.intrinsic+json": {
              "type": "string"
            }
          },
          "metadata": {},
          "execution_count": 5
        }
      ]
    },
    {
      "cell_type": "code",
      "source": [
        "'''\n",
        "4. What are the values of the following expressions?\n",
        "(5 &gt; 4) and (3 == 5)\n",
        "not (5 &gt; 4)\n",
        "(5 &gt; 4) or (3 == 5)\n",
        "not ((5 &gt; 4) or (3 == 5))\n",
        "(True and True) and (True == False)\n",
        "(not False) or (not True)\n",
        "\n",
        "sol:\n",
        "\n",
        "false\n",
        "false\n",
        "true\n",
        "false\n",
        "false\n",
        "true\n",
        "'''"
      ],
      "metadata": {
        "colab": {
          "base_uri": "https://localhost:8080/",
          "height": 53
        },
        "id": "q3aBSTwv60TC",
        "outputId": "89a80de8-12eb-495f-e2aa-c025f68efeda"
      },
      "execution_count": 6,
      "outputs": [
        {
          "output_type": "execute_result",
          "data": {
            "text/plain": [
              "'\\n4. What are the values of the following expressions?\\n(5 &gt; 4) and (3 == 5)\\nnot (5 &gt; 4)\\n(5 &gt; 4) or (3 == 5)\\nnot ((5 &gt; 4) or (3 == 5))\\n(True and True) and (True == False)\\n(not False) or (not True)\\n\\nsol:\\n\\nfalse\\nfalse\\ntrue\\nfalse\\nfalse\\ntrue\\n'"
            ],
            "application/vnd.google.colaboratory.intrinsic+json": {
              "type": "string"
            }
          },
          "metadata": {},
          "execution_count": 6
        }
      ]
    },
    {
      "cell_type": "code",
      "source": [
        "'''\n",
        "5. What are the six comparison operators?\n",
        "\n",
        "The six comparison operators are:\n",
        "\n",
        "1. Equal to\n",
        "2. Not equal to\n",
        "3. Greater than\n",
        "4. Less than\n",
        "5. Greater than or equal to\n",
        "6. Less than or equal to\n",
        "'''\n"
      ],
      "metadata": {
        "colab": {
          "base_uri": "https://localhost:8080/",
          "height": 35
        },
        "id": "LN6ynWX67kGk",
        "outputId": "3fd9b8eb-5321-49f6-e483-861ee05d6714"
      },
      "execution_count": 7,
      "outputs": [
        {
          "output_type": "execute_result",
          "data": {
            "text/plain": [
              "'\\n5. What are the six comparison operators?\\n\\nThe six comparison operators are:\\n\\n1. Equal to\\n2. Not equal to\\n3. Greater than\\n4. Less than\\n5. Greater than or equal to\\n6. Less than or equal to\\n'"
            ],
            "application/vnd.google.colaboratory.intrinsic+json": {
              "type": "string"
            }
          },
          "metadata": {},
          "execution_count": 7
        }
      ]
    },
    {
      "cell_type": "code",
      "source": [
        "'''\n",
        "6. How do you tell the difference between the equal to and assignment operators?Describe a\n",
        "condition and when you would use one.\n",
        "\n",
        "equeal to (==): is a comparison operator we can use them when we have to check the condition like , ex: is value of a is equal to 2 or not : a==2.\n",
        "assignment operator(=): is a assignment operator it is used to assign the values is the variables ex: num=121.\n",
        "'''"
      ],
      "metadata": {
        "colab": {
          "base_uri": "https://localhost:8080/",
          "height": 53
        },
        "id": "Amlk30I18CuY",
        "outputId": "0ae527ef-75f9-4394-8b77-958e85578b50"
      },
      "execution_count": 9,
      "outputs": [
        {
          "output_type": "execute_result",
          "data": {
            "text/plain": [
              "'\\n6. How do you tell the difference between the equal to and assignment operators?Describe a\\ncondition and when you would use one.\\n\\nequeal to (==): is a comparison operator we can use them when we have to check the condition like , ex: is value of a is equal to 2 or not : a==2.\\nassignment operator(=): is a assignment operator it is used to assign the values is the variables ex: num=121.\\n'"
            ],
            "application/vnd.google.colaboratory.intrinsic+json": {
              "type": "string"
            }
          },
          "metadata": {},
          "execution_count": 9
        }
      ]
    },
    {
      "cell_type": "code",
      "source": [
        "'''\n",
        "7. Identify the three blocks in this code:\n",
        "spam = 0\n",
        "if spam == 10:\n",
        "print(&#39;eggs&#39;)\n",
        "if spam &gt; 5:\n",
        "print(&#39;bacon&#39;)\n",
        "else:\n",
        "print(&#39;ham&#39;)\n",
        "print(&#39;spam&#39;)\n",
        "print(&#39;spam&#39;)\n",
        "\n",
        "\n",
        "\n",
        "\n",
        "\n",
        "there are three blocks in this code:\n",
        "\n",
        "1. The first block is a single line statement that assigns the value 0 to the variable \"spam\".\n",
        "\n",
        "\n",
        "spam = 0\n",
        "\n",
        "\n",
        "2. The second block contains two if statements. The first if statement checks if \"spam\" is equal to 10. If it is, it will print \"eggs\". The second if statement checks if \"spam\" is greater than 5. If it is, it will print \"bacon\". If \"spam\" is not greater than 5, it will print \"ham\".\n",
        "\n",
        "\n",
        "if spam == 10:\n",
        "    print('eggs')\n",
        "if spam > 5:\n",
        "    print('bacon')\n",
        "else:\n",
        "    print('ham')\n",
        "\n",
        "\n",
        "3. The third block contains three print statements that will always be executed. It will print \"spam\" on two separate lines.\n",
        "\n",
        "\n",
        "print('spam')\n",
        "print('spam')\n",
        "\n",
        "'''\n"
      ],
      "metadata": {
        "colab": {
          "base_uri": "https://localhost:8080/",
          "height": 105
        },
        "id": "L3ziwR-G8tZd",
        "outputId": "97c95700-8513-4a9b-e46a-9c1d0fb3d5bd"
      },
      "execution_count": 11,
      "outputs": [
        {
          "output_type": "execute_result",
          "data": {
            "text/plain": [
              "'\\n7. Identify the three blocks in this code:\\nspam = 0\\nif spam == 10:\\nprint(&#39;eggs&#39;)\\nif spam &gt; 5:\\nprint(&#39;bacon&#39;)\\nelse:\\nprint(&#39;ham&#39;)\\nprint(&#39;spam&#39;)\\nprint(&#39;spam&#39;)\\n\\n\\n\\n\\n\\nthere are three blocks in this code:\\n\\n1. The first block is a single line statement that assigns the value 0 to the variable \"spam\".\\n\\n\\nspam = 0\\n\\n\\n2. The second block contains two if statements. The first if statement checks if \"spam\" is equal to 10. If it is, it will print \"eggs\". The second if statement checks if \"spam\" is greater than 5. If it is, it will print \"bacon\". If \"spam\" is not greater than 5, it will print \"ham\".\\n\\n\\nif spam == 10:\\n    print(\\'eggs\\')\\nif spam > 5:\\n    print(\\'bacon\\')\\nelse:\\n    print(\\'ham\\')\\n\\n\\n3. The third block contains three print statements that will always be executed. It will print \"spam\" on two separate lines.\\n\\n\\nprint(\\'spam\\')\\nprint(\\'spam\\')\\n\\n'"
            ],
            "application/vnd.google.colaboratory.intrinsic+json": {
              "type": "string"
            }
          },
          "metadata": {},
          "execution_count": 11
        }
      ]
    },
    {
      "cell_type": "code",
      "source": [
        "'''\n",
        "8. Write code that prints Hello if 1 is stored in spam, prints Howdy if 2 is stored in spam, and prints\n",
        "Greetings! if anything else is stored in spam.\n",
        "\n",
        "if spam == 1:\n",
        "    print(\"Hello\")\n",
        "elif spam == 2:\n",
        "    print(\"Howdy\")\n",
        "else:\n",
        "    print(\"Greetings!\")\n",
        "'''"
      ],
      "metadata": {
        "colab": {
          "base_uri": "https://localhost:8080/",
          "height": 53
        },
        "id": "TLKugWqr9Kc_",
        "outputId": "c88d0b48-20c0-45fe-ed78-19a6e76d4070"
      },
      "execution_count": 12,
      "outputs": [
        {
          "output_type": "execute_result",
          "data": {
            "text/plain": [
              "'\\n8. Write code that prints Hello if 1 is stored in spam, prints Howdy if 2 is stored in spam, and prints\\nGreetings! if anything else is stored in spam.\\n\\nif spam == 1:\\n    print(\"Hello\")\\nelif spam == 2:\\n    print(\"Howdy\")\\nelse:\\n    print(\"Greetings!\")\\n'"
            ],
            "application/vnd.google.colaboratory.intrinsic+json": {
              "type": "string"
            }
          },
          "metadata": {},
          "execution_count": 12
        }
      ]
    },
    {
      "cell_type": "code",
      "source": [
        "'''\n",
        "9.If your programme is stuck in an endless loop, what keys you’ll press?\n",
        "\n",
        "ctrl+c or will terminate from the ide.\n",
        "'''"
      ],
      "metadata": {
        "colab": {
          "base_uri": "https://localhost:8080/",
          "height": 35
        },
        "id": "Hoy92m409qEg",
        "outputId": "0cc9f129-6521-4d5b-8538-47d729c6ff49"
      },
      "execution_count": 13,
      "outputs": [
        {
          "output_type": "execute_result",
          "data": {
            "text/plain": [
              "'\\n9.If your programme is stuck in an endless loop, what keys you’ll press?\\n\\nctrl+c or will terminate from the ide.\\n'"
            ],
            "application/vnd.google.colaboratory.intrinsic+json": {
              "type": "string"
            }
          },
          "metadata": {},
          "execution_count": 13
        }
      ]
    },
    {
      "cell_type": "code",
      "source": [
        "'''\n",
        "10. How can you tell the difference between break and continue?\n",
        "\n",
        "break: is used to terminate the loop and move the control to the next statement after the loop. When a \"break\" statement is executed inside a loop, the loop is immediately exited, \n",
        "and the program execution continues with the statement immediately following the loop.\n",
        "\n",
        "continue: is used to skip the current iteration of the loop and move to the next iteration. When a \"continue\" statement is executed inside a loop, \n",
        "the current iteration of the loop is terminated, and the program execution continues with the next iteration of the loop.\n",
        "'''"
      ],
      "metadata": {
        "colab": {
          "base_uri": "https://localhost:8080/",
          "height": 70
        },
        "id": "-xHyVOlK91FB",
        "outputId": "6b4e9cf7-c152-4db3-a072-1508797a1253"
      },
      "execution_count": 14,
      "outputs": [
        {
          "output_type": "execute_result",
          "data": {
            "text/plain": [
              "'\\n10. How can you tell the difference between break and continue?\\n\\nbreak: is used to terminate the loop and move the control to the next statement after the loop. When a \"break\" statement is executed inside a loop, the loop is immediately exited, \\nand the program execution continues with the statement immediately following the loop.\\n\\ncontinue: is used to skip the current iteration of the loop and move to the next iteration. When a \"continue\" statement is executed inside a loop, \\nthe current iteration of the loop is terminated, and the program execution continues with the next iteration of the loop.\\n'"
            ],
            "application/vnd.google.colaboratory.intrinsic+json": {
              "type": "string"
            }
          },
          "metadata": {},
          "execution_count": 14
        }
      ]
    },
    {
      "cell_type": "code",
      "source": [
        "'''\n",
        "11. In a for loop, what is the difference between range(10), range(0, 10), and range(0, 10, 1)?\n",
        "\n",
        "range(10) : This generates a sequence of numbers from 0 to 9 by default. The \"10\" represents the number of elements in the sequence, and the first element is always 0.\n",
        "\n",
        "range(0, 10) : This also generates a sequence of numbers from 0 to 9, but the numbers are generated by specifying the start and end values of the sequence. The \"0\" \n",
        "represents the first element in the sequence, while \"10\" represents the end value of the sequence. By default, the step value is 1, so the sequence increments by 1 from the start value to the end value.\n",
        "\n",
        "range(0, 10, 1) : This generates a sequence of numbers from 0 to 9, just like the previous two examples. However, the step value is explicitly specified as \"1\". \n",
        "This means that the sequence increments by 1 from the start value of 0 to the end value of 9.\n",
        "'''"
      ],
      "metadata": {
        "colab": {
          "base_uri": "https://localhost:8080/",
          "height": 87
        },
        "id": "zlUihGcI-EOR",
        "outputId": "61616663-d366-4abb-9db3-cc8e5ac72cfd"
      },
      "execution_count": 15,
      "outputs": [
        {
          "output_type": "execute_result",
          "data": {
            "text/plain": [
              "'\\n11. In a for loop, what is the difference between range(10), range(0, 10), and range(0, 10, 1)?\\n\\nrange(10) : This generates a sequence of numbers from 0 to 9 by default. The \"10\" represents the number of elements in the sequence, and the first element is always 0.\\n\\nrange(0, 10) : This also generates a sequence of numbers from 0 to 9, but the numbers are generated by specifying the start and end values of the sequence. The \"0\" \\nrepresents the first element in the sequence, while \"10\" represents the end value of the sequence. By default, the step value is 1, so the sequence increments by 1 from the start value to the end value.\\n\\nrange(0, 10, 1) : This generates a sequence of numbers from 0 to 9, just like the previous two examples. However, the step value is explicitly specified as \"1\". \\nThis means that the sequence increments by 1 from the start value of 0 to the end value of 9.\\n'"
            ],
            "application/vnd.google.colaboratory.intrinsic+json": {
              "type": "string"
            }
          },
          "metadata": {},
          "execution_count": 15
        }
      ]
    },
    {
      "cell_type": "code",
      "source": [
        "'''\n",
        "12. Write a short program that prints the numbers 1 to 10 using a for loop. Then write an equivalent\n",
        "program that prints the numbers 1 to 10 using a while loop.\n",
        "\n",
        "for i in range(1, 11):\n",
        "    print(i)\n",
        "--------------------------\n",
        "i = 1\n",
        "while i <= 10:\n",
        "    print(i)\n",
        "    i += 1\n",
        "'''"
      ],
      "metadata": {
        "colab": {
          "base_uri": "https://localhost:8080/",
          "height": 53
        },
        "id": "WAB7pXJL-XTh",
        "outputId": "19fd3f9f-f55c-41ac-811d-dd1189d5500e"
      },
      "execution_count": 17,
      "outputs": [
        {
          "output_type": "execute_result",
          "data": {
            "text/plain": [
              "'\\n12. Write a short program that prints the numbers 1 to 10 using a for loop. Then write an equivalent\\nprogram that prints the numbers 1 to 10 using a while loop.\\n\\nfor i in range(1, 11):\\n    print(i)\\n--------------------------\\ni = 1\\nwhile i <= 10:\\n    print(i)\\n    i += 1\\n'"
            ],
            "application/vnd.google.colaboratory.intrinsic+json": {
              "type": "string"
            }
          },
          "metadata": {},
          "execution_count": 17
        }
      ]
    },
    {
      "cell_type": "code",
      "source": [
        "'''\n",
        "13. If you had a function named bacon() inside a module named spam, how would you call it after\n",
        "importing spam?\n",
        "\n",
        "import spam\n",
        "\n",
        "spam.bacon()\n",
        "'''"
      ],
      "metadata": {
        "colab": {
          "base_uri": "https://localhost:8080/",
          "height": 35
        },
        "id": "8INxXDYB-sJC",
        "outputId": "ca3bf89b-d4cd-4a42-9741-1e3b7935ea7d"
      },
      "execution_count": 18,
      "outputs": [
        {
          "output_type": "execute_result",
          "data": {
            "text/plain": [
              "'\\n13. If you had a function named bacon() inside a module named spam, how would you call it after\\nimporting spam?\\n\\nimport spam\\n\\nspam.bacon()\\n'"
            ],
            "application/vnd.google.colaboratory.intrinsic+json": {
              "type": "string"
            }
          },
          "metadata": {},
          "execution_count": 18
        }
      ]
    },
    {
      "cell_type": "code",
      "source": [],
      "metadata": {
        "id": "3mBs4k2k_EjS"
      },
      "execution_count": null,
      "outputs": []
    }
  ]
}