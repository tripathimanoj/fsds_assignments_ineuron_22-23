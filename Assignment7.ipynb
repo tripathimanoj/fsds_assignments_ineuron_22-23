{
  "nbformat": 4,
  "nbformat_minor": 0,
  "metadata": {
    "colab": {
      "provenance": []
    },
    "kernelspec": {
      "name": "python3",
      "display_name": "Python 3"
    },
    "language_info": {
      "name": "python"
    }
  },
  "cells": [
    {
      "cell_type": "code",
      "execution_count": null,
      "metadata": {
        "id": "UmNvfbSdZFpj"
      },
      "outputs": [],
      "source": []
    },
    {
      "cell_type": "markdown",
      "source": [
        "1. What is the name of the feature responsible for generating Regex objects?\n",
        "\n",
        "2. Why do raw strings often appear in Regex objects?\n",
        "\n",
        "3. What is the return value of the search() method?\n",
        "\n",
        "4. From a Match item, how do you get the actual strings that match the pattern?\n",
        "\n",
        "5. In the regex which created from the r&#39;(\\d\\d\\d)-(\\d\\d\\d-\\d\\d\\d\\d)&#39;, what does group zero cover?\n",
        "Group 2? Group 1?\n",
        "\n",
        "6. In standard expression syntax, parentheses and intervals have distinct meanings. How can you tell\n",
        "\n",
        "a regex that you want it to fit real parentheses and periods?\n",
        "\n",
        "7. The findall() method returns a string list or a list of string tuples. What causes it to return one of\n",
        "the two options?\n",
        "\n",
        "8. In standard expressions, what does the | character mean?\n",
        "\n",
        "9. In regular expressions, what does the character stand for?\n",
        "\n",
        "10.In regular expressions, what is the difference between the + and * characters?\n",
        "\n",
        "11. What is the difference between {4} and {4,5} in regular expression?\n",
        "\n",
        "12. What do you mean by the \\d, \\w, and \\s shorthand character classes signify in regular\n",
        "expressions?\n",
        "\n",
        "13. What do means by \\D, \\W, and \\S shorthand character classes signify in regular expressions?\n",
        "\n",
        "14. What is the difference between .*? and .*?\n",
        "\n",
        "15. What is the syntax for matching both numbers and lowercase letters with a character class?\n",
        "\n",
        "16. What is the procedure for making a normal expression in regax case insensitive?\n",
        "\n",
        "17. What does the . character normally match? What does it match if re.DOTALL is passed as 2nd\n",
        "argument in re.compile()?\n",
        "\n",
        "18. If numReg = re.compile(r&#39;\\d+&#39;), what will numRegex.sub(&#39;X&#39;, &#39;11 drummers, 10 pipers, five rings, 4\n",
        "hen&#39;) return?\n",
        "\n",
        "19. What does passing re.VERBOSE as the 2nd argument to re.compile() allow to do?\n",
        "\n",
        "20. How would you write a regex that match a number with comma for every three digits? It must\n",
        "\n",
        "match the given following:\n",
        "&#39;42&#39;\n",
        "&#39;1,234&#39;\n",
        "&#39;6,368,745&#39;\n",
        "\n",
        "but not the following:\n",
        "&#39;12,34,567&#39; (which has only two digits between the commas)\n",
        "&#39;1234&#39; (which lacks commas)\n",
        "\n",
        "21. How would you write a regex that matches the full name of someone whose last name is\n",
        "Watanabe? You can assume that the first name that comes before it will always be one word that\n",
        "begins with a capital letter. The regex must match the following:\n",
        "&#39;Haruto Watanabe&#39;\n",
        "&#39;Alice Watanabe&#39;\n",
        "&#39;RoboCop Watanabe&#39;\n",
        "but not the following:\n",
        "&#39;haruto Watanabe&#39; (where the first name is not capitalized)\n",
        "&#39;Mr. Watanabe&#39; (where the preceding word has a nonletter character)\n",
        "&#39;Watanabe&#39; (which has no first name)\n",
        "&#39;Haruto watanabe&#39; (where Watanabe is not capitalized)\n",
        "\n",
        "22. How would you write a regex that matches a sentence where the first word is either Alice, Bob,\n",
        "or Carol; the second word is either eats, pets, or throws; the third word is apples, cats, or baseballs;\n",
        "and the sentence ends with a period? This regex should be case-insensitive. It must match the\n",
        "following:\n",
        "&#39;Alice eats apples.&#39;\n",
        "&#39;Bob pets cats.&#39;\n",
        "&#39;Carol throws baseballs.&#39;\n",
        "&#39;Alice throws Apples.&#39;\n",
        "&#39;BOB EATS CATS.&#39;\n",
        "but not the following:\n",
        "&#39;RoboCop eats apples.&#39;\n",
        "&#39;ALICE THROWS FOOTBALLS.&#39;\n",
        "&#39;Carol eats 7 cats.&#39;"
      ],
      "metadata": {
        "id": "nm9s4kryZ8xa"
      }
    },
    {
      "cell_type": "code",
      "source": [
        "'''\n",
        "1\n",
        "The `re` module is responsible for generating Regex objects in Python.\n",
        "'''"
      ],
      "metadata": {
        "colab": {
          "base_uri": "https://localhost:8080/",
          "height": 35
        },
        "id": "_hogJnCjZ_0y",
        "outputId": "390b2f2a-f382-4fc5-d37f-250a7264cd95"
      },
      "execution_count": 1,
      "outputs": [
        {
          "output_type": "execute_result",
          "data": {
            "text/plain": [
              "'\\n1\\nThe `re` module is responsible for generating Regex objects in Python.\\n'"
            ],
            "application/vnd.google.colaboratory.intrinsic+json": {
              "type": "string"
            }
          },
          "metadata": {},
          "execution_count": 1
        }
      ]
    },
    {
      "cell_type": "code",
      "source": [
        "'''\n",
        "2\n",
        "Raw strings are often used in Regex objects because regular expressions frequently use characters that are also special characters in Python strings, such as backslashes and forward slashes.\n",
        " By using a raw string, these characters are treated as literal characters rather than escape sequences, making it easier to write and read regular expressions.\n",
        "'''"
      ],
      "metadata": {
        "colab": {
          "base_uri": "https://localhost:8080/",
          "height": 53
        },
        "id": "DdZ-9UpjbJts",
        "outputId": "3b777597-7382-4101-8b48-30b823d094cc"
      },
      "execution_count": 2,
      "outputs": [
        {
          "output_type": "execute_result",
          "data": {
            "text/plain": [
              "'\\n2\\nRaw strings are often used in Regex objects because regular expressions frequently use characters that are also special characters in Python strings, such as backslashes and forward slashes.\\n By using a raw string, these characters are treated as literal characters rather than escape sequences, making it easier to write and read regular expressions.\\n'"
            ],
            "application/vnd.google.colaboratory.intrinsic+json": {
              "type": "string"
            }
          },
          "metadata": {},
          "execution_count": 2
        }
      ]
    },
    {
      "cell_type": "code",
      "source": [
        "'''\n",
        "3\n",
        "\n",
        "The `search()` method in Python's regular expression module (`re`) returns a match object if a match is found, and `None` if no match is found.\n",
        "'''"
      ],
      "metadata": {
        "colab": {
          "base_uri": "https://localhost:8080/",
          "height": 35
        },
        "id": "1ViEPquAbVqS",
        "outputId": "e7a304c9-a2b9-4e5a-ad6e-990dcc5cf30f"
      },
      "execution_count": 3,
      "outputs": [
        {
          "output_type": "execute_result",
          "data": {
            "text/plain": [
              "\"\\n3\\n\\nThe `search()` method in Python's regular expression module (`re`) returns a match object if a match is found, and `None` if no match is found.\\n\""
            ],
            "application/vnd.google.colaboratory.intrinsic+json": {
              "type": "string"
            }
          },
          "metadata": {},
          "execution_count": 3
        }
      ]
    },
    {
      "cell_type": "code",
      "source": [
        "'''\n",
        "4\n",
        "\n",
        "We can use the `group()` method on a Match object to get the actual strings that match the pattern. By default, `group()` returns the entire match, but you can also use it with an argument to get the portion of the match \n",
        "that corresponds to a specific group in the regular expression pattern. For example, `match.group(1)` would return the string that matches the first group in the pattern.\n",
        "'''"
      ],
      "metadata": {
        "colab": {
          "base_uri": "https://localhost:8080/",
          "height": 53
        },
        "id": "bzTuBwR_eaCl",
        "outputId": "a86deb8c-ab89-4f12-d6a6-94ae83f44f01"
      },
      "execution_count": 4,
      "outputs": [
        {
          "output_type": "execute_result",
          "data": {
            "text/plain": [
              "'\\n4\\n\\nWe can use the `group()` method on a Match object to get the actual strings that match the pattern. By default, `group()` returns the entire match, but you can also use it with an argument to get the portion of the match \\nthat corresponds to a specific group in the regular expression pattern. For example, `match.group(1)` would return the string that matches the first group in the pattern.\\n'"
            ],
            "application/vnd.google.colaboratory.intrinsic+json": {
              "type": "string"
            }
          },
          "metadata": {},
          "execution_count": 4
        }
      ]
    },
    {
      "cell_type": "code",
      "source": [
        "'''\n",
        "5\n",
        "\n",
        "In the regex `r'(\\d\\d\\d)-(\\d\\d\\d-\\d\\d\\d\\d)'`, group zero covers the entire string matched by the regular expression. Group 1 covers the first set of three digits matched by `(\\d\\d\\d)`, \n",
        "and group 2 covers the second set of three digits followed by a hyphen and the last four digits matched by `(\\d\\d\\d-\\d\\d\\d\\d)`.\n",
        "'''"
      ],
      "metadata": {
        "colab": {
          "base_uri": "https://localhost:8080/",
          "height": 53
        },
        "id": "xnQYCoL-eoXV",
        "outputId": "03b76b3e-abde-4250-b32f-c93664e0e77d"
      },
      "execution_count": 5,
      "outputs": [
        {
          "output_type": "execute_result",
          "data": {
            "text/plain": [
              "\"\\n5\\n\\nIn the regex `r'(\\\\d\\\\d\\\\d)-(\\\\d\\\\d\\\\d-\\\\d\\\\d\\\\d\\\\d)'`, group zero covers the entire string matched by the regular expression. Group 1 covers the first set of three digits matched by `(\\\\d\\\\d\\\\d)`, \\nand group 2 covers the second set of three digits followed by a hyphen and the last four digits matched by `(\\\\d\\\\d\\\\d-\\\\d\\\\d\\\\d\\\\d)`.\\n\""
            ],
            "application/vnd.google.colaboratory.intrinsic+json": {
              "type": "string"
            }
          },
          "metadata": {},
          "execution_count": 5
        }
      ]
    },
    {
      "cell_type": "code",
      "source": [
        "'''\n",
        "6\n",
        "\n",
        "To fit real parentheses and periods in a regex, you can use the escape character (`\\`). This tells the regex to treat the following character as a literal character instead of a special character with a specific meaning.\n",
        "For example, to match a string that contains actual parentheses and periods, you could use a regex like `\\(hello\\.world\\)`. Here, the backslash before the parentheses and period indicates that they should be treated as \n",
        "literal characters rather than special regex syntax.\n",
        " '''"
      ],
      "metadata": {
        "colab": {
          "base_uri": "https://localhost:8080/",
          "height": 70
        },
        "id": "-q6_rPtcezXl",
        "outputId": "b285d89e-327a-44b8-aa92-b04ae80b70f7"
      },
      "execution_count": 6,
      "outputs": [
        {
          "output_type": "execute_result",
          "data": {
            "text/plain": [
              "'\\n6\\n\\nTo fit real parentheses and periods in a regex, you can use the escape character (`\\\\`). This tells the regex to treat the following character as a literal character instead of a special character with a specific meaning.\\nFor example, to match a string that contains actual parentheses and periods, you could use a regex like `\\\\(hello\\\\.world\\\\)`. Here, the backslash before the parentheses and period indicates that they should be treated as \\nliteral characters rather than special regex syntax.\\n '"
            ],
            "application/vnd.google.colaboratory.intrinsic+json": {
              "type": "string"
            }
          },
          "metadata": {},
          "execution_count": 6
        }
      ]
    },
    {
      "cell_type": "markdown",
      "source": [
        "7:\n",
        "The `findall()` method returns a list of string matches if the regular expression being searched does not contain any groups. However, if the regular expression contains one or more groups, it returns a list of tuples, where each tuple contains the matched groups. The contents of each tuple depend on the number of groups and their content within the regular expression."
      ],
      "metadata": {
        "id": "zh7DA-p5gDT5"
      }
    },
    {
      "cell_type": "markdown",
      "source": [
        "8:\n",
        "In regular expressions, the | character means \"or\". It is used to specify a set of characters or expressions that can match the searched string. For example, the regular expression \"cat|dog\" matches either \"cat\" or \"dog\"."
      ],
      "metadata": {
        "id": "nJjtgC-ZgG3w"
      }
    },
    {
      "cell_type": "markdown",
      "source": [
        "9:\n",
        "In regular expressions, the \".\" character (period) is called a dot, and it represents any single character except for a newline character."
      ],
      "metadata": {
        "id": "VJKVD9o2gQ7B"
      }
    },
    {
      "cell_type": "markdown",
      "source": [
        "10:\n",
        "In regular expressions, the `+` and `*` characters are used to specify how many times a particular pattern should be repeated. The `+` character indicates that the preceding pattern should match one or more times, while the `*` character indicates that the preceding pattern should match zero or more times."
      ],
      "metadata": {
        "id": "80ZfmDfRgcb5"
      }
    },
    {
      "cell_type": "markdown",
      "source": [
        "11:\n",
        "In regular expressions, {4} specifies exactly 4 occurrences of the preceding character or group, while {4,5} specifies 4 to 5 occurrences of the preceding character or group. For example, the regular expression `a{4}` matches exactly 4 consecutive occurrences of the character 'a', while the regular expression `a{4,5}` matches 4 to 5 consecutive occurrences of the character 'a'."
      ],
      "metadata": {
        "id": "pbhsoVtsgvCB"
      }
    },
    {
      "cell_type": "markdown",
      "source": [
        "12:\n",
        "In regular expressions, the shorthand character classes `\\d`, `\\w`, and `\\s` represent:\n",
        "\n",
        "- `\\d`: Matches any digit character, equivalent to the character set `[0-9]`.\n",
        "- `\\w`: Matches any word character, including alphanumeric characters and underscores, equivalent to the character set `[a-zA-Z0-9_]`.\n",
        "- `\\s`: Matches any whitespace character, including space, tab, newline, and other whitespace characters, equivalent to the character set `[\\t\\n\\r\\f\\v]`.\n",
        "\n",
        "These shorthand character classes are often used in regular expressions to match specific types of characters."
      ],
      "metadata": {
        "id": "MWLxjR51g8nZ"
      }
    },
    {
      "cell_type": "markdown",
      "source": [
        "13\n",
        "In regular expressions, the shorthand character classes `\\D`, `\\W`, and `\\S` have the following meanings:\n",
        "\n",
        "- `\\D`: matches any non-digit character. It is the opposite of the shorthand character class `\\d`.\n",
        "- `\\W`: matches any non-word character (i.e., any character that is not a letter, digit, or underscore). It is the opposite of the shorthand character class `\\w`.\n",
        "- `\\S`: matches any non-whitespace character. It is the opposite of the shorthand character class `\\s`.\n",
        "\n",
        "These shorthand character classes can be used to match specific types of characters in a regular expression."
      ],
      "metadata": {
        "id": "A0zd1IcLhtZZ"
      }
    },
    {
      "cell_type": "markdown",
      "source": [
        "14\n",
        "There is no difference between `.*?` and `.*` on their own. However, the `?` character in `.*?` makes the `*` non-greedy, which means it matches as few characters as possible while still allowing the overall match to succeed. On the other hand, `.*` is greedy, which means it matches as many characters as possible while still allowing the overall match to succeed. \n",
        "\n",
        "For example, in the string `'<b>hello</b> <i>world</i>'`, the regular expression `'<.*>'` will match the entire string as a single match, while `'<.*?>'` will match only `<b>` and `<i>` as separate matches."
      ],
      "metadata": {
        "id": "gCLwme7fiMd0"
      }
    },
    {
      "cell_type": "markdown",
      "source": [
        "15\n",
        "The syntax for matching both numbers and lowercase letters with a character class in regular expressions is `[0-9a-z]`."
      ],
      "metadata": {
        "id": "JDNRx7vhidqq"
      }
    },
    {
      "cell_type": "markdown",
      "source": [
        "16:\n",
        "To make a regular expression case insensitive, you can add the `re.IGNORECASE` flag as the second argument to the `re.compile()` function or as the third argument to any of the `re` module functions like `re.search()`, `re.findall()`, etc.\n",
        "\n",
        "For example, if you want to match the word \"hello\" in a case-insensitive manner, you can use the following code:\n",
        "\n",
        "```\n",
        "import re\n",
        "\n",
        "text = \"Hello, world!\"\n",
        "pattern = re.compile(r\"hello\", re.IGNORECASE)\n",
        "match = pattern.search(text)\n",
        "\n",
        "print(match)\n",
        "```\n",
        "\n",
        "The `re.IGNORECASE` flag makes the regular expression match both \"hello\" and \"Hello\"."
      ],
      "metadata": {
        "id": "LPi-_aTKioNU"
      }
    },
    {
      "cell_type": "markdown",
      "source": [
        "17:\n",
        "In regular expressions, the `.` character normally matches any character except for a newline character. However, if `re.DOTALL` is passed as the second argument in `re.compile()`, then the `.` character matches any character including newline characters."
      ],
      "metadata": {
        "id": "OdERdw3Yi22-"
      }
    },
    {
      "cell_type": "markdown",
      "source": [
        "18:\n",
        "The `numRegex.sub('X', '11 drummers, 10 pipers, five rings, 4 hen')` will return the string: `'X drummers, X pipers, five rings, X hen'`. \n",
        "\n",
        "The `sub()` method will substitute all occurrences of the regex pattern `\\d+` (one or more digits) in the given string with the replacement string `'X'`."
      ],
      "metadata": {
        "id": "254csmDOjDUY"
      }
    },
    {
      "cell_type": "markdown",
      "source": [
        "19:\n",
        "Passing `re.VERBOSE` as the second argument to `re.compile()` allows you to add comments and whitespace to a regular expression pattern, which can make it more readable and easier to understand. The comments and whitespace are ignored by the regex engine when the pattern is actually matched."
      ],
      "metadata": {
        "id": "NZHNilj9jMZY"
      }
    },
    {
      "cell_type": "markdown",
      "source": [
        "20:\n",
        "\n",
        "You can write a regex that matches a number with a comma for every three digits using the following pattern:\n",
        "\n",
        "```python\n",
        "r'^\\d{1,3}(,\\d{3})*$'\n",
        "```\n",
        "\n",
        "This regular expression will match any string that starts with one to three digits, followed by zero or more occurrences of a comma and exactly three digits.\n",
        "\n",
        "For example:\n",
        "\n",
        "```python\n",
        "import re\n",
        "\n",
        "pattern = r'^\\d{1,3}(,\\d{3})*$'\n",
        "\n",
        "print(re.match(pattern, '42'))  # match\n",
        "print(re.match(pattern, '1,234'))  # match\n",
        "print(re.match(pattern, '6,368,745'))  # match\n",
        "print(re.match(pattern, '12,34,567'))  # no match\n",
        "print(re.match(pattern, '1234'))  # no match\n",
        "```"
      ],
      "metadata": {
        "id": "gseR_uH_jdpy"
      }
    },
    {
      "cell_type": "markdown",
      "source": [
        "21:\n",
        "\n",
        "we can use the following regex to match the full name of someone whose last name is Watanabe:\n",
        "\n",
        "```python\n",
        "r'[A-Z][a-zA-Z]*\\sWatanabe'\n",
        "```\n",
        "\n",
        "Here's what the different parts of the regex mean:\n",
        "- `[A-Z]`: Matches any uppercase letter (for the first letter of the first name)\n",
        "- `[a-zA-Z]*`: Matches zero or more uppercase and lowercase letters (for any additional letters in the first name)\n",
        "- `\\s`: Matches a single whitespace character (e.g. space or tab)\n",
        "- `Watanabe`: Matches the last name \"Watanabe\"\n",
        "\n",
        "This regex will match any string that starts with an uppercase letter, followed by zero or more letters, then a space, and finally the last name \"Watanabe\". This will match the names \"Haruto Watanabe\", \"Alice Watanabe\", and \"RoboCop Watanabe\", but will not match names that don't meet these criteria (e.g. \"haruto Watanabe\", \"Mr. Watanabe\", \"Watanabe\", or \"Haruto watanabe\")."
      ],
      "metadata": {
        "id": "qIhI0VArjwOu"
      }
    },
    {
      "cell_type": "markdown",
      "source": [
        "22:\n",
        "\n",
        "We can use the following regex to match the described sentence pattern:\n",
        "\n",
        "```\n",
        "^(Alice|Bob|Carol)\\s+(eats|pets|throws)\\s+(apples|cats|baseballs)\\.$\n",
        "```\n",
        "\n",
        "This regex uses groups and the `|` character to match one of the given options for each word. The `^` and `$` anchors ensure that the regex matches the entire sentence, from start to end. The `\\s+` matches one or more whitespace characters between the words. The `\\.` matches the period at the end of the sentence. The `re.IGNORECASE` flag can be passed to `re.compile()` to make the regex case-insensitive."
      ],
      "metadata": {
        "id": "HMTUag6vkAfH"
      }
    },
    {
      "cell_type": "code",
      "source": [],
      "metadata": {
        "id": "NyZMCtb1ke8J"
      },
      "execution_count": null,
      "outputs": []
    }
  ]
}