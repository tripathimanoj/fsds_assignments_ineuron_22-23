{
 "cells": [
  {
   "cell_type": "raw",
   "id": "6e0f1341",
   "metadata": {},
   "source": [
    "1. Write a Python program to print \"Hello Python\"?\n",
    "2. Write a Python program to do arithmetical operations addition and division.?\n",
    "3. Write a Python program to find the area of a triangle?\n",
    "4. Write a Python program to swap two variables?\n",
    "5. Write a Python program to generate a random number?"
   ]
  },
  {
   "cell_type": "code",
   "execution_count": 1,
   "id": "edde73b5",
   "metadata": {},
   "outputs": [
    {
     "name": "stdout",
     "output_type": "stream",
     "text": [
      "Hello Python\n"
     ]
    }
   ],
   "source": [
    "# 1:\n",
    "print(\"Hello Python\")"
   ]
  },
  {
   "cell_type": "code",
   "execution_count": 2,
   "id": "d07c7cee",
   "metadata": {},
   "outputs": [
    {
     "name": "stdout",
     "output_type": "stream",
     "text": [
      "enter value of a10\n",
      "enter value of b 2\n",
      "sum of a and b is : 12\n",
      "division of a and b is:  5.0\n"
     ]
    }
   ],
   "source": [
    "# 2\n",
    "a=int(input(\"enter value of a\" ))\n",
    "b=int(input(\"enter value of b \"))\n",
    "print(\"sum of a and b is :\", a+b)\n",
    "print(\"division of a and b is: \", a/b)"
   ]
  },
  {
   "cell_type": "code",
   "execution_count": 3,
   "id": "94695a91",
   "metadata": {},
   "outputs": [
    {
     "name": "stdout",
     "output_type": "stream",
     "text": [
      "Enter 1st side: 55\n",
      "Enter 2nd side: 65\n",
      "Enter 3rd side: 25\n",
      "The area of the triangle is 672.30\n"
     ]
    }
   ],
   "source": [
    "# 3\n",
    "import math\n",
    "a = float(input('Enter 1st side: '))\n",
    "b = float(input('Enter 2nd side: '))\n",
    "c = float(input('Enter 3rd side: '))\n",
    "s = (a + b + c) / 2   \n",
    "\n",
    "area = math.sqrt(s * (s - a) * (s - b) * (s - c)) \n",
    "print('The area of the triangle is %0.2f' %area) "
   ]
  },
  {
   "cell_type": "code",
   "execution_count": 4,
   "id": "dac8d925",
   "metadata": {},
   "outputs": [
    {
     "name": "stdout",
     "output_type": "stream",
     "text": [
      "enter value of a: 11\n",
      "enter value of b: 22\n",
      "after swaping value of a is 22, and value of b is 11\n"
     ]
    }
   ],
   "source": [
    "#4\n",
    "a=int(input(\"enter value of a: \"))\n",
    "b=int(input(\"enter value of b: \"))\n",
    "tmp=0\n",
    "tmp=a\n",
    "a=b\n",
    "b=tmp\n",
    "print(f\"after swaping value of a is {a}, and value of b is {b}\")"
   ]
  },
  {
   "cell_type": "code",
   "execution_count": 5,
   "id": "aeb14492",
   "metadata": {},
   "outputs": [
    {
     "name": "stdout",
     "output_type": "stream",
     "text": [
      "4\n"
     ]
    }
   ],
   "source": [
    "# 5\n",
    "import random\n",
    "\n",
    "print(random.randint(1,5)) # it will generate a single random number between 1 and 5 both inclued."
   ]
  },
  {
   "cell_type": "raw",
   "id": "ff5f9a67",
   "metadata": {},
   "source": [
    "------- end ------"
   ]
  }
 ],
 "metadata": {
  "kernelspec": {
   "display_name": "Python 3 (ipykernel)",
   "language": "python",
   "name": "python3"
  },
  "language_info": {
   "codemirror_mode": {
    "name": "ipython",
    "version": 3
   },
   "file_extension": ".py",
   "mimetype": "text/x-python",
   "name": "python",
   "nbconvert_exporter": "python",
   "pygments_lexer": "ipython3",
   "version": "3.9.12"
  }
 },
 "nbformat": 4,
 "nbformat_minor": 5
}
