{
  "nbformat": 4,
  "nbformat_minor": 0,
  "metadata": {
    "colab": {
      "provenance": []
    },
    "kernelspec": {
      "name": "python3",
      "display_name": "Python 3"
    },
    "language_info": {
      "name": "python"
    }
  },
  "cells": [
    {
      "cell_type": "markdown",
      "source": [
        "1. To what does a relative path refer?\n",
        "2. What does an absolute path start with your operating system?\n",
        "3. What do the functions os.getcwd() and os.chdir() do?\n",
        "4. What are the . and .. folders?\n",
        "5. In C:\\bacon\\eggs\\spam.txt, which part is the dir name, and which part is the base name?\n",
        "6. What are the three “mode” arguments that can be passed to the open() function?\n",
        "7. What happens if an existing file is opened in write mode?\n",
        "8. How do you tell the difference between read() and readlines()?\n",
        "9. What data structure does a shelf value resemble?"
      ],
      "metadata": {
        "id": "GHlQN6IJ34OA"
      }
    },
    {
      "cell_type": "markdown",
      "source": [
        "1:\n",
        "A relative path refers to the path of a file or directory relative to the current working directory of the program or user. It specifies the location of a file or directory based on its position relative to the current directory, rather than specifying the full or absolute path from the root directory."
      ],
      "metadata": {
        "id": "d4qCuVMk362O"
      }
    },
    {
      "cell_type": "markdown",
      "source": [
        "2:\n",
        "An absolute path starts with the root directory of the operating system. In Windows, this is typically the drive letter (e.g., C:\\), while in Unix-based systems, it is typically the forward slash (/)."
      ],
      "metadata": {
        "id": "tSNkim1d36-f"
      }
    },
    {
      "cell_type": "markdown",
      "source": [
        "3:\n",
        "The `os.getcwd()` function returns the current working directory (CWD) of the process, which is the path of the directory where the Python script is currently executing. \n",
        "\n",
        "The `os.chdir()` function is used to change the current working directory to the specified path. It takes a string argument that represents the path of the directory to which the CWD needs to be changed. After executing the `os.chdir()` function, any subsequent file I/O operation will be relative to the new CWD."
      ],
      "metadata": {
        "id": "QANZpUcn37Ff"
      }
    },
    {
      "cell_type": "markdown",
      "source": [
        "4:\n",
        "In a file system, the `.` (dot) folder refers to the current directory, and the `..` (double dot) folder refers to the parent directory of the current directory. For example, if the current directory is `/home/user/Documents`, then `.` refers to the directory `/home/user/Documents`, and `..` refers to the directory `/home/user`. These special folders can be useful for navigating the file system using relative paths."
      ],
      "metadata": {
        "id": "m9nI4nah37Me"
      }
    },
    {
      "cell_type": "markdown",
      "source": [
        "5:\n",
        "In the path C:\\bacon\\eggs\\spam.txt, \"C:\\bacon\\eggs\" is the directory name, and \"spam.txt\" is the base name."
      ],
      "metadata": {
        "id": "cTp-i0wy37Tu"
      }
    },
    {
      "cell_type": "markdown",
      "source": [
        "6:\n",
        "The three mode arguments that can be passed to the open() function are:\n",
        "\n",
        "1. \"r\" - Read mode. This is the default mode. It allows you to read the contents of a file.\n",
        "2. \"w\" - Write mode. It allows you to write data to a file. If the file already exists, its contents will be truncated.\n",
        "3. \"a\" - Append mode. It allows you to add data to the end of a file. If the file does not exist, it will be created."
      ],
      "metadata": {
        "id": "bnEpyR9U37Z3"
      }
    },
    {
      "cell_type": "markdown",
      "source": [
        "7:\n",
        "If an existing file is opened in write mode, its previous content is completely overwritten by the new content written to the file."
      ],
      "metadata": {
        "id": "biXVx4jU37hP"
      }
    },
    {
      "cell_type": "markdown",
      "source": [
        "8:\n",
        "read() and readlines() is that read() returns a single string object, while readlines() returns a list of strings where each string represents a line from the file."
      ],
      "metadata": {
        "id": "WCWz0d9g37n2"
      }
    },
    {
      "cell_type": "markdown",
      "source": [
        "9:\n",
        "A shelf value in Python resembles a dictionary data structure. It behaves like a persistent dictionary, allowing for the storage and retrieval of key-value pairs. However, unlike a dictionary, the keys and values in a shelf can only be strings."
      ],
      "metadata": {
        "id": "NMxYvlcb37tm"
      }
    }
  ]
}