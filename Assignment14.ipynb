{
  "nbformat": 4,
  "nbformat_minor": 0,
  "metadata": {
    "colab": {
      "provenance": []
    },
    "kernelspec": {
      "name": "python3",
      "display_name": "Python 3"
    },
    "language_info": {
      "name": "python"
    }
  },
  "cells": [
    {
      "cell_type": "markdown",
      "source": [
        "1. What does RGBA stand for?\n",
        "2. From the Pillow module, how do you get the RGBA value of any images?\n",
        "3. What is a box tuple, and how does it work?\n",
        "4. Use your image and load in notebook then, How can you find out the width and height of an\n",
        "Image object?\n",
        "5. What method would you call to get Image object for a 100×100 image, excluding the lower-left\n",
        "quarter of it?\n",
        "6. After making changes to an Image object, how could you save it as an image file?\n",
        "7. What module contains Pillow’s shape-drawing code?\n",
        "8. Image objects do not have drawing methods. What kind of object does? How do you get this kind\n",
        "of object?"
      ],
      "metadata": {
        "id": "3r0vcz0Qa0Ah"
      }
    },
    {
      "cell_type": "markdown",
      "source": [
        "sol 1:\n",
        "RGBA stands for Red Green Blue Alpha."
      ],
      "metadata": {
        "id": "UTnyU0L3a_lY"
      }
    },
    {
      "cell_type": "markdown",
      "source": [
        "sol 2:\n",
        "\n",
        "To get the RGBA value of any images using the Pillow module, you can use the `getpixel()` method. \n",
        "\n",
        "Here's an example:\n",
        "\n",
        "from PIL import Image\n",
        "image = Image.open('example.png')\n",
        "rgba_value = image.getpixel((0, 0))\n",
        "print(rgba_value)\n",
        "\n",
        "\n",
        "This will output a tuple containing the RGBA values of the pixel at coordinates (0, 0) in the image."
      ],
      "metadata": {
        "id": "6xn6SIzNa_pI"
      }
    },
    {
      "cell_type": "markdown",
      "source": [
        "sol 3:\n",
        "In Pillow, a box tuple is a tuple of four integers representing the left, top, right, and bottom pixel coordinates of a rectangular region in an image. The left and top values are the coordinates of the upper-left corner of the region, while the right and bottom values are the coordinates of the lower-right corner of the region. The box tuple is used to define the region of an image to crop, copy, or paste, among other operations. For example, the box tuple `(0, 0, 100, 100)` represents a rectangular region with the upper-left corner at (0,0) and the lower-right corner at (100,100)."
      ],
      "metadata": {
        "id": "TlnLC1c5a_r4"
      }
    },
    {
      "cell_type": "markdown",
      "source": [
        "sol 4:\n",
        "To find out the width and height of an Image object, you can use the `size` attribute of the Image object, which returns a tuple containing the width and height of the image in pixels. Here's an example code snippet that loads an image file using Pillow and prints its size:\n",
        "\n",
        "```python\n",
        "from PIL import Image\n",
        "img = Image.open(\"example.jpg\")\n",
        "width, height = img.size\n",
        "print(\"Width: \", width)\n",
        "print(\"Height:\", height)\n",
        "```"
      ],
      "metadata": {
        "id": "sGFGO5JEa_uY"
      }
    },
    {
      "cell_type": "markdown",
      "source": [
        "sol 5:\n",
        "\n",
        "To get an Image object for a 100×100 image, excluding the lower-left quarter of it, you can use the `crop()` method. Here's an example code snippet that demonstrates this:\n",
        "\n",
        "```python\n",
        "from PIL import Image\n",
        "image = Image.open('example.png')\n",
        "box = (50, 50, 100, 100)\n",
        "image_cropped = image.crop(box)\n",
        "width, height = image_cropped.size\n",
        "print('Width:', width)\n",
        "print('Height:', height)\n",
        "```"
      ],
      "metadata": {
        "id": "jvXdmWU2a_xQ"
      }
    },
    {
      "cell_type": "markdown",
      "source": [
        "sol 6:\n",
        "\n",
        "To save changes made to an Image object, you can call the `save()` method and pass in the filename and file format as arguments. For example, if you have an image object `img` and you want to save it as a PNG file with the filename \"my_image.png\", you would call:\n",
        "\n",
        "```\n",
        "img.save(\"my_image.png\", \"PNG\")\n",
        "```\n",
        "\n",
        "This will save the modified image to a file with the specified filename and format."
      ],
      "metadata": {
        "id": "KsVfhLKfa_2Y"
      }
    },
    {
      "cell_type": "markdown",
      "source": [
        "sol 7:\n",
        "\n",
        "The `ImageDraw` module contains Pillow's shape-drawing code."
      ],
      "metadata": {
        "id": "AkiP3ryfa_5w"
      }
    },
    {
      "cell_type": "markdown",
      "source": [
        "sol 8:\n",
        "\n",
        "The ImageDraw module contains Pillow's shape-drawing code. To get an ImageDraw object, you first need to import the module and create an ImageDraw object using the ImageDraw.Draw() function, passing in the Image object you want to draw on as an argument. "
      ],
      "metadata": {
        "id": "1d9Q9wbza_8Y"
      }
    }
  ]
}