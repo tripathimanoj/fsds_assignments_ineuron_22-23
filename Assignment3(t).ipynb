{
  "nbformat": 4,
  "nbformat_minor": 0,
  "metadata": {
    "colab": {
      "provenance": []
    },
    "kernelspec": {
      "name": "python3",
      "display_name": "Python 3"
    },
    "language_info": {
      "name": "python"
    }
  },
  "cells": [
    {
      "cell_type": "code",
      "execution_count": 1,
      "metadata": {
        "colab": {
          "base_uri": "https://localhost:8080/",
          "height": 105
        },
        "id": "x8yqDy4i_gX8",
        "outputId": "665d594c-1b37-41cf-a283-5299a5f3a38c"
      },
      "outputs": [
        {
          "output_type": "execute_result",
          "data": {
            "text/plain": [
              "'\\n1. Why are functions advantageous to have in your programs?\\n2. When does the code in a function run: when it&#39;s specified or when it&#39;s called?\\n3. What statement creates a function?\\n4. What is the difference between a function and a function call?\\n5. How many global scopes are there in a Python program? How many local scopes?\\n6. What happens to variables in a local scope when the function call returns?\\n7. What is the concept of a return value? Is it possible to have a return value in an expression?\\n8. If a function does not have a return statement, what is the return value of a call to that function?\\n9. How do you make a function variable refer to the global variable?\\n10. What is the data type of None?\\n11. What does the sentence import areallyourpetsnamederic do?\\n12. If you had a bacon() feature in a spam module, what would you call it after importing spam?\\n13. What can you do to save a programme from crashing if it encounters an error?\\n14. What is the purpose of the try clause? What is the purpose of the except clause?\\n'"
            ],
            "application/vnd.google.colaboratory.intrinsic+json": {
              "type": "string"
            }
          },
          "metadata": {},
          "execution_count": 1
        }
      ],
      "source": [
        "'''\n",
        "1. Why are functions advantageous to have in your programs?\n",
        "2. When does the code in a function run: when it&#39;s specified or when it&#39;s called?\n",
        "3. What statement creates a function?\n",
        "4. What is the difference between a function and a function call?\n",
        "5. How many global scopes are there in a Python program? How many local scopes?\n",
        "6. What happens to variables in a local scope when the function call returns?\n",
        "7. What is the concept of a return value? Is it possible to have a return value in an expression?\n",
        "8. If a function does not have a return statement, what is the return value of a call to that function?\n",
        "9. How do you make a function variable refer to the global variable?\n",
        "10. What is the data type of None?\n",
        "11. What does the sentence import areallyourpetsnamederic do?\n",
        "12. If you had a bacon() feature in a spam module, what would you call it after importing spam?\n",
        "13. What can you do to save a programme from crashing if it encounters an error?\n",
        "14. What is the purpose of the try clause? What is the purpose of the except clause?\n",
        "'''"
      ]
    },
    {
      "cell_type": "code",
      "source": [
        "'''\n",
        "1\n",
        "Functions are advantageous to have in your programs because they promote code reusability, modularity, abstraction, testing, and readability. They allow you to write code that can be easily maintained, understood, and reused.\n",
        "'''\n"
      ],
      "metadata": {
        "colab": {
          "base_uri": "https://localhost:8080/",
          "height": 53
        },
        "id": "OXO5pG4H_6BC",
        "outputId": "f6bd498e-f385-4765-b67a-c72faca3fe8d"
      },
      "execution_count": 2,
      "outputs": [
        {
          "output_type": "execute_result",
          "data": {
            "text/plain": [
              "'\\n1\\nFunctions are advantageous to have in your programs because they promote code reusability, modularity, abstraction, testing, and readability. They allow you to write code that can be easily maintained, understood, and reused.\\n'"
            ],
            "application/vnd.google.colaboratory.intrinsic+json": {
              "type": "string"
            }
          },
          "metadata": {},
          "execution_count": 2
        }
      ]
    },
    {
      "cell_type": "code",
      "source": [
        "'''\n",
        "2\n",
        "The code in a function runs only when the function is called. When you define a function, you are essentially creating a block of code that can be executed later when the function is called. \n",
        "The code inside the function is not executed until the function is called, at which point the code is executed and the result (if any) is returned. Therefore, you can define a function in your code without running it, \n",
        "and then call the function later to execute the code inside it.\n",
        "'''"
      ],
      "metadata": {
        "colab": {
          "base_uri": "https://localhost:8080/",
          "height": 70
        },
        "id": "C39gw-72ASrJ",
        "outputId": "15cb7c0c-7ca5-4061-8791-7a38ef37ad5b"
      },
      "execution_count": 3,
      "outputs": [
        {
          "output_type": "execute_result",
          "data": {
            "text/plain": [
              "'\\n2\\nThe code in a function runs only when the function is called. When you define a function, you are essentially creating a block of code that can be executed later when the function is called. \\nThe code inside the function is not executed until the function is called, at which point the code is executed and the result (if any) is returned. Therefore, you can define a function in your code without running it, \\nand then call the function later to execute the code inside it.\\n'"
            ],
            "application/vnd.google.colaboratory.intrinsic+json": {
              "type": "string"
            }
          },
          "metadata": {},
          "execution_count": 3
        }
      ]
    },
    {
      "cell_type": "code",
      "source": [
        "'''\n",
        "3\n",
        "using def keyword we can create function in python\n",
        "ex:\n",
        "def ineuron:    // function declaration\n",
        "  print(\"hi i will data scientist soon\") // function body\n",
        "\n",
        "ineuron() // function call\n",
        "'''"
      ],
      "metadata": {
        "colab": {
          "base_uri": "https://localhost:8080/",
          "height": 35
        },
        "id": "_1-QtTe4Af-L",
        "outputId": "988a8dc0-549a-468f-94b5-dfdba6af5fb5"
      },
      "execution_count": 4,
      "outputs": [
        {
          "output_type": "execute_result",
          "data": {
            "text/plain": [
              "'\\n3\\nusing def keyword we can create function in python\\nex:\\ndef ineuron:    // function declaration\\n  print(\"hi i will data scientist soon\") // function body\\n\\nineuron() // function call\\n'"
            ],
            "application/vnd.google.colaboratory.intrinsic+json": {
              "type": "string"
            }
          },
          "metadata": {},
          "execution_count": 4
        }
      ]
    },
    {
      "cell_type": "code",
      "source": [
        "'''\n",
        "4 \n",
        "A function is a block of code that performs a specific task, while a function call is the code used to invoke or execute that function. A function defines what to do, and a function call tells the program to do it.'''\n"
      ],
      "metadata": {
        "colab": {
          "base_uri": "https://localhost:8080/",
          "height": 35
        },
        "id": "P31Mr7ADBC_O",
        "outputId": "55419043-3ad3-49d0-f20c-fc1c8578724a"
      },
      "execution_count": 5,
      "outputs": [
        {
          "output_type": "execute_result",
          "data": {
            "text/plain": [
              "'\\n4 \\nA function is a block of code that performs a specific task, while a function call is the code used to invoke or execute that function. A function defines what to do, and a function call tells the program to do it.'"
            ],
            "application/vnd.google.colaboratory.intrinsic+json": {
              "type": "string"
            }
          },
          "metadata": {},
          "execution_count": 5
        }
      ]
    },
    {
      "cell_type": "code",
      "source": [
        "'''\n",
        "5\n",
        "In a Python program, there is only one global scope, which is created when the program starts running. Each function call creates a new local scope, which is destroyed when the function call completes. Therefore, \n",
        "the number of local scopes in a Python program depends on the number of function calls that are made during the program's execution.\n",
        "'''"
      ],
      "metadata": {
        "colab": {
          "base_uri": "https://localhost:8080/",
          "height": 53
        },
        "id": "UtnLu7nwBgtv",
        "outputId": "b467f007-24ed-44b6-ecdf-f7fef5b10b2f"
      },
      "execution_count": 6,
      "outputs": [
        {
          "output_type": "execute_result",
          "data": {
            "text/plain": [
              "\"\\n5\\nIn a Python program, there is only one global scope, which is created when the program starts running. Each function call creates a new local scope, which is destroyed when the function call completes. Therefore, \\nthe number of local scopes in a Python program depends on the number of function calls that are made during the program's execution.\\n\""
            ],
            "application/vnd.google.colaboratory.intrinsic+json": {
              "type": "string"
            }
          },
          "metadata": {},
          "execution_count": 6
        }
      ]
    },
    {
      "cell_type": "code",
      "source": [
        "'''\n",
        "6\n",
        "When a function call returns, the local scope is destroyed and any variables defined in that scope are lost. The values of those variables are not accessible outside of the function, \n",
        "and attempting to access them will result in a NameError. Any changes made to variables within the local scope during the function call are also lost,as those variables are destroyed along with the local scope.\n",
        "'''"
      ],
      "metadata": {
        "colab": {
          "base_uri": "https://localhost:8080/",
          "height": 53
        },
        "id": "AjlrPL10BsGP",
        "outputId": "93f4cea8-1f78-4a94-ee7c-58129c7ab0e2"
      },
      "execution_count": 7,
      "outputs": [
        {
          "output_type": "execute_result",
          "data": {
            "text/plain": [
              "'\\n6\\nWhen a function call returns, the local scope is destroyed and any variables defined in that scope are lost. The values of those variables are not accessible outside of the function, \\nand attempting to access them will result in a NameError. Any changes made to variables within the local scope during the function call are also lost,as those variables are destroyed along with the local scope.\\n'"
            ],
            "application/vnd.google.colaboratory.intrinsic+json": {
              "type": "string"
            }
          },
          "metadata": {},
          "execution_count": 7
        }
      ]
    },
    {
      "cell_type": "code",
      "source": [
        "'''\n",
        "7\n",
        "A return value is the value that a function returns to the calling code when it completes its execution. It is the primary means by which a function communicates its results to the calling code. Yes, \n",
        "it is possible to have a return value in an expression, meaning the result of a function call can be used as part of a larger expression in the program.\n",
        "'''"
      ],
      "metadata": {
        "colab": {
          "base_uri": "https://localhost:8080/",
          "height": 53
        },
        "id": "tt9vEUa3CCmA",
        "outputId": "2bf9ea0f-03bb-4691-acc2-9491987fbec3"
      },
      "execution_count": 8,
      "outputs": [
        {
          "output_type": "execute_result",
          "data": {
            "text/plain": [
              "'\\n7\\nA return value is the value that a function returns to the calling code when it completes its execution. It is the primary means by which a function communicates its results to the calling code. Yes, \\nit is possible to have a return value in an expression, meaning the result of a function call can be used as part of a larger expression in the program.\\n'"
            ],
            "application/vnd.google.colaboratory.intrinsic+json": {
              "type": "string"
            }
          },
          "metadata": {},
          "execution_count": 8
        }
      ]
    },
    {
      "cell_type": "code",
      "source": [
        "'''\n",
        "8\n",
        "If a function does not have a return statement, the return value of a call to that function is None. This means that the function call will not return any meaningful value or object to the calling code.\n",
        "'''"
      ],
      "metadata": {
        "colab": {
          "base_uri": "https://localhost:8080/",
          "height": 35
        },
        "id": "Uaz5NYQUCP8A",
        "outputId": "3d7d20a8-cfc5-415e-8322-4eedb6fe1420"
      },
      "execution_count": 9,
      "outputs": [
        {
          "output_type": "execute_result",
          "data": {
            "text/plain": [
              "'\\n8\\nIf a function does not have a return statement, the return value of a call to that function is None. This means that the function call will not return any meaningful value or object to the calling code.\\n'"
            ],
            "application/vnd.google.colaboratory.intrinsic+json": {
              "type": "string"
            }
          },
          "metadata": {},
          "execution_count": 9
        }
      ]
    },
    {
      "cell_type": "code",
      "source": [
        "'''\n",
        "9\n",
        "To make a function variable refer to the global variable with the same name, you can use the `global` keyword to indicate that the variable should be treated as a global variable within the function. \n",
        "This allows you to modify the value of the global variable from within the function.\n",
        "'''"
      ],
      "metadata": {
        "colab": {
          "base_uri": "https://localhost:8080/",
          "height": 53
        },
        "id": "UBKZuL8fCakh",
        "outputId": "aa1e95ed-92c5-4eca-96ab-6a784008e520"
      },
      "execution_count": 10,
      "outputs": [
        {
          "output_type": "execute_result",
          "data": {
            "text/plain": [
              "'\\n9\\nTo make a function variable refer to the global variable with the same name, you can use the `global` keyword to indicate that the variable should be treated as a global variable within the function. \\nThis allows you to modify the value of the global variable from within the function.\\n'"
            ],
            "application/vnd.google.colaboratory.intrinsic+json": {
              "type": "string"
            }
          },
          "metadata": {},
          "execution_count": 10
        }
      ]
    },
    {
      "cell_type": "code",
      "source": [
        "'''\n",
        "10\n",
        "NoneType\n",
        "'''"
      ],
      "metadata": {
        "colab": {
          "base_uri": "https://localhost:8080/",
          "height": 35
        },
        "id": "fPG75_bKCnmx",
        "outputId": "d0b32990-4505-47a4-d96f-6082f5b7fbf2"
      },
      "execution_count": 11,
      "outputs": [
        {
          "output_type": "execute_result",
          "data": {
            "text/plain": [
              "'\\n10\\nNoneType\\n'"
            ],
            "application/vnd.google.colaboratory.intrinsic+json": {
              "type": "string"
            }
          },
          "metadata": {},
          "execution_count": 11
        }
      ]
    },
    {
      "cell_type": "code",
      "source": [
        "'''\n",
        "11\n",
        "if it exists thean  that imports a module named areallyourpetsnamederic, else it should return ModuleNotFoundError.\n",
        "'''"
      ],
      "metadata": {
        "colab": {
          "base_uri": "https://localhost:8080/",
          "height": 35
        },
        "id": "x1nPlrMUCvrx",
        "outputId": "ac46ae50-3fd4-4f67-bf17-2edb9546fb38"
      },
      "execution_count": 12,
      "outputs": [
        {
          "output_type": "execute_result",
          "data": {
            "text/plain": [
              "'\\n11\\nif it exists thean  that imports a module named areallyourpetsnamederic, else it should return ModuleNotFoundError.\\n'"
            ],
            "application/vnd.google.colaboratory.intrinsic+json": {
              "type": "string"
            }
          },
          "metadata": {},
          "execution_count": 12
        }
      ]
    },
    {
      "cell_type": "code",
      "source": [
        "'''\n",
        "12\n",
        "After importing the `spam` module, you can call the `bacon()` feature using dot notation as `spam.bacon()`. This tells Python to look for the `bacon()` function inside the `spam` module and execute it.\n",
        "'''"
      ],
      "metadata": {
        "colab": {
          "base_uri": "https://localhost:8080/",
          "height": 35
        },
        "id": "RnDcsO8UDRHy",
        "outputId": "499c0cee-14ba-4571-c807-b5e2d5454ea3"
      },
      "execution_count": 13,
      "outputs": [
        {
          "output_type": "execute_result",
          "data": {
            "text/plain": [
              "'\\n12\\nAfter importing the `spam` module, you can call the `bacon()` feature using dot notation as `spam.bacon()`. This tells Python to look for the `bacon()` function inside the `spam` module and execute it.\\n'"
            ],
            "application/vnd.google.colaboratory.intrinsic+json": {
              "type": "string"
            }
          },
          "metadata": {},
          "execution_count": 13
        }
      ]
    },
    {
      "cell_type": "code",
      "source": [
        "'''\n",
        "13\n",
        "To save a program from crashing if it encounters an error, you can use exception handling by wrapping the code that is likely to cause an error in a `try` block, and providing a fallback plan in the `except` block\n",
        "to handle the error gracefully. This prevents the program from abruptly terminating and allows it to continue running even if an error occurs.\n",
        "'''"
      ],
      "metadata": {
        "colab": {
          "base_uri": "https://localhost:8080/",
          "height": 53
        },
        "id": "0Qv5yWpPDjGF",
        "outputId": "9e471cbc-2784-4ced-d120-9182d8a196f0"
      },
      "execution_count": 14,
      "outputs": [
        {
          "output_type": "execute_result",
          "data": {
            "text/plain": [
              "'\\n13\\nTo save a program from crashing if it encounters an error, you can use exception handling by wrapping the code that is likely to cause an error in a `try` block, and providing a fallback plan in the `except` block\\nto handle the error gracefully. This prevents the program from abruptly terminating and allows it to continue running even if an error occurs.\\n'"
            ],
            "application/vnd.google.colaboratory.intrinsic+json": {
              "type": "string"
            }
          },
          "metadata": {},
          "execution_count": 14
        }
      ]
    },
    {
      "cell_type": "code",
      "source": [
        "'''\n",
        "14\n",
        "The purpose of the `try` clause in Python is to enclose a block of code that may raise an exception during its execution. The code within the `try` block is executed normally, and if no exception is raised, the `except` block is skipped.\n",
        "\n",
        "The purpose of the `except` clause is to handle exceptions that are raised during the execution of the code within the `try` block. If an exception is raised, the `except` block is executed. The `except` block can contain code that handles the exception, such as printing an error message or logging the error. It can also contain code that attempts to recover from the exception and continue the program execution.\n",
        "'''"
      ],
      "metadata": {
        "colab": {
          "base_uri": "https://localhost:8080/",
          "height": 70
        },
        "id": "R-Os6RcoEF3J",
        "outputId": "a119a869-b88e-4169-f080-d34f3dea7b7b"
      },
      "execution_count": 15,
      "outputs": [
        {
          "output_type": "execute_result",
          "data": {
            "text/plain": [
              "'\\n14\\nThe purpose of the `try` clause in Python is to enclose a block of code that may raise an exception during its execution. The code within the `try` block is executed normally, and if no exception is raised, the `except` block is skipped.\\n\\nThe purpose of the `except` clause is to handle exceptions that are raised during the execution of the code within the `try` block. If an exception is raised, the `except` block is executed. The `except` block can contain code that handles the exception, such as printing an error message or logging the error. It can also contain code that attempts to recover from the exception and continue the program execution.\\n'"
            ],
            "application/vnd.google.colaboratory.intrinsic+json": {
              "type": "string"
            }
          },
          "metadata": {},
          "execution_count": 15
        }
      ]
    },
    {
      "cell_type": "code",
      "source": [],
      "metadata": {
        "id": "lhHX2FkNEdn9"
      },
      "execution_count": null,
      "outputs": []
    }
  ]
}