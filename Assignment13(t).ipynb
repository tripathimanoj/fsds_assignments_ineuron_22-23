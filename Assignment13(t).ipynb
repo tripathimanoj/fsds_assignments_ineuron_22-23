{
  "nbformat": 4,
  "nbformat_minor": 0,
  "metadata": {
    "colab": {
      "provenance": []
    },
    "kernelspec": {
      "name": "python3",
      "display_name": "Python 3"
    },
    "language_info": {
      "name": "python"
    }
  },
  "cells": [
    {
      "cell_type": "markdown",
      "source": [
        "1. What advantages do Excel spreadsheets have over CSV spreadsheets?\n",
        "2.What do you pass to csv.reader() and csv.writer() to create reader and writer objects?\n",
        "3. What modes do File objects for reader and writer objects need to be opened in?\n",
        "4. What method takes a list argument and writes it to a CSV file?\n",
        "5. What do the keyword arguments delimiter and line terminator do?\n",
        "6. What function takes a string of JSON data and returns a Python data structure?\n",
        "7. What function takes a Python data structure and returns a string of JSON data?"
      ],
      "metadata": {
        "id": "4pqLQeAlXhFv"
      }
    },
    {
      "cell_type": "markdown",
      "source": [
        "sol 1:\n",
        "\n",
        "Excel spreadsheets have several advantages over CSV spreadsheets, including:\n",
        "\n",
        "1. Cell formatting: Excel allows you to format cells with different fonts, colors, and styles, which can make the data easier to read and understand.\n",
        "\n",
        "2. Formulas and functions: Excel has a wide range of built-in functions and formulas that can perform calculations and data analysis on the spreadsheet.\n",
        "\n",
        "3. Charts and graphs: Excel can create various types of charts and graphs to represent data visually, making it easier to interpret and analyze.\n",
        "\n",
        "4. Multiple sheets: Excel allows you to have multiple sheets within a single workbook, which can help organize and categorize data.\n",
        "\n",
        "5. Data validation: Excel has built-in data validation features that can help ensure data accuracy and consistency.\n",
        "\n",
        "6. Protection: Excel allows you to password-protect and restrict access to certain parts of the spreadsheet, which can help protect sensitive information."
      ],
      "metadata": {
        "id": "Vb-JxCxGYx6c"
      }
    },
    {
      "cell_type": "markdown",
      "source": [
        "sol 2:\n",
        "\n",
        "pass a file object to `csv.reader()` and `csv.writer()` to create reader and writer objects. For example, `csv.reader(file_object)` and `csv.writer(file_object)`."
      ],
      "metadata": {
        "id": "aEv_0giDYx2F"
      }
    },
    {
      "cell_type": "markdown",
      "source": [
        "sol 3:\n",
        "For reader objects, the File object needs to be opened in 'r' mode. For writer objects, the File object needs to be opened in 'w' mode."
      ],
      "metadata": {
        "id": "d6LJ5QtgYxxk"
      }
    },
    {
      "cell_type": "markdown",
      "source": [
        "sol 4:\n",
        "\n",
        "The writerow() method takes a list argument and writes it to a CSV file."
      ],
      "metadata": {
        "id": "OycRP8I9YxtU"
      }
    },
    {
      "cell_type": "markdown",
      "source": [
        "sol 5:\n",
        "The `delimiter` keyword argument specifies the character used to separate fields in a CSV file, while the `lineterminator` keyword argument specifies the character used to terminate lines in a CSV file."
      ],
      "metadata": {
        "id": "nBPzDVrrYxoU"
      }
    },
    {
      "cell_type": "markdown",
      "source": [
        "sol 6:\n",
        "\n",
        "The `json.loads()` function takes a string of JSON data and returns a Python data structure."
      ],
      "metadata": {
        "id": "t389EIxsYxij"
      }
    },
    {
      "cell_type": "markdown",
      "source": [
        "sol 7:\n",
        "The `json.dumps()` function takes a Python data structure and returns a string of JSON data."
      ],
      "metadata": {
        "id": "3PmgpS0rYxXu"
      }
    }
  ]
}