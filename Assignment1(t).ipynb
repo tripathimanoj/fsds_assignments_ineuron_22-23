{
  "nbformat": 4,
  "nbformat_minor": 0,
  "metadata": {
    "colab": {
      "provenance": []
    },
    "kernelspec": {
      "name": "python3",
      "display_name": "Python 3"
    },
    "language_info": {
      "name": "python"
    }
  },
  "cells": [
    {
      "cell_type": "code",
      "source": [],
      "metadata": {
        "id": "ythnkkZe4GX5"
      },
      "execution_count": null,
      "outputs": []
    },
    {
      "cell_type": "code",
      "source": [
        "'''\n",
        "1\n",
        "expression\n",
        "values\n",
        "values\n",
        "expression\n",
        "expression\n",
        "expression\n",
        "values\n",
        "'''"
      ],
      "metadata": {
        "colab": {
          "base_uri": "https://localhost:8080/",
          "height": 35
        },
        "id": "_VQffC5U4IPK",
        "outputId": "b741aec0-4856-4b05-9753-1c22bac4f922"
      },
      "execution_count": 2,
      "outputs": [
        {
          "output_type": "execute_result",
          "data": {
            "text/plain": [
              "'\\n1\\nexpression\\nvalues\\nvalues\\nexpression\\nexpression\\nexpression\\nvalues\\n'"
            ],
            "application/vnd.google.colaboratory.intrinsic+json": {
              "type": "string"
            }
          },
          "metadata": {},
          "execution_count": 2
        }
      ]
    },
    {
      "cell_type": "code",
      "source": [
        "'''\n",
        "2\n",
        "Variables are symbols that you can use to store data in a program, Strings are data, so we can use them to fill up a variable\n",
        "\n",
        "'''"
      ],
      "metadata": {
        "colab": {
          "base_uri": "https://localhost:8080/",
          "height": 35
        },
        "id": "C2ksaTmn4LAq",
        "outputId": "606975b3-36e2-4eba-e75a-925a694085ac"
      },
      "execution_count": 3,
      "outputs": [
        {
          "output_type": "execute_result",
          "data": {
            "text/plain": [
              "'\\n2\\nVariables are symbols that you can use to store data in a program, Strings are data, so we can use them to fill up a variable\\n\\n'"
            ],
            "application/vnd.google.colaboratory.intrinsic+json": {
              "type": "string"
            }
          },
          "metadata": {},
          "execution_count": 3
        }
      ]
    },
    {
      "cell_type": "code",
      "source": [
        "'''\n",
        "3\n",
        "int: it takes interger values. ex: vlaue=121\n",
        "char: it take character values,or string values. ex: value=\"hi\"\n",
        "list: it is a datatype which inclued all type of data ex: data=[1,2,1.1.\"hi\"]\n",
        "\n",
        "'''"
      ],
      "metadata": {
        "colab": {
          "base_uri": "https://localhost:8080/",
          "height": 35
        },
        "id": "D08YIAnU4P6K",
        "outputId": "3c5aba18-b2c1-455c-eb77-15805efc1037"
      },
      "execution_count": 4,
      "outputs": [
        {
          "output_type": "execute_result",
          "data": {
            "text/plain": [
              "'\\n3\\nint: it takes interger values. ex: vlaue=121\\nchar: it take character values,or string values. ex: value=\"hi\"\\nlist: it is a datatype which inclued all type of data ex: data=[1,2,1.1.\"hi\"]\\n\\n'"
            ],
            "application/vnd.google.colaboratory.intrinsic+json": {
              "type": "string"
            }
          },
          "metadata": {},
          "execution_count": 4
        }
      ]
    },
    {
      "cell_type": "code",
      "source": [
        "'''\n",
        "4\n",
        "A combination of operands and operators is called an expression. The expression in Python produces some value or result after being interpreted by the Python interpreter.\n",
        "\n",
        "'''"
      ],
      "metadata": {
        "colab": {
          "base_uri": "https://localhost:8080/",
          "height": 35
        },
        "id": "A3yL9N2K4Uc8",
        "outputId": "1d7607b8-5e86-4e2f-caed-c155d3d875b0"
      },
      "execution_count": 5,
      "outputs": [
        {
          "output_type": "execute_result",
          "data": {
            "text/plain": [
              "'\\n4\\nA combination of operands and operators is called an expression. The expression in Python produces some value or result after being interpreted by the Python interpreter.\\n\\n'"
            ],
            "application/vnd.google.colaboratory.intrinsic+json": {
              "type": "string"
            }
          },
          "metadata": {},
          "execution_count": 5
        }
      ]
    },
    {
      "cell_type": "code",
      "source": [
        "'''\n",
        "5\n",
        "An expression evaluates to a single value. A statement does not.\n",
        "\n",
        "'''"
      ],
      "metadata": {
        "colab": {
          "base_uri": "https://localhost:8080/",
          "height": 35
        },
        "id": "rNLP0Vj14Y4d",
        "outputId": "393658f5-0c0e-4656-c7b5-2fb3bcad549a"
      },
      "execution_count": 6,
      "outputs": [
        {
          "output_type": "execute_result",
          "data": {
            "text/plain": [
              "'\\n5\\nAn expression evaluates to a single value. A statement does not.\\n\\n'"
            ],
            "application/vnd.google.colaboratory.intrinsic+json": {
              "type": "string"
            }
          },
          "metadata": {},
          "execution_count": 6
        }
      ]
    },
    {
      "cell_type": "code",
      "source": [
        "'''\n",
        "6\n",
        "The bacon + 1 expression does not reassign the value in bacon,it will remain 22 if we print bacon.\n",
        "'''"
      ],
      "metadata": {
        "colab": {
          "base_uri": "https://localhost:8080/",
          "height": 35
        },
        "id": "KIiksGFZ4dRN",
        "outputId": "a3d9eb24-b40b-47e7-87cc-fca4dc301d72"
      },
      "execution_count": 7,
      "outputs": [
        {
          "output_type": "execute_result",
          "data": {
            "text/plain": [
              "'\\n6\\nThe bacon + 1 expression does not reassign the value in bacon,it will remain 22 if we print bacon.\\n'"
            ],
            "application/vnd.google.colaboratory.intrinsic+json": {
              "type": "string"
            }
          },
          "metadata": {},
          "execution_count": 7
        }
      ]
    },
    {
      "cell_type": "code",
      "source": [
        "'''\n",
        "7\n",
        "the value of 'spam' + 'spamspam' is 'spamspamspam'.\n",
        "the value of 'spam'*3 is 'spamspamspam'.\n",
        "'''"
      ],
      "metadata": {
        "colab": {
          "base_uri": "https://localhost:8080/",
          "height": 35
        },
        "id": "ejnCOoqm4gxA",
        "outputId": "6826b6a9-c9da-4285-c8e1-270defbc53cc"
      },
      "execution_count": 8,
      "outputs": [
        {
          "output_type": "execute_result",
          "data": {
            "text/plain": [
              "\"\\n7\\nthe value of 'spam' + 'spamspam' is 'spamspamspam'.\\nthe value of 'spam'*3 is 'spamspamspam'.\\n\""
            ],
            "application/vnd.google.colaboratory.intrinsic+json": {
              "type": "string"
            }
          },
          "metadata": {},
          "execution_count": 8
        }
      ]
    },
    {
      "cell_type": "code",
      "source": [
        "'''\n",
        "8\n",
        "becauese it dose not follow the following conditions.\n",
        "1 Variable names must start with a letter or underscore.\n",
        "2 The rest of the variable name can consist of letters, underscores, and digits.\n",
        "3 Variable names are case-sensitive, \n",
        "'''\n"
      ],
      "metadata": {
        "colab": {
          "base_uri": "https://localhost:8080/",
          "height": 53
        },
        "id": "VWP1sDfO4kCQ",
        "outputId": "e0eb5019-71f6-4505-c68d-8d795654ba5d"
      },
      "execution_count": 9,
      "outputs": [
        {
          "output_type": "execute_result",
          "data": {
            "text/plain": [
              "'\\n8\\nbecauese it dose not follow the following conditions.\\n1 Variable names must start with a letter or underscore.\\n2 The rest of the variable name can consist of letters, underscores, and digits.\\n3 Variable names are case-sensitive, \\n'"
            ],
            "application/vnd.google.colaboratory.intrinsic+json": {
              "type": "string"
            }
          },
          "metadata": {},
          "execution_count": 9
        }
      ]
    },
    {
      "cell_type": "code",
      "source": [
        "'''\n",
        "9\n",
        "3 functions can be used are:\n",
        "1 int()\n",
        "2 float()\n",
        "3 str()\n",
        "'''"
      ],
      "metadata": {
        "colab": {
          "base_uri": "https://localhost:8080/",
          "height": 35
        },
        "id": "B2zBovCP4oWB",
        "outputId": "0f31180f-7eca-4065-b91b-e556bd236547"
      },
      "execution_count": 10,
      "outputs": [
        {
          "output_type": "execute_result",
          "data": {
            "text/plain": [
              "'\\n9\\n3 functions can be used are:\\n1 int()\\n2 float()\\n3 str()\\n'"
            ],
            "application/vnd.google.colaboratory.intrinsic+json": {
              "type": "string"
            }
          },
          "metadata": {},
          "execution_count": 10
        }
      ]
    },
    {
      "cell_type": "code",
      "source": [
        "'''\n",
        "10\n",
        "it will generate a typeerror because a string and number can't be concinated by + operator,\n",
        "to fix it we have to do the following changes:\n",
        "'I have eaten'+'99'+'burritos.'\n",
        "'''"
      ],
      "metadata": {
        "colab": {
          "base_uri": "https://localhost:8080/",
          "height": 35
        },
        "id": "6Z3Ghqca4tEw",
        "outputId": "9e732ddf-4878-46d5-934f-af75d471b06d"
      },
      "execution_count": 11,
      "outputs": [
        {
          "output_type": "execute_result",
          "data": {
            "text/plain": [
              "\"\\n10\\nit will generate a typeerror because a string and number can't be concinated by + operator,\\nto fix it we have to do the following changes:\\n'I have eaten'+'99'+'burritos.'\\n\""
            ],
            "application/vnd.google.colaboratory.intrinsic+json": {
              "type": "string"
            }
          },
          "metadata": {},
          "execution_count": 11
        }
      ]
    },
    {
      "cell_type": "code",
      "source": [],
      "metadata": {
        "id": "fWfP285S4zdC"
      },
      "execution_count": null,
      "outputs": []
    }
  ]
}