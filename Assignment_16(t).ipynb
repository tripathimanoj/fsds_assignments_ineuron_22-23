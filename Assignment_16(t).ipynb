{
  "nbformat": 4,
  "nbformat_minor": 0,
  "metadata": {
    "colab": {
      "provenance": []
    },
    "kernelspec": {
      "name": "python3",
      "display_name": "Python 3"
    },
    "language_info": {
      "name": "python"
    }
  },
  "cells": [
    {
      "cell_type": "markdown",
      "source": [
        "1. Create a list called years_list, starting with the year of your birth, and each year thereafter until\n",
        "the year of your fifth birthday. For example, if you were born in 1980. the list would be years_list =\n",
        "[1980, 1981, 1982, 1983, 1984, 1985].\n",
        "2. In which year in years_list was your third birthday? Remember, you were 0 years of age for your\n",
        "first year.\n",
        "3.In the years list, which year were you the oldest?\n",
        "4. Make a list called things with these three strings as elements: &quot;mozzarella&quot;, &quot;cinderella&quot;,\n",
        "&quot;salmonella&quot;.\n",
        "5. Capitalize the element in things that refers to a person and then print the list. Did it change the\n",
        "element in the list?\n",
        "6. Make a surprise list with the elements &quot;Groucho,&quot; &quot;Chico,&quot; and &quot;Harpo.&quot;\n",
        "7. Lowercase the last element of the surprise list, reverse it, and then capitalize it.\n",
        "8. Make an English-to-French dictionary called e2f and print it. Here are your starter words: dog is\n",
        "chien, cat is chat, and walrus is morse.\n",
        "9. Write the French word for walrus in your three-word dictionary e2f.\n",
        "10. Make a French-to-English dictionary called f2e from e2f. Use the items method.\n",
        "11. Print the English version of the French word chien using f2e.\n",
        "12. Make and print a set of English words from the keys in e2f.\n",
        "13. Make a multilevel dictionary called life. Use these strings for the topmost keys: &#39;animals&#39;, &#39;plants&#39;,\n",
        "and &#39;other&#39;. Make the &#39;animals&#39; key refer to another dictionary with the keys &#39;cats&#39;, &#39;octopi&#39;, and\n",
        "&#39;emus&#39;. Make the &#39;cats&#39; key refer to a list of strings with the values &#39;Henri&#39;, &#39;Grumpy&#39;, and &#39;Lucy&#39;.\n",
        "Make all the other keys refer to empty dictionaries.\n",
        "14. Print the top-level keys of life.\n",
        "15. Print the keys for life[&#39;animals&#39;].\n",
        "16. Print the values for life[&#39;animals&#39;][&#39;cats&#39;]"
      ],
      "metadata": {
        "id": "XC-HgKPR543Y"
      }
    },
    {
      "cell_type": "code",
      "source": [
        "# sol 1: \n",
        "\n",
        "years_list =[1980, 1981, 1982, 1983, 1984, 1985]\n",
        "print(years_list)"
      ],
      "metadata": {
        "colab": {
          "base_uri": "https://localhost:8080/"
        },
        "id": "LTdk0yqA5593",
        "outputId": "fdfab0b6-a9db-4219-ceee-c3af306e278c"
      },
      "execution_count": 1,
      "outputs": [
        {
          "output_type": "stream",
          "name": "stdout",
          "text": [
            "[1980, 1981, 1982, 1983, 1984, 1985]\n"
          ]
        }
      ]
    },
    {
      "cell_type": "code",
      "source": [
        "# sol 2:\n",
        "\n",
        "years_list =[1980, 1981, 1982, 1983, 1984, 1985]\n",
        "third_birthday=years_list[2]\n",
        "print(third_birthday)"
      ],
      "metadata": {
        "colab": {
          "base_uri": "https://localhost:8080/"
        },
        "id": "etF8Tmcz6YLf",
        "outputId": "d8f77e0f-2454-4363-abe8-68be7a2fc974"
      },
      "execution_count": 2,
      "outputs": [
        {
          "output_type": "stream",
          "name": "stdout",
          "text": [
            "1982\n"
          ]
        }
      ]
    },
    {
      "cell_type": "code",
      "source": [
        "# sol 3:\n",
        "\n",
        "years_list =[1980, 1981, 1982, 1983, 1984, 1985]\n",
        "oldest_year=years_list[-1]\n",
        "print(oldest_year)\n"
      ],
      "metadata": {
        "colab": {
          "base_uri": "https://localhost:8080/"
        },
        "id": "ZBUnznP56wQl",
        "outputId": "720bb364-2bf9-493e-fbed-afed3e448ea3"
      },
      "execution_count": 4,
      "outputs": [
        {
          "output_type": "stream",
          "name": "stdout",
          "text": [
            "1985\n"
          ]
        }
      ]
    },
    {
      "cell_type": "code",
      "source": [
        "# sol 4:\n",
        "things=[\"mozzarella\",\"cinderella\",\"salmonella\"]\n",
        "print(things)"
      ],
      "metadata": {
        "colab": {
          "base_uri": "https://localhost:8080/"
        },
        "id": "dtnWZxEt7CeE",
        "outputId": "5c5740bf-4375-45ca-c719-5ccb0bb56daf"
      },
      "execution_count": 5,
      "outputs": [
        {
          "output_type": "stream",
          "name": "stdout",
          "text": [
            "['mozzarella', 'cinderella', 'salmonella']\n"
          ]
        }
      ]
    },
    {
      "cell_type": "code",
      "source": [
        "# sol 5:\n",
        "things = [\"mozzarella\", \"cinderella\", \"salmonella\"]\n",
        "\n",
        "# Iterate over each element in the list\n",
        "for i in range(len(things)):\n",
        "    # Capitalize the element and update the list\n",
        "    things[i] = things[i].capitalize()\n",
        "\n",
        "print(things)"
      ],
      "metadata": {
        "colab": {
          "base_uri": "https://localhost:8080/"
        },
        "id": "2CcRG1kG8L1i",
        "outputId": "57cdf7eb-b6ce-41a3-ed3c-19485c1d7ce7"
      },
      "execution_count": 6,
      "outputs": [
        {
          "output_type": "stream",
          "name": "stdout",
          "text": [
            "['Mozzarella', 'Cinderella', 'Salmonella']\n"
          ]
        }
      ]
    },
    {
      "cell_type": "code",
      "source": [
        "# sol 6:\n",
        "\n",
        "surprise = [\"Groucho\", \"Chico\", \"Harpo\"]\n",
        "print(surprise)"
      ],
      "metadata": {
        "colab": {
          "base_uri": "https://localhost:8080/"
        },
        "id": "F3mXZul48vmU",
        "outputId": "9e4ee849-f158-42ad-a982-14ccce966e8e"
      },
      "execution_count": 7,
      "outputs": [
        {
          "output_type": "stream",
          "name": "stdout",
          "text": [
            "['Groucho', 'Chico', 'Harpo']\n"
          ]
        }
      ]
    },
    {
      "cell_type": "code",
      "source": [
        "# sol 7:\n",
        "\n",
        "surprise = [\"Groucho\", \"Chico\", \"Harpo\"]\n",
        "result = surprise[-1].lower()[::-1].capitalize()\n",
        "print(result)"
      ],
      "metadata": {
        "colab": {
          "base_uri": "https://localhost:8080/"
        },
        "id": "xklZeF3V89WW",
        "outputId": "1a595ad7-73e2-4575-8868-dab9559ac9a4"
      },
      "execution_count": 8,
      "outputs": [
        {
          "output_type": "stream",
          "name": "stdout",
          "text": [
            "Oprah\n"
          ]
        }
      ]
    },
    {
      "cell_type": "code",
      "source": [
        "# sol 8: \n",
        "\n",
        "e2f = {'dog': 'chien', 'cat': 'chat', 'walrus': 'morse'}\n",
        "print(e2f)"
      ],
      "metadata": {
        "colab": {
          "base_uri": "https://localhost:8080/"
        },
        "id": "TwoTv66Q9hys",
        "outputId": "9f4ff91e-65fd-4027-e31d-5b033603eabf"
      },
      "execution_count": 9,
      "outputs": [
        {
          "output_type": "stream",
          "name": "stdout",
          "text": [
            "{'dog': 'chien', 'cat': 'chat', 'walrus': 'morse'}\n"
          ]
        }
      ]
    },
    {
      "cell_type": "code",
      "source": [
        "# sol 9:\n",
        "\n",
        "!pip install translate\n",
        "from translate import Translator\n",
        "e2f = {'dog': 'chien', 'cat': 'chat', 'walrus': 'morse'}\n",
        "translator = Translator(to_lang=\"fr\")\n",
        "translation = translator.translate(e2f[\"walrus\"])\n",
        "\n",
        "print(translation)\n"
      ],
      "metadata": {
        "colab": {
          "base_uri": "https://localhost:8080/"
        },
        "id": "HM16nwmU9yBu",
        "outputId": "8df3daaa-e1e7-41a7-9ba2-1a9525f1cf5b"
      },
      "execution_count": 13,
      "outputs": [
        {
          "output_type": "stream",
          "name": "stdout",
          "text": [
            "Looking in indexes: https://pypi.org/simple, https://us-python.pkg.dev/colab-wheels/public/simple/\n",
            "Requirement already satisfied: translate in /usr/local/lib/python3.10/dist-packages (3.6.1)\n",
            "Requirement already satisfied: lxml in /usr/local/lib/python3.10/dist-packages (from translate) (4.9.2)\n",
            "Requirement already satisfied: click in /usr/local/lib/python3.10/dist-packages (from translate) (8.1.3)\n",
            "Requirement already satisfied: libretranslatepy==2.1.1 in /usr/local/lib/python3.10/dist-packages (from translate) (2.1.1)\n",
            "Requirement already satisfied: requests in /usr/local/lib/python3.10/dist-packages (from translate) (2.27.1)\n",
            "Requirement already satisfied: certifi>=2017.4.17 in /usr/local/lib/python3.10/dist-packages (from requests->translate) (2022.12.7)\n",
            "Requirement already satisfied: idna<4,>=2.5 in /usr/local/lib/python3.10/dist-packages (from requests->translate) (3.4)\n",
            "Requirement already satisfied: charset-normalizer~=2.0.0 in /usr/local/lib/python3.10/dist-packages (from requests->translate) (2.0.12)\n",
            "Requirement already satisfied: urllib3<1.27,>=1.21.1 in /usr/local/lib/python3.10/dist-packages (from requests->translate) (1.26.15)\n",
            "walrus\n"
          ]
        }
      ]
    },
    {
      "cell_type": "code",
      "source": [
        "# sol 10:\n",
        "\n",
        "e2f = {'dog': 'chien', 'cat': 'chat', 'walrus': 'morse'}\n",
        "\n",
        "# Create an empty dictionary for the French-to-English translations\n",
        "f2e = {}\n",
        "\n",
        "# Loop through the items in the e2f dictionary and add them to the f2e dictionary\n",
        "for english, french in e2f.items():\n",
        "    f2e[french] = english\n",
        "\n",
        "# Print the resulting French-to-English dictionary\n",
        "print(f2e)\n"
      ],
      "metadata": {
        "colab": {
          "base_uri": "https://localhost:8080/"
        },
        "id": "fvmmTl4--t_h",
        "outputId": "c8bf1c86-1edb-4a16-d7d9-4db11ef17dfa"
      },
      "execution_count": 14,
      "outputs": [
        {
          "output_type": "stream",
          "name": "stdout",
          "text": [
            "{'chien': 'dog', 'chat': 'cat', 'morse': 'walrus'}\n"
          ]
        }
      ]
    },
    {
      "cell_type": "code",
      "source": [
        "# sol 11:\n",
        "\n",
        "f2e = {'chien': 'dog', 'chat': 'cat', 'morse': 'walrus'}\n",
        "\n",
        "print(f2e['chien'])"
      ],
      "metadata": {
        "colab": {
          "base_uri": "https://localhost:8080/"
        },
        "id": "OVz1yNTyAxsG",
        "outputId": "b26e36f1-8cb9-442a-9ae2-c1c3388fead5"
      },
      "execution_count": 15,
      "outputs": [
        {
          "output_type": "stream",
          "name": "stdout",
          "text": [
            "dog\n"
          ]
        }
      ]
    },
    {
      "cell_type": "code",
      "source": [
        "# sol 12:\n",
        "\n",
        "e2f = {'dog': 'chien', 'cat': 'chat', 'walrus': 'morse'}\n",
        "\n",
        "english_words = set(e2f.keys())\n",
        "print(english_words)"
      ],
      "metadata": {
        "colab": {
          "base_uri": "https://localhost:8080/"
        },
        "id": "vEizDCEpBMK5",
        "outputId": "53690a90-1638-4910-f205-c0124343c234"
      },
      "execution_count": 16,
      "outputs": [
        {
          "output_type": "stream",
          "name": "stdout",
          "text": [
            "{'walrus', 'cat', 'dog'}\n"
          ]
        }
      ]
    },
    {
      "cell_type": "code",
      "source": [
        "# sol 13:\n",
        "\n",
        "life = {\n",
        "    'animals': {\n",
        "        'cats': ['Henri', 'Grumpy', 'Lucy'],\n",
        "        'octopi': {},\n",
        "        'emus': {}\n",
        "    },\n",
        "    'plants': {},\n",
        "    'other': {}\n",
        "}\n",
        "print(life)"
      ],
      "metadata": {
        "colab": {
          "base_uri": "https://localhost:8080/"
        },
        "id": "JCmQi-ThBaVM",
        "outputId": "0e6817d3-a9cc-4485-a59a-015b409a5e00"
      },
      "execution_count": 18,
      "outputs": [
        {
          "output_type": "stream",
          "name": "stdout",
          "text": [
            "{'animals': {'cats': ['Henri', 'Grumpy', 'Lucy'], 'octopi': {}, 'emus': {}}, 'plants': {}, 'other': {}}\n"
          ]
        }
      ]
    },
    {
      "cell_type": "code",
      "source": [
        "# sol 14:\n",
        "\n",
        "life = {'animals': {'cats': ['Henri', 'Grumpy', 'Lucy'], 'octopi': {}, 'emus': {}}, 'plants': {}, 'other': {}}\n",
        "\n",
        "print(life.keys())\n"
      ],
      "metadata": {
        "colab": {
          "base_uri": "https://localhost:8080/"
        },
        "id": "Vl_UKIJVByYu",
        "outputId": "38156690-8922-4e16-95f6-2e353f8a36eb"
      },
      "execution_count": 19,
      "outputs": [
        {
          "output_type": "stream",
          "name": "stdout",
          "text": [
            "dict_keys(['animals', 'plants', 'other'])\n"
          ]
        }
      ]
    },
    {
      "cell_type": "code",
      "source": [
        "# sol 15:\n",
        "\n",
        "life = {'animals': {'cats': ['Henri', 'Grumpy', 'Lucy'], 'octopi': {}, 'emus': {}}, 'plants': {}, 'other': {}}\n",
        "\n",
        "print(life['animals'].keys())"
      ],
      "metadata": {
        "colab": {
          "base_uri": "https://localhost:8080/"
        },
        "id": "6XXnwgc9CO0_",
        "outputId": "2e61f923-82d2-471e-b1d1-86200da98bdb"
      },
      "execution_count": 20,
      "outputs": [
        {
          "output_type": "stream",
          "name": "stdout",
          "text": [
            "dict_keys(['cats', 'octopi', 'emus'])\n"
          ]
        }
      ]
    },
    {
      "cell_type": "code",
      "source": [
        "# sol 16:\n",
        "\n",
        "life = {'animals': {'cats': ['Henri', 'Grumpy', 'Lucy'], 'octopi': {}, 'emus': {}}, 'plants': {}, 'other': {}}\n",
        "print(life['animals']['cats'])"
      ],
      "metadata": {
        "colab": {
          "base_uri": "https://localhost:8080/"
        },
        "id": "PmmXd5B4CdgQ",
        "outputId": "434fe4e1-115b-4830-d86c-8ee1a795abdf"
      },
      "execution_count": 21,
      "outputs": [
        {
          "output_type": "stream",
          "name": "stdout",
          "text": [
            "['Henri', 'Grumpy', 'Lucy']\n"
          ]
        }
      ]
    },
    {
      "cell_type": "code",
      "source": [],
      "metadata": {
        "id": "R7edBy-ACwVB"
      },
      "execution_count": null,
      "outputs": []
    }
  ]
}