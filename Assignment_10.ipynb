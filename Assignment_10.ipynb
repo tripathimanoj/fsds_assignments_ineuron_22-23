{
  "nbformat": 4,
  "nbformat_minor": 0,
  "metadata": {
    "colab": {
      "provenance": []
    },
    "kernelspec": {
      "name": "python3",
      "display_name": "Python 3"
    },
    "language_info": {
      "name": "python"
    }
  },
  "cells": [
    {
      "cell_type": "markdown",
      "source": [
        "1. How do you distinguish between shutil.copy() and shutil.copytree()?\n",
        "2. What function is used to rename files??\n",
        "3. What is the difference between the delete functions in the send2trash and shutil modules?\n",
        "4.ZipFile objects have a close() method just like File objects’ close() method. What ZipFile method is\n",
        "equivalent to File objects’ open() method?\n",
        "5. Create a programme that searches a folder tree for files with a certain file extension (such as .pdf\n",
        "or .jpg). Copy these files from whatever location they are in to a new folder."
      ],
      "metadata": {
        "id": "kdyHnA6t7cI6"
      }
    },
    {
      "cell_type": "markdown",
      "source": [
        "1:\n",
        "`shutil.copy()` and `shutil.copytree()` are both functions in the `shutil` module used for file operations, but they serve different purposes:\n",
        "\n",
        "- `shutil.copy(src, dst)`: This function is used to copy a single file from `src` to `dst`. The `src` argument is the path of the source file to be copied, and `dst` is the path of the destination file. If `dst` is a directory, then the file will be copied to that directory using the same filename. If `dst` already exists, it will be overwritten by the copied file.\n",
        "\n",
        "- `shutil.copytree(src, dst)`: This function is used to recursively copy a directory tree from `src` to `dst`. The `src` argument is the path of the source directory to be copied, and `dst` is the path of the destination directory. If `dst` already exists, an error will be raised. This function preserves the directory structure of the source tree and copies all files and directories under the source directory to the destination directory."
      ],
      "metadata": {
        "id": "INGw7pDs7fW6"
      }
    },
    {
      "cell_type": "markdown",
      "source": [
        "2:\n",
        "The `os.rename()` function is used to rename files in Python."
      ],
      "metadata": {
        "id": "Fv_WPmfw7fgB"
      }
    },
    {
      "cell_type": "markdown",
      "source": [
        "3:\n",
        "The delete functions in the send2trash module move files and directories to the recycle bin or trash instead of permanently deleting them, whereas the delete functions in the shutil module permanently delete files and directories."
      ],
      "metadata": {
        "id": "_S3D0Cpq7foh"
      }
    },
    {
      "cell_type": "markdown",
      "source": [
        "4:\n",
        "The `ZipFile` method equivalent to File objects' `open()` method is `ZipFile()` itself. It creates a new `ZipFile` object and returns it. This method takes the filename as a string argument, and the mode parameter is optional, just like with the `open()` function."
      ],
      "metadata": {
        "id": "Wx_-KCv87fyJ"
      }
    },
    {
      "cell_type": "code",
      "source": [
        "# Sol: 5\n",
        "\n",
        "import os\n",
        "import shutil\n",
        "\n",
        "# set the directory to search in and the new directory to copy files to\n",
        "search_directory = '/path/to/search/folder'\n",
        "copy_directory = '/path/to/copy/folder'\n",
        "\n",
        "# set the file extension to search for\n",
        "file_extension = '.pdf'\n",
        "\n",
        "# create the new directory if it doesn't already exist\n",
        "if not os.path.exists(copy_directory):\n",
        "    os.makedirs(copy_directory)\n",
        "\n",
        "# loop through all the directories and files in the search directory\n",
        "for foldername, subfolders, filenames in os.walk(search_directory):\n",
        "    # loop through all the files in the current folder\n",
        "    for filename in filenames:\n",
        "        # check if the file has the desired file extension\n",
        "        if filename.endswith(file_extension):\n",
        "            # create the full path to the current file\n",
        "            file_path = os.path.join(foldername, filename)\n",
        "            # create the full path to the new copy of the file\n",
        "            copy_path = os.path.join(copy_directory, filename)\n",
        "            # copy the file to the new directory\n",
        "            shutil.copy(file_path, copy_path)\n",
        "            print(f'Copied \"{filename}\" to \"{copy_directory}\"')\n"
      ],
      "metadata": {
        "id": "EtUUt-ar8tY6"
      },
      "execution_count": 2,
      "outputs": []
    },
    {
      "cell_type": "code",
      "source": [],
      "metadata": {
        "id": "V7q6gMZD8m2p"
      },
      "execution_count": null,
      "outputs": []
    }
  ]
}