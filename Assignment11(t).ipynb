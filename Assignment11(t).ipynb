{
  "nbformat": 4,
  "nbformat_minor": 0,
  "metadata": {
    "colab": {
      "provenance": []
    },
    "kernelspec": {
      "name": "python3",
      "display_name": "Python 3"
    },
    "language_info": {
      "name": "python"
    }
  },
  "cells": [
    {
      "cell_type": "markdown",
      "source": [
        "1. Create an assert statement that throws an AssertionError if the variable spam is a negative\n",
        "integer.\n",
        "2. Write an assert statement that triggers an AssertionError if the variables eggs and bacon contain\n",
        "strings that are the same as each other, even if their cases are different (that is, &#39;hello&#39; and &#39;hello&#39; are\n",
        "considered the same, and &#39;goodbye&#39; and &#39;GOODbye&#39; are also considered the same).\n",
        "3. Create an assert statement that throws an AssertionError every time.\n",
        "4. What are the two lines that must be present in your software in order to call logging.debug()?\n",
        "5. What are the two lines that your program must have in order to have logging.debug() send a\n",
        "logging message to a file named programLog.txt?\n",
        "6. What are the five levels of logging?\n",
        "7. What line of code would you add to your software to disable all logging messages?\n",
        "8.Why is using logging messages better than using print() to display the same message?\n",
        "9. What are the differences between the Step Over, Step In, and Step Out buttons in the debugger?\n",
        "10.After you click Continue, when will the debugger stop ?\n",
        "11. What is the concept of a breakpoint?"
      ],
      "metadata": {
        "id": "yXe9t13lACyR"
      }
    },
    {
      "cell_type": "code",
      "source": [
        "# sol: 1\n",
        "spam=-10\n",
        "assert spam >= 0, 'spam should be a non-negative integer'\n"
      ],
      "metadata": {
        "colab": {
          "base_uri": "https://localhost:8080/",
          "height": 183
        },
        "id": "jxfSf-t0AEAQ",
        "outputId": "78b99122-65b4-40fe-b08d-e697f698c5d4"
      },
      "execution_count": 4,
      "outputs": [
        {
          "output_type": "error",
          "ename": "AssertionError",
          "evalue": "ignored",
          "traceback": [
            "\u001b[0;31m---------------------------------------------------------------------------\u001b[0m",
            "\u001b[0;31mAssertionError\u001b[0m                            Traceback (most recent call last)",
            "\u001b[0;32m<ipython-input-4-2c0b6e0eac47>\u001b[0m in \u001b[0;36m<cell line: 2>\u001b[0;34m()\u001b[0m\n\u001b[1;32m      1\u001b[0m \u001b[0mspam\u001b[0m\u001b[0;34m=\u001b[0m\u001b[0;34m-\u001b[0m\u001b[0;36m10\u001b[0m\u001b[0;34m\u001b[0m\u001b[0;34m\u001b[0m\u001b[0m\n\u001b[0;32m----> 2\u001b[0;31m \u001b[0;32massert\u001b[0m \u001b[0mspam\u001b[0m \u001b[0;34m>=\u001b[0m \u001b[0;36m0\u001b[0m\u001b[0;34m,\u001b[0m \u001b[0;34m'spam should be a non-negative integer'\u001b[0m\u001b[0;34m\u001b[0m\u001b[0;34m\u001b[0m\u001b[0m\n\u001b[0m",
            "\u001b[0;31mAssertionError\u001b[0m: spam should be a non-negative integer"
          ]
        }
      ]
    },
    {
      "cell_type": "code",
      "source": [
        "# sol: 2\n",
        "eggs='xyz'\n",
        "bacon='xyz'\n",
        "assert eggs.lower() != bacon.lower(), 'eggs and bacon cannot be the same (ignoring case)'\n"
      ],
      "metadata": {
        "colab": {
          "base_uri": "https://localhost:8080/",
          "height": 200
        },
        "id": "cQbpCdsKAOwD",
        "outputId": "636f05c8-fe8d-4e1d-eff2-8f5ded556933"
      },
      "execution_count": 5,
      "outputs": [
        {
          "output_type": "error",
          "ename": "AssertionError",
          "evalue": "ignored",
          "traceback": [
            "\u001b[0;31m---------------------------------------------------------------------------\u001b[0m",
            "\u001b[0;31mAssertionError\u001b[0m                            Traceback (most recent call last)",
            "\u001b[0;32m<ipython-input-5-89df916d6f22>\u001b[0m in \u001b[0;36m<cell line: 4>\u001b[0;34m()\u001b[0m\n\u001b[1;32m      2\u001b[0m \u001b[0meggs\u001b[0m\u001b[0;34m=\u001b[0m\u001b[0;34m'xyz'\u001b[0m\u001b[0;34m\u001b[0m\u001b[0;34m\u001b[0m\u001b[0m\n\u001b[1;32m      3\u001b[0m \u001b[0mbacon\u001b[0m\u001b[0;34m=\u001b[0m\u001b[0;34m'xyz'\u001b[0m\u001b[0;34m\u001b[0m\u001b[0;34m\u001b[0m\u001b[0m\n\u001b[0;32m----> 4\u001b[0;31m \u001b[0;32massert\u001b[0m \u001b[0meggs\u001b[0m\u001b[0;34m.\u001b[0m\u001b[0mlower\u001b[0m\u001b[0;34m(\u001b[0m\u001b[0;34m)\u001b[0m \u001b[0;34m!=\u001b[0m \u001b[0mbacon\u001b[0m\u001b[0;34m.\u001b[0m\u001b[0mlower\u001b[0m\u001b[0;34m(\u001b[0m\u001b[0;34m)\u001b[0m\u001b[0;34m,\u001b[0m \u001b[0;34m'eggs and bacon cannot be the same (ignoring case)'\u001b[0m\u001b[0;34m\u001b[0m\u001b[0;34m\u001b[0m\u001b[0m\n\u001b[0m",
            "\u001b[0;31mAssertionError\u001b[0m: eggs and bacon cannot be the same (ignoring case)"
          ]
        }
      ]
    },
    {
      "cell_type": "code",
      "source": [
        "# sol: 3\n",
        "assert False, 'This assertion always fails'"
      ],
      "metadata": {
        "colab": {
          "base_uri": "https://localhost:8080/",
          "height": 183
        },
        "id": "C82GvCLDGVpK",
        "outputId": "269622a9-f709-48fb-fb45-b56e49128f9b"
      },
      "execution_count": 6,
      "outputs": [
        {
          "output_type": "error",
          "ename": "AssertionError",
          "evalue": "ignored",
          "traceback": [
            "\u001b[0;31m---------------------------------------------------------------------------\u001b[0m",
            "\u001b[0;31mAssertionError\u001b[0m                            Traceback (most recent call last)",
            "\u001b[0;32m<ipython-input-6-a685317ac5d4>\u001b[0m in \u001b[0;36m<cell line: 2>\u001b[0;34m()\u001b[0m\n\u001b[1;32m      1\u001b[0m \u001b[0;31m# sol: 3\u001b[0m\u001b[0;34m\u001b[0m\u001b[0;34m\u001b[0m\u001b[0m\n\u001b[0;32m----> 2\u001b[0;31m \u001b[0;32massert\u001b[0m \u001b[0;32mFalse\u001b[0m\u001b[0;34m,\u001b[0m \u001b[0;34m'This assertion always fails'\u001b[0m\u001b[0;34m\u001b[0m\u001b[0;34m\u001b[0m\u001b[0m\n\u001b[0m",
            "\u001b[0;31mAssertionError\u001b[0m: This assertion always fails"
          ]
        }
      ]
    },
    {
      "cell_type": "code",
      "source": [
        "# sol: 4\n",
        "import logging\n",
        "logging.basicConfig(level=logging.DEBUG, format=' %(asctime)s - %(levelname)s - %(message)s')\n"
      ],
      "metadata": {
        "id": "n--pKEfbGqGa"
      },
      "execution_count": 7,
      "outputs": []
    },
    {
      "cell_type": "code",
      "source": [
        "# sol: 5\n",
        "\n",
        "import logging\n",
        "\n",
        "logging.basicConfig(filename='programLog.txt', level=logging.DEBUG, format='%(asctime)s - %(levelname)s - %(message)s')\n"
      ],
      "metadata": {
        "id": "ZqIuHqCVMGF2"
      },
      "execution_count": 8,
      "outputs": []
    },
    {
      "cell_type": "code",
      "source": [
        "# sol: 6\n",
        "\n",
        "'''\n",
        "\n",
        "The five levels of logging, in increasing order of severity, are:\n",
        "\n",
        "DEBUG\n",
        "INFO\n",
        "WARNING\n",
        "ERROR\n",
        "CRITICAL\n",
        "'''"
      ],
      "metadata": {
        "colab": {
          "base_uri": "https://localhost:8080/",
          "height": 35
        },
        "id": "pFJJsXaIMQWn",
        "outputId": "3bbc8e03-a4e7-42d0-fd6d-67c922651b25"
      },
      "execution_count": 9,
      "outputs": [
        {
          "output_type": "execute_result",
          "data": {
            "text/plain": [
              "'\\n\\nThe five levels of logging, in increasing order of severity, are:\\n\\nDEBUG\\nINFO\\nWARNING\\nERROR\\nCRITICAL\\n'"
            ],
            "application/vnd.google.colaboratory.intrinsic+json": {
              "type": "string"
            }
          },
          "metadata": {},
          "execution_count": 9
        }
      ]
    },
    {
      "cell_type": "code",
      "source": [
        "# sol: 7\n",
        "logging.disable(logging.CRITICAL)\n"
      ],
      "metadata": {
        "id": "tV9PfBubMfY3"
      },
      "execution_count": 10,
      "outputs": []
    },
    {
      "cell_type": "markdown",
      "source": [
        "sol: 8\n",
        "Using logging messages is better than using print() to display the same message because:\n",
        "\n",
        "1. Logging messages can be easily disabled or enabled without having to remove or comment out print statements in the code.\n",
        "2. Logging messages can be directed to different output streams (e.g. console, file, network) based on the configuration, while print statements can only be directed to the console.\n"
      ],
      "metadata": {
        "id": "MKXMy9A6N4Ks"
      }
    },
    {
      "cell_type": "markdown",
      "source": [
        "sol: 9\n",
        "\n",
        "The Step Over button executes the current line of code and moves to the next one. If the current line contains a function call, it will execute the function without stepping into it and move to the next line.\n",
        "\n",
        "The Step In button, on the other hand, executes the current line of code and steps into the function call if the line contains one.\n",
        "\n",
        "The Step Out button is used when you have stepped into a function call using the Step In button, and now want to execute the remaining code in the current function without stepping through it line by line. It will execute the remaining lines of the function and return to the calling function."
      ],
      "metadata": {
        "id": "JDHWS-LYOC0L"
      }
    },
    {
      "cell_type": "markdown",
      "source": [
        "sol: 10 \n",
        "After clicking Continue, the debugger will stop when it reaches the next breakpoint, encounters an exception, or reaches the end of the program."
      ],
      "metadata": {
        "id": "Lq2oS-SYOQZ1"
      }
    },
    {
      "cell_type": "markdown",
      "source": [
        "sol: 11\n",
        "In programming, a breakpoint is a marker that specifies where to temporarily stop the execution of a program for debugging purposes. It is a debugging tool that allows a programmer to pause the execution of a program at a specific point during runtime and examine the program's state and variables at that point. Breakpoints are useful for locating bugs or errors in a program's code, and they can be set in most modern programming languages and development environments."
      ],
      "metadata": {
        "id": "yCeCoqZWOXlN"
      }
    }
  ]
}