{
  "nbformat": 4,
  "nbformat_minor": 0,
  "metadata": {
    "colab": {
      "provenance": []
    },
    "kernelspec": {
      "name": "python3",
      "display_name": "Python 3"
    },
    "language_info": {
      "name": "python"
    }
  },
  "cells": [
    {
      "cell_type": "code",
      "execution_count": null,
      "metadata": {
        "id": "JeG34d5pMCVf"
      },
      "outputs": [],
      "source": []
    },
    {
      "cell_type": "markdown",
      "source": [
        "1. What does an empty dictionary&#39;s code look like?\n",
        "2. What is the value of a dictionary value with the key &#39;foo&#39; and the value 42?\n",
        "3. What is the most significant distinction between a dictionary and a list?\n",
        "4. What happens if you try to access spam[&#39;foo&#39;] if spam is {&#39;bar&#39;: 100}?\n",
        "5. If a dictionary is stored in spam, what is the difference between the expressions &#39;cat&#39; in spam and\n",
        "&#39;cat&#39; in spam.keys()?\n",
        "6. If a dictionary is stored in spam, what is the difference between the expressions &#39;cat&#39; in spam and\n",
        "&#39;cat&#39; in spam.values()?\n",
        "7. What is a shortcut for the following code?\n",
        "if &#39;color&#39; not in spam:\n",
        "spam[&#39;color&#39;] = &#39;black&#39;\n",
        "\n",
        "8. How do you &quot;pretty print&quot; dictionary values using which module and function?"
      ],
      "metadata": {
        "id": "Ypo9ZE5RMMUg"
      }
    },
    {
      "cell_type": "code",
      "source": [
        "#1\n",
        "dict1={}\n",
        "print(dict1)"
      ],
      "metadata": {
        "colab": {
          "base_uri": "https://localhost:8080/"
        },
        "id": "Ad73Z8vMMOt_",
        "outputId": "99e423e4-f1a6-4ac5-dec9-2a2e71eef50b"
      },
      "execution_count": 1,
      "outputs": [
        {
          "output_type": "stream",
          "name": "stdout",
          "text": [
            "{}\n"
          ]
        }
      ]
    },
    {
      "cell_type": "code",
      "source": [
        "#2\n",
        "my_dict = {'foo': 42}\n",
        "print(my_dict['foo']) # Output: 42"
      ],
      "metadata": {
        "colab": {
          "base_uri": "https://localhost:8080/"
        },
        "id": "hnLCPgknMc8p",
        "outputId": "53e8b96d-97c4-4b0d-8c55-5851ea52fb14"
      },
      "execution_count": 2,
      "outputs": [
        {
          "output_type": "stream",
          "name": "stdout",
          "text": [
            "42\n"
          ]
        }
      ]
    },
    {
      "cell_type": "code",
      "source": [
        "'''\n",
        "3\n",
        "\n",
        "The most significant distinction between a dictionary and a list is that a dictionary is an unordered collection of key-value pairs, while a list is an ordered collection of values. In a dictionary, \n",
        "each key-value pair is separated by a colon, and each pair is separated by a comma. In a list, each value is separated by a comma, and the entire list is enclosed in square brackets. Additionally, \n",
        "dictionaries are accessed by keys rather than by index, and keys must be unique within a dictionary, while list items are accessed by index and can be duplicated.\n",
        "'''\n"
      ],
      "metadata": {
        "colab": {
          "base_uri": "https://localhost:8080/",
          "height": 70
        },
        "id": "ylFPDr53MqSP",
        "outputId": "0a83f6ad-b8ab-4757-cdf3-aa3f8b3ba1ca"
      },
      "execution_count": 3,
      "outputs": [
        {
          "output_type": "execute_result",
          "data": {
            "text/plain": [
              "'\\n3\\n\\nThe most significant distinction between a dictionary and a list is that a dictionary is an unordered collection of key-value pairs, while a list is an ordered collection of values. In a dictionary, \\neach key-value pair is separated by a colon, and each pair is separated by a comma. In a list, each value is separated by a comma, and the entire list is enclosed in square brackets. Additionally, \\ndictionaries are accessed by keys rather than by index, and keys must be unique within a dictionary, while list items are accessed by index and can be duplicated.\\n'"
            ],
            "application/vnd.google.colaboratory.intrinsic+json": {
              "type": "string"
            }
          },
          "metadata": {},
          "execution_count": 3
        }
      ]
    },
    {
      "cell_type": "code",
      "source": [
        "'''\n",
        "4\n",
        "\n",
        "a KeyError will occur, as the key 'foo' is not present in the dictionary spam.\n",
        "'''"
      ],
      "metadata": {
        "colab": {
          "base_uri": "https://localhost:8080/",
          "height": 35
        },
        "id": "-2PLbzeOM46h",
        "outputId": "e1d79a9b-0d1f-476c-f955-da91231f9a4a"
      },
      "execution_count": 4,
      "outputs": [
        {
          "output_type": "execute_result",
          "data": {
            "text/plain": [
              "\"\\n4\\n\\na KeyError will occur, as the key 'foo' is not present in the dictionary spam.\\n\""
            ],
            "application/vnd.google.colaboratory.intrinsic+json": {
              "type": "string"
            }
          },
          "metadata": {},
          "execution_count": 4
        }
      ]
    },
    {
      "cell_type": "code",
      "source": [
        "'''\n",
        "5\n",
        "There is no difference between the expressions 'cat' in spam and 'cat' in spam.keys(). Both of these expressions check if the string 'cat' is a key in the dictionary stored in the variable spam. The expression \n",
        "'cat' in spam is a shorthand way of writing 'cat' in spam.keys().\n",
        "'''"
      ],
      "metadata": {
        "colab": {
          "base_uri": "https://localhost:8080/",
          "height": 53
        },
        "id": "pcjMfjV7NHbS",
        "outputId": "a5e17ef0-350a-461b-d948-f534e4c110dc"
      },
      "execution_count": 8,
      "outputs": [
        {
          "output_type": "execute_result",
          "data": {
            "text/plain": [
              "\"\\n5\\nThere is no difference between the expressions 'cat' in spam and 'cat' in spam.keys(). Both of these expressions check if the string 'cat' is a key in the dictionary stored in the variable spam. The expression \\n'cat' in spam is a shorthand way of writing 'cat' in spam.keys().\\n\""
            ],
            "application/vnd.google.colaboratory.intrinsic+json": {
              "type": "string"
            }
          },
          "metadata": {},
          "execution_count": 8
        }
      ]
    },
    {
      "cell_type": "code",
      "source": [
        "'''\n",
        "6\n",
        "The expression `'cat' in spam` checks if the string `'cat'` is a key in the dictionary `spam`. If `'cat'` is a key in the dictionary, the expression will return `True`; otherwise, it will return `False`.\n",
        "\n",
        "The expression `'cat' in spam.values()` checks if the string `'cat'` is a value in the dictionary `spam`. If `'cat'` is a value in the dictionary, the expression will return `True`; otherwise, it will return `False`.\n",
        "'''"
      ],
      "metadata": {
        "colab": {
          "base_uri": "https://localhost:8080/",
          "height": 53
        },
        "id": "XYry_a90R3z_",
        "outputId": "03ca3767-5f14-48ee-e20b-528ac92379aa"
      },
      "execution_count": 9,
      "outputs": [
        {
          "output_type": "execute_result",
          "data": {
            "text/plain": [
              "\"\\n6\\nThe expression `'cat' in spam` checks if the string `'cat'` is a key in the dictionary `spam`. If `'cat'` is a key in the dictionary, the expression will return `True`; otherwise, it will return `False`.\\n\\nThe expression `'cat' in spam.values()` checks if the string `'cat'` is a value in the dictionary `spam`. If `'cat'` is a value in the dictionary, the expression will return `True`; otherwise, it will return `False`.\\n\""
            ],
            "application/vnd.google.colaboratory.intrinsic+json": {
              "type": "string"
            }
          },
          "metadata": {},
          "execution_count": 9
        }
      ]
    },
    {
      "cell_type": "code",
      "source": [
        "'''\n",
        "7\n",
        "\n",
        "You can use the `setdefault()` method to set a default value for a key in a dictionary if the key is not already present in the dictionary. Here's the equivalent code using `setdefault()`:\n",
        "\n",
        "spam.setdefault('color', 'black')\n",
        "\n",
        "This will set the value of `spam['color']` to `'black'` only if `'color'` is not already a key in the dictionary. If `'color'` is already a key in the dictionary, `setdefault()` does not change the value associated with that key.\n",
        "'''"
      ],
      "metadata": {
        "colab": {
          "base_uri": "https://localhost:8080/",
          "height": 70
        },
        "id": "8rpeNLbdSA3W",
        "outputId": "7dc6e197-8c8c-4fae-85d9-accd4523222c"
      },
      "execution_count": 11,
      "outputs": [
        {
          "output_type": "execute_result",
          "data": {
            "text/plain": [
              "\"\\n7\\n\\nYou can use the `setdefault()` method to set a default value for a key in a dictionary if the key is not already present in the dictionary. Here's the equivalent code using `setdefault()`:\\n\\nspam.setdefault('color', 'black')\\n\\nThis will set the value of `spam['color']` to `'black'` only if `'color'` is not already a key in the dictionary. If `'color'` is already a key in the dictionary, `setdefault()` does not change the value associated with that key.\\n\""
            ],
            "application/vnd.google.colaboratory.intrinsic+json": {
              "type": "string"
            }
          },
          "metadata": {},
          "execution_count": 11
        }
      ]
    },
    {
      "cell_type": "code",
      "source": [
        "'''\n",
        "8\n",
        "\n",
        "import pprint\n",
        "\n",
        "my_dict = {'apple': 2, 'banana': 3, 'orange': 1}\n",
        "pprint.pprint(my_dict)\n",
        "\n",
        "'''"
      ],
      "metadata": {
        "colab": {
          "base_uri": "https://localhost:8080/",
          "height": 35
        },
        "id": "Mv_u0VWvSPRV",
        "outputId": "c2dab30e-ad99-48f9-b91b-8699637b59f4"
      },
      "execution_count": 12,
      "outputs": [
        {
          "output_type": "execute_result",
          "data": {
            "text/plain": [
              "\"\\n8\\n\\nimport pprint\\n\\nmy_dict = {'apple': 2, 'banana': 3, 'orange': 1}\\npprint.pprint(my_dict)\\n\\n\""
            ],
            "application/vnd.google.colaboratory.intrinsic+json": {
              "type": "string"
            }
          },
          "metadata": {},
          "execution_count": 12
        }
      ]
    },
    {
      "cell_type": "code",
      "source": [],
      "metadata": {
        "id": "VJAQd6B9S1yn"
      },
      "execution_count": null,
      "outputs": []
    }
  ]
}